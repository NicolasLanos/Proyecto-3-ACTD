{
 "cells": [
  {
   "attachments": {},
   "cell_type": "markdown",
   "metadata": {},
   "source": [
    "# Proyecto 3. Analíticia Computacional - Tarea 1 y Visualización de Datos\n",
    "- Nicolas Ricaurte\n",
    "- Juan Camilo Bello\n",
    "\n",
    "#### Modelo predictivo para medir la probabilidad de obtener una beca del gobierno en el examen de estado de la educación superior (Saber 11) dadas las condiciones sociales"
   ]
  },
  {
   "attachments": {},
   "cell_type": "markdown",
   "metadata": {},
   "source": [
    "### Analisis exploratorio de datos\n",
    "\n",
    "En Amazon athena, se implementaron las Queries para obtener subconjuntos de datos y sacar las siguientes estadisticas y visualizaciones:\n",
    "\n",
    "- Query 1: Promedio de puntaje de acuerdo con la educación de los padres\n",
    "- Query 2: Promedio de puntaje de acuerdo con el departamento\n",
    "- Query 3: Promedio del puntaje de acuerdo con el estrato\n",
    "\n",
    "- Query 4: Cantidad de estudiantes que obtienen un puntaje mayor a 359 de acuerdo con el departamento\n",
    "- Query 5: Cantidad de estudiantes que obtienen un puntaje mayor a 359 de acuerdo con el estrato\n",
    "\n",
    "#### Finalmente se analizaron los datos en athena, notando la distribución de estos y se obtuvo la base de datos desde el 2019-1 en adelante para las columnas que queremos visualizar con el Query 6 y el Query 7 que corresponde unicamente a cundinamarca"
   ]
  },
  {
   "attachments": {},
   "cell_type": "markdown",
   "metadata": {},
   "source": [
    "#### Query 1\n",
    "\n",
    "```SQL\n",
    "SELECT fami_educacionpadre, fami_educacionmadre, AVG(punt_global) AS promedio_puntaje, STDDEV(punt_global) AS desviacion_estandar_puntaje\n",
    "FROM saber11\n",
    "GROUP BY fami_educacionpadre, fami_educacionmadre\n",
    "\n",
    "```"
   ]
  },
  {
   "attachments": {},
   "cell_type": "markdown",
   "metadata": {},
   "source": [
    "#### Query 2\n",
    "\n",
    "```SQL\n",
    "SELECT estu_depto_reside, AVG(punt_global) AS promedio_puntaje, STDDEV(punt_global) AS desviacion_estandar_puntaje\n",
    "FROM saber11\n",
    "GROUP BY estu_depto_reside\n",
    "\n",
    "```"
   ]
  },
  {
   "attachments": {},
   "cell_type": "markdown",
   "metadata": {},
   "source": [
    "#### Query 3\n",
    "```SQL\n",
    "SELECT fami_estratovivienda, AVG(punt_global) AS promedio_puntaje, STDDEV(punt_global) AS desviacion_estandar_puntaje\n",
    "FROM saber11\n",
    "GROUP BY fami_estratovivienda\n",
    "```"
   ]
  },
  {
   "attachments": {},
   "cell_type": "markdown",
   "metadata": {},
   "source": [
    "#### Query 4\n",
    "```SQL\n",
    "SELECT estu_depto_reside, COUNT(*) AS cantidad_estudiantes, SUM(CASE WHEN punt_global >= 359 THEN 1 ELSE 0 END) AS cantidad_superan_puntaje,\n",
    "        (SUM(CASE WHEN punt_global >= 359 THEN 1 ELSE 0 END) / COUNT(*)) * 100 AS porcentaje_superan_puntaje\n",
    "        (SUM(CASE WHEN punt_global >= 359 THEN 1 ELSE 0 END) / COUNT(*)) * 100 AS porcentaje_superan_puntaje\n",
    "FROM saber11\n",
    "GROUP BY estu_depto_reside\n",
    "```"
   ]
  },
  {
   "attachments": {},
   "cell_type": "markdown",
   "metadata": {},
   "source": [
    "#### Query 5\n",
    "\n",
    "```SQL\n",
    "SELECT fami_estratovivienda, COUNT(*) AS cantidad_estudiantes, SUM(CASE WHEN punt_global >= 359 THEN 1 ELSE 0 END) AS cantidad_superan_puntaje,\n",
    "        (SUM(CASE WHEN punt_global >= 359 THEN 1 ELSE 0 END) / COUNT(*)) * 100 AS porcentaje_superan_puntaje\n",
    "        (SUM(CASE WHEN punt_global >= 359 THEN 1 ELSE 0 END) / COUNT(*)) * 100 AS porcentaje_superan_puntaje\n",
    "FROM saber11\n",
    "GROUP BY fami_estratovivienda\n",
    "```"
   ]
  },
  {
   "attachments": {},
   "cell_type": "markdown",
   "metadata": {},
   "source": [
    "#### Query 6\n",
    "\n",
    "```SQL\n",
    "SELECT periodo, fami_educacionpadre, fami_educacionmadre, estu_depto_reside, fami_estratovivienda, punt_global\n",
    "FROM saber11\n",
    "WHERE periodo >= 20191\n",
    "```"
   ]
  },
  {
   "attachments": {},
   "cell_type": "markdown",
   "metadata": {},
   "source": [
    "#### Query 7\n",
    "\n",
    "```SQL\n",
    "SELECT SELECT fami_educacionpadre, fami_educacionmadre, estu_depto_reside, estu_mcpio_reside, fami_estratovivienda, punt_global\n",
    "FROM saber11\n",
    "WHERE periodo >= 20191\n",
    "AND estu_depto_reside = 'CUNDINAMARCA'\n",
    "```"
   ]
  },
  {
   "attachments": {},
   "cell_type": "markdown",
   "metadata": {},
   "source": [
    "#### Limpiar datos"
   ]
  },
  {
   "cell_type": "code",
   "execution_count": null,
   "metadata": {},
   "outputs": [],
   "source": [
    "# Desde el archivo CSV, se cargan los datos en un DataFrame de Pandas (Datosviz1.csv)\n",
    "\n",
    "import pandas as pd\n",
    "import numpy as np\n",
    "import matplotlib.pyplot as plt\n",
    "\n",
    "\n",
    "mapppping1 = {'No sabe': 0,'No Aplica': 0,'Ninguno': 0, 'Primaria incompleta': 1, 'Primaria completa': 2, 'Secundaria (Bachillerato) incompleta': 3, 'Secundaria (Bachillerato) completa': 4, 'TÃ©cnica o tecnolÃ³gica incompleta': 5, 'TÃ©cnica o tecnolÃ³gica completa': 6, 'EducaciÃ³n profesional incompleta':7,'EducaciÃ³n profesional completa':8,'Postgrado':9}\n",
    "mappping2 = {'Estrato 1': 1, 'Estrato 2': 2, 'Estrato 3': 3, 'Estrato 4': 4, 'Estrato 5': 5, 'Estrato 6': 6, 'Sin estrato': 0}\n",
    "\n",
    "# Educacion de los padres\n",
    "viz['fami_educacionmadre'] = viz['fami_educacionmadre'].map(mapppping1)\n",
    "viz['fami_educacionpadre'] = viz['fami_educacionpadre'].map(mapppping1)\n",
    "viz['fami_educacionpadre'] = viz['fami_educacionpadre'].fillna(0)\n",
    "viz['fami_educacionmadre'] = viz['fami_educacionmadre'].fillna(0)\n",
    "viz['fami_educacionpadre'] = viz['fami_educacionpadre'].astype(int)\n",
    "viz['fami_educacionmadre'] = viz['fami_educacionmadre'].astype(int)\n",
    "# Remplazar los valores de la educacion de los padres\n",
    "remplazar1 ={0: 'No Aplica', 1: 'Primaria incompleta', 2: 'Primaria completa', 3: 'Secundaria (Bachillerato) incompleta', 4: 'Secundaria (Bachillerato) completa', 5: 'Tecnica o tecnologica incompleta', 6: 'Tecnica o tecnologica completa', 7: 'Educacion profesional incompleta', 8: 'Educacion profesional completa', 9: 'Postgrado'}\n",
    "viz['fami_educacionpadre'] = viz['fami_educacionpadre'].map(remplazar1)\n",
    "viz['fami_educacionmadre'] = viz['fami_educacionmadre'].map(remplazar1)\n",
    "# Si dropnan\n",
    "viz = viz.dropna()\n",
    "\n",
    "# Estrato\n",
    "viz['fami_estratovivienda'] = viz['fami_estratovivienda'].map(mappping2)\n",
    "viz['fami_estratovivienda'] = viz['fami_estratovivienda'].fillna(0)\n",
    "\n",
    "# Remplazar los valores de la educacion de los padres\n",
    "remplazar2 ={0: 'Sin estrato', 1: 'Estrato 1', 2: 'Estrato 2', 3: 'Estrato 3', 4: 'Estrato 4', 5: 'Estrato 5', 6: 'Estrato 6'}\n",
    "viz['fami_estratovivienda'] = viz['fami_estratovivienda'].map(remplazar2)\n",
    "\n",
    "# Departamento\n",
    "# Juntar todos los valores de la columna departamentos que digan valle o cauca en VALLE DEL CAUCA\n",
    "viz['estu_depto_reside'] = viz['estu_depto_reside'].replace('CAUCA', 'VALLE DEL CAUCA')\n",
    "viz['estu_depto_reside'] = viz['estu_depto_reside'].replace('VALLE', 'VALLE DEL CAUCA')\n",
    "# Eliminar sin en departamento dice EXTRANJERO\n",
    "viz = viz[viz.estu_depto_reside != 'EXTRANJERO']\n",
    "viz = viz[viz.estu_depto_reside != '13212']\n",
    "viz = viz[viz.estu_depto_reside != '11001']"
   ]
  },
  {
   "cell_type": "code",
   "execution_count": 14,
   "metadata": {},
   "outputs": [],
   "source": [
    "import pandas as pd\n",
    "import numpy as np\n",
    "\n",
    "# Cargar los datos\n",
    "viz = pd.read_csv('visualizacionLimpio.csv')"
   ]
  },
  {
   "cell_type": "code",
   "execution_count": 15,
   "metadata": {},
   "outputs": [
    {
     "name": "stdout",
     "output_type": "stream",
     "text": [
      "['Secundaria (Bachillerato) incompleta'\n",
      " 'Secundaria (Bachillerato) completa' 'Primaria completa' 'No Aplica'\n",
      " 'Primaria incompleta' 'Postgrado']\n",
      "\n",
      "['Secundaria (Bachillerato) completa'\n",
      " 'Secundaria (Bachillerato) incompleta' 'No Aplica' 'Primaria incompleta'\n",
      " 'Primaria completa' 'Postgrado']\n",
      "\n",
      "['NORTE SANTANDER' 'CESAR' 'CUNDINAMARCA' 'RISARALDA' 'ANTIOQUIA' 'BOGOTÁ'\n",
      " 'HUILA' 'VALLE DEL CAUCA' 'SANTANDER' 'ATLANTICO' 'CASANARE' 'CORDOBA'\n",
      " 'TOLIMA' 'META' 'LA GUAJIRA' 'BOLIVAR' 'NARIÑO' 'MAGDALENA' 'BOYACA'\n",
      " 'CHOCO' 'SUCRE' 'CALDAS' 'QUINDIO' 'ARAUCA' 'GUAINIA' 'CAQUETA'\n",
      " 'SAN ANDRES' 'PUTUMAYO' 'VICHADA' 'AMAZONAS' 'GUAVIARE' 'VAUPES']\n",
      "\n",
      "['Estrato 1' 'Estrato 2' 'Estrato 3' 'Sin estrato' 'Estrato 5' 'Estrato 4'\n",
      " 'Estrato 6']\n"
     ]
    }
   ],
   "source": [
    "# Imprimir los valores unicos de la columna fami_educacionpadre\n",
    "print(viz['fami_educacionpadre'].unique())\n",
    "print()\n",
    "# Imprimir los valores unicos de la columna fami_educacionmadre\n",
    "print(viz['fami_educacionmadre'].unique())\n",
    "print()\n",
    "# Imprimir los valores unicos de la columna estu_depto_reside\n",
    "print(viz['estu_depto_reside'].unique())\n",
    "print()\n",
    "# Imprimir los valores unicos de la columna fami_estratovivienda\n",
    "print(viz['fami_estratovivienda'].unique())"
   ]
  },
  {
   "cell_type": "code",
   "execution_count": 16,
   "metadata": {},
   "outputs": [
    {
     "name": "stdout",
     "output_type": "stream",
     "text": [
      "251.54645703833236\n",
      "BOGOTÁ             147156\n",
      "ANTIOQUIA          135750\n",
      "VALLE DEL CAUCA     97100\n",
      "CUNDINAMARCA        65684\n",
      "ATLANTICO           57442\n",
      "BOLIVAR             48602\n",
      "SANTANDER           46404\n",
      "CORDOBA             41132\n",
      "NORTE SANTANDER     31294\n",
      "MAGDALENA           30880\n",
      "TOLIMA              29886\n",
      "NARIÑO              29608\n",
      "BOYACA              28660\n",
      "HUILA               24852\n",
      "CESAR               24830\n",
      "META                22024\n",
      "SUCRE               20576\n",
      "CALDAS              18886\n",
      "RISARALDA           18356\n",
      "LA GUAJIRA          17614\n",
      "QUINDIO             10586\n",
      "CASANARE            10344\n",
      "CHOCO                8628\n",
      "CAQUETA              7362\n",
      "PUTUMAYO             7068\n",
      "ARAUCA               6080\n",
      "GUAVIARE             1842\n",
      "AMAZONAS             1494\n",
      "VICHADA              1132\n",
      "SAN ANDRES           1106\n",
      "VAUPES                764\n",
      "GUAINIA               744\n",
      "Name: estu_depto_reside, dtype: int64\n",
      "Estrato 2      360308\n",
      "Estrato 1      292676\n",
      "Estrato 3      220562\n",
      "Estrato 4       56126\n",
      "Sin estrato     39590\n",
      "Estrato 5       16872\n",
      "Estrato 6        7752\n",
      "Name: fami_estratovivienda, dtype: int64\n"
     ]
    }
   ],
   "source": [
    "# Encontrar promedio de los punt_global\n",
    "promedio = viz['punt_global'].mean()\n",
    "print(promedio)\n",
    "\n",
    "# Cuantos estudiantes hay por departamento\n",
    "estrat = viz['estu_depto_reside'].value_counts()\n",
    "print(estrat)\n",
    "# Cuantos estudiantes hay por estrato\n",
    "print(viz['fami_estratovivienda'].value_counts())"
   ]
  },
  {
   "cell_type": "code",
   "execution_count": 17,
   "metadata": {},
   "outputs": [],
   "source": [
    "# Crear df nuevo con el promedio del puntaje global por departamento\n",
    "promedio_dep = viz.groupby('estu_depto_reside')['punt_global'].mean()\n",
    "# Agregar columna de desviacion estandar\n",
    "promedio_dep = pd.DataFrame(promedio_dep)\n",
    "promedio_dep['desviacion'] = viz.groupby('estu_depto_reside')['punt_global'].std()"
   ]
  },
  {
   "cell_type": "code",
   "execution_count": 18,
   "metadata": {},
   "outputs": [],
   "source": [
    "# Crear df nuevo con el promedio del puntaje global por estrato\n",
    "promedio_estrato = viz.groupby('fami_estratovivienda')['punt_global'].mean()\n",
    "# Agregar columna de desviacion estandar\n",
    "promedio_estrato = pd.DataFrame(promedio_estrato)\n",
    "promedio_estrato['desviacion'] = viz.groupby('fami_estratovivienda')['punt_global'].std()\n",
    "\n",
    "# Crear df nuevo con el promedio del puntaje global por educacion del padre y madre\n",
    "promedio_educacion = viz.groupby(['fami_educacionpadre', 'fami_educacionmadre'])['punt_global'].mean()\n",
    "# Agregar columna de desviacion estandar\n",
    "promedio_educacion = pd.DataFrame(promedio_educacion)\n",
    "promedio_educacion['desviacion'] = viz.groupby(['fami_educacionpadre', 'fami_educacionmadre'])['punt_global'].std()\n",
    "\n"
   ]
  },
  {
   "attachments": {},
   "cell_type": "markdown",
   "metadata": {},
   "source": [
    "# Visualización 1"
   ]
  },
  {
   "cell_type": "code",
   "execution_count": 19,
   "metadata": {},
   "outputs": [
    {
     "data": {
      "application/vnd.plotly.v1+json": {
       "config": {
        "plotlyServerURL": "https://plot.ly"
       },
       "data": [
        {
         "alignmentgroup": "True",
         "hovertemplate": "Puntaje global promedio=%{marker.color}<br>Educacion del padre=%{y}<extra></extra>",
         "legendgroup": "",
         "marker": {
          "color": [
           271.0908297030896,
           264.91045321637426,
           259.33308261251096,
           249.69976279227382,
           240.6977329974811
          ],
          "coloraxis": "coloraxis",
          "pattern": {
           "shape": ""
          }
         },
         "name": "",
         "offsetgroup": "",
         "orientation": "h",
         "showlegend": false,
         "textposition": "auto",
         "type": "bar",
         "x": [
          271.0908297030896,
          264.91045321637426,
          259.33308261251096,
          249.69976279227382,
          240.6977329974811
         ],
         "xaxis": "x",
         "y": [
          "No Aplica",
          "Secundaria (Bachillerato) completa",
          "Secundaria (Bachillerato) incompleta",
          "Primaria completa",
          "Primaria incompleta"
         ],
         "yaxis": "y"
        }
       ],
       "layout": {
        "barmode": "relative",
        "coloraxis": {
         "colorbar": {
          "title": {
           "text": "Puntaje global promedio"
          }
         },
         "colorscale": [
          [
           0,
           "rgb(210, 251, 212)"
          ],
          [
           0.16666666666666666,
           "rgb(165, 219, 194)"
          ],
          [
           0.3333333333333333,
           "rgb(123, 188, 176)"
          ],
          [
           0.5,
           "rgb(85, 156, 158)"
          ],
          [
           0.6666666666666666,
           "rgb(58, 124, 137)"
          ],
          [
           0.8333333333333334,
           "rgb(35, 93, 114)"
          ],
          [
           1,
           "rgb(18, 63, 90)"
          ]
         ]
        },
        "legend": {
         "tracegroupgap": 0
        },
        "template": {
         "data": {
          "bar": [
           {
            "error_x": {
             "color": "#2a3f5f"
            },
            "error_y": {
             "color": "#2a3f5f"
            },
            "marker": {
             "line": {
              "color": "#E5ECF6",
              "width": 0.5
             },
             "pattern": {
              "fillmode": "overlay",
              "size": 10,
              "solidity": 0.2
             }
            },
            "type": "bar"
           }
          ],
          "barpolar": [
           {
            "marker": {
             "line": {
              "color": "#E5ECF6",
              "width": 0.5
             },
             "pattern": {
              "fillmode": "overlay",
              "size": 10,
              "solidity": 0.2
             }
            },
            "type": "barpolar"
           }
          ],
          "carpet": [
           {
            "aaxis": {
             "endlinecolor": "#2a3f5f",
             "gridcolor": "white",
             "linecolor": "white",
             "minorgridcolor": "white",
             "startlinecolor": "#2a3f5f"
            },
            "baxis": {
             "endlinecolor": "#2a3f5f",
             "gridcolor": "white",
             "linecolor": "white",
             "minorgridcolor": "white",
             "startlinecolor": "#2a3f5f"
            },
            "type": "carpet"
           }
          ],
          "choropleth": [
           {
            "colorbar": {
             "outlinewidth": 0,
             "ticks": ""
            },
            "type": "choropleth"
           }
          ],
          "contour": [
           {
            "colorbar": {
             "outlinewidth": 0,
             "ticks": ""
            },
            "colorscale": [
             [
              0,
              "#0d0887"
             ],
             [
              0.1111111111111111,
              "#46039f"
             ],
             [
              0.2222222222222222,
              "#7201a8"
             ],
             [
              0.3333333333333333,
              "#9c179e"
             ],
             [
              0.4444444444444444,
              "#bd3786"
             ],
             [
              0.5555555555555556,
              "#d8576b"
             ],
             [
              0.6666666666666666,
              "#ed7953"
             ],
             [
              0.7777777777777778,
              "#fb9f3a"
             ],
             [
              0.8888888888888888,
              "#fdca26"
             ],
             [
              1,
              "#f0f921"
             ]
            ],
            "type": "contour"
           }
          ],
          "contourcarpet": [
           {
            "colorbar": {
             "outlinewidth": 0,
             "ticks": ""
            },
            "type": "contourcarpet"
           }
          ],
          "heatmap": [
           {
            "colorbar": {
             "outlinewidth": 0,
             "ticks": ""
            },
            "colorscale": [
             [
              0,
              "#0d0887"
             ],
             [
              0.1111111111111111,
              "#46039f"
             ],
             [
              0.2222222222222222,
              "#7201a8"
             ],
             [
              0.3333333333333333,
              "#9c179e"
             ],
             [
              0.4444444444444444,
              "#bd3786"
             ],
             [
              0.5555555555555556,
              "#d8576b"
             ],
             [
              0.6666666666666666,
              "#ed7953"
             ],
             [
              0.7777777777777778,
              "#fb9f3a"
             ],
             [
              0.8888888888888888,
              "#fdca26"
             ],
             [
              1,
              "#f0f921"
             ]
            ],
            "type": "heatmap"
           }
          ],
          "heatmapgl": [
           {
            "colorbar": {
             "outlinewidth": 0,
             "ticks": ""
            },
            "colorscale": [
             [
              0,
              "#0d0887"
             ],
             [
              0.1111111111111111,
              "#46039f"
             ],
             [
              0.2222222222222222,
              "#7201a8"
             ],
             [
              0.3333333333333333,
              "#9c179e"
             ],
             [
              0.4444444444444444,
              "#bd3786"
             ],
             [
              0.5555555555555556,
              "#d8576b"
             ],
             [
              0.6666666666666666,
              "#ed7953"
             ],
             [
              0.7777777777777778,
              "#fb9f3a"
             ],
             [
              0.8888888888888888,
              "#fdca26"
             ],
             [
              1,
              "#f0f921"
             ]
            ],
            "type": "heatmapgl"
           }
          ],
          "histogram": [
           {
            "marker": {
             "pattern": {
              "fillmode": "overlay",
              "size": 10,
              "solidity": 0.2
             }
            },
            "type": "histogram"
           }
          ],
          "histogram2d": [
           {
            "colorbar": {
             "outlinewidth": 0,
             "ticks": ""
            },
            "colorscale": [
             [
              0,
              "#0d0887"
             ],
             [
              0.1111111111111111,
              "#46039f"
             ],
             [
              0.2222222222222222,
              "#7201a8"
             ],
             [
              0.3333333333333333,
              "#9c179e"
             ],
             [
              0.4444444444444444,
              "#bd3786"
             ],
             [
              0.5555555555555556,
              "#d8576b"
             ],
             [
              0.6666666666666666,
              "#ed7953"
             ],
             [
              0.7777777777777778,
              "#fb9f3a"
             ],
             [
              0.8888888888888888,
              "#fdca26"
             ],
             [
              1,
              "#f0f921"
             ]
            ],
            "type": "histogram2d"
           }
          ],
          "histogram2dcontour": [
           {
            "colorbar": {
             "outlinewidth": 0,
             "ticks": ""
            },
            "colorscale": [
             [
              0,
              "#0d0887"
             ],
             [
              0.1111111111111111,
              "#46039f"
             ],
             [
              0.2222222222222222,
              "#7201a8"
             ],
             [
              0.3333333333333333,
              "#9c179e"
             ],
             [
              0.4444444444444444,
              "#bd3786"
             ],
             [
              0.5555555555555556,
              "#d8576b"
             ],
             [
              0.6666666666666666,
              "#ed7953"
             ],
             [
              0.7777777777777778,
              "#fb9f3a"
             ],
             [
              0.8888888888888888,
              "#fdca26"
             ],
             [
              1,
              "#f0f921"
             ]
            ],
            "type": "histogram2dcontour"
           }
          ],
          "mesh3d": [
           {
            "colorbar": {
             "outlinewidth": 0,
             "ticks": ""
            },
            "type": "mesh3d"
           }
          ],
          "parcoords": [
           {
            "line": {
             "colorbar": {
              "outlinewidth": 0,
              "ticks": ""
             }
            },
            "type": "parcoords"
           }
          ],
          "pie": [
           {
            "automargin": true,
            "type": "pie"
           }
          ],
          "scatter": [
           {
            "fillpattern": {
             "fillmode": "overlay",
             "size": 10,
             "solidity": 0.2
            },
            "type": "scatter"
           }
          ],
          "scatter3d": [
           {
            "line": {
             "colorbar": {
              "outlinewidth": 0,
              "ticks": ""
             }
            },
            "marker": {
             "colorbar": {
              "outlinewidth": 0,
              "ticks": ""
             }
            },
            "type": "scatter3d"
           }
          ],
          "scattercarpet": [
           {
            "marker": {
             "colorbar": {
              "outlinewidth": 0,
              "ticks": ""
             }
            },
            "type": "scattercarpet"
           }
          ],
          "scattergeo": [
           {
            "marker": {
             "colorbar": {
              "outlinewidth": 0,
              "ticks": ""
             }
            },
            "type": "scattergeo"
           }
          ],
          "scattergl": [
           {
            "marker": {
             "colorbar": {
              "outlinewidth": 0,
              "ticks": ""
             }
            },
            "type": "scattergl"
           }
          ],
          "scattermapbox": [
           {
            "marker": {
             "colorbar": {
              "outlinewidth": 0,
              "ticks": ""
             }
            },
            "type": "scattermapbox"
           }
          ],
          "scatterpolar": [
           {
            "marker": {
             "colorbar": {
              "outlinewidth": 0,
              "ticks": ""
             }
            },
            "type": "scatterpolar"
           }
          ],
          "scatterpolargl": [
           {
            "marker": {
             "colorbar": {
              "outlinewidth": 0,
              "ticks": ""
             }
            },
            "type": "scatterpolargl"
           }
          ],
          "scatterternary": [
           {
            "marker": {
             "colorbar": {
              "outlinewidth": 0,
              "ticks": ""
             }
            },
            "type": "scatterternary"
           }
          ],
          "surface": [
           {
            "colorbar": {
             "outlinewidth": 0,
             "ticks": ""
            },
            "colorscale": [
             [
              0,
              "#0d0887"
             ],
             [
              0.1111111111111111,
              "#46039f"
             ],
             [
              0.2222222222222222,
              "#7201a8"
             ],
             [
              0.3333333333333333,
              "#9c179e"
             ],
             [
              0.4444444444444444,
              "#bd3786"
             ],
             [
              0.5555555555555556,
              "#d8576b"
             ],
             [
              0.6666666666666666,
              "#ed7953"
             ],
             [
              0.7777777777777778,
              "#fb9f3a"
             ],
             [
              0.8888888888888888,
              "#fdca26"
             ],
             [
              1,
              "#f0f921"
             ]
            ],
            "type": "surface"
           }
          ],
          "table": [
           {
            "cells": {
             "fill": {
              "color": "#EBF0F8"
             },
             "line": {
              "color": "white"
             }
            },
            "header": {
             "fill": {
              "color": "#C8D4E3"
             },
             "line": {
              "color": "white"
             }
            },
            "type": "table"
           }
          ]
         },
         "layout": {
          "annotationdefaults": {
           "arrowcolor": "#2a3f5f",
           "arrowhead": 0,
           "arrowwidth": 1
          },
          "autotypenumbers": "strict",
          "coloraxis": {
           "colorbar": {
            "outlinewidth": 0,
            "ticks": ""
           }
          },
          "colorscale": {
           "diverging": [
            [
             0,
             "#8e0152"
            ],
            [
             0.1,
             "#c51b7d"
            ],
            [
             0.2,
             "#de77ae"
            ],
            [
             0.3,
             "#f1b6da"
            ],
            [
             0.4,
             "#fde0ef"
            ],
            [
             0.5,
             "#f7f7f7"
            ],
            [
             0.6,
             "#e6f5d0"
            ],
            [
             0.7,
             "#b8e186"
            ],
            [
             0.8,
             "#7fbc41"
            ],
            [
             0.9,
             "#4d9221"
            ],
            [
             1,
             "#276419"
            ]
           ],
           "sequential": [
            [
             0,
             "#0d0887"
            ],
            [
             0.1111111111111111,
             "#46039f"
            ],
            [
             0.2222222222222222,
             "#7201a8"
            ],
            [
             0.3333333333333333,
             "#9c179e"
            ],
            [
             0.4444444444444444,
             "#bd3786"
            ],
            [
             0.5555555555555556,
             "#d8576b"
            ],
            [
             0.6666666666666666,
             "#ed7953"
            ],
            [
             0.7777777777777778,
             "#fb9f3a"
            ],
            [
             0.8888888888888888,
             "#fdca26"
            ],
            [
             1,
             "#f0f921"
            ]
           ],
           "sequentialminus": [
            [
             0,
             "#0d0887"
            ],
            [
             0.1111111111111111,
             "#46039f"
            ],
            [
             0.2222222222222222,
             "#7201a8"
            ],
            [
             0.3333333333333333,
             "#9c179e"
            ],
            [
             0.4444444444444444,
             "#bd3786"
            ],
            [
             0.5555555555555556,
             "#d8576b"
            ],
            [
             0.6666666666666666,
             "#ed7953"
            ],
            [
             0.7777777777777778,
             "#fb9f3a"
            ],
            [
             0.8888888888888888,
             "#fdca26"
            ],
            [
             1,
             "#f0f921"
            ]
           ]
          },
          "colorway": [
           "#636efa",
           "#EF553B",
           "#00cc96",
           "#ab63fa",
           "#FFA15A",
           "#19d3f3",
           "#FF6692",
           "#B6E880",
           "#FF97FF",
           "#FECB52"
          ],
          "font": {
           "color": "#2a3f5f"
          },
          "geo": {
           "bgcolor": "white",
           "lakecolor": "white",
           "landcolor": "#E5ECF6",
           "showlakes": true,
           "showland": true,
           "subunitcolor": "white"
          },
          "hoverlabel": {
           "align": "left"
          },
          "hovermode": "closest",
          "mapbox": {
           "style": "light"
          },
          "paper_bgcolor": "white",
          "plot_bgcolor": "#E5ECF6",
          "polar": {
           "angularaxis": {
            "gridcolor": "white",
            "linecolor": "white",
            "ticks": ""
           },
           "bgcolor": "#E5ECF6",
           "radialaxis": {
            "gridcolor": "white",
            "linecolor": "white",
            "ticks": ""
           }
          },
          "scene": {
           "xaxis": {
            "backgroundcolor": "#E5ECF6",
            "gridcolor": "white",
            "gridwidth": 2,
            "linecolor": "white",
            "showbackground": true,
            "ticks": "",
            "zerolinecolor": "white"
           },
           "yaxis": {
            "backgroundcolor": "#E5ECF6",
            "gridcolor": "white",
            "gridwidth": 2,
            "linecolor": "white",
            "showbackground": true,
            "ticks": "",
            "zerolinecolor": "white"
           },
           "zaxis": {
            "backgroundcolor": "#E5ECF6",
            "gridcolor": "white",
            "gridwidth": 2,
            "linecolor": "white",
            "showbackground": true,
            "ticks": "",
            "zerolinecolor": "white"
           }
          },
          "shapedefaults": {
           "line": {
            "color": "#2a3f5f"
           }
          },
          "ternary": {
           "aaxis": {
            "gridcolor": "white",
            "linecolor": "white",
            "ticks": ""
           },
           "baxis": {
            "gridcolor": "white",
            "linecolor": "white",
            "ticks": ""
           },
           "bgcolor": "#E5ECF6",
           "caxis": {
            "gridcolor": "white",
            "linecolor": "white",
            "ticks": ""
           }
          },
          "title": {
           "x": 0.05
          },
          "xaxis": {
           "automargin": true,
           "gridcolor": "white",
           "linecolor": "white",
           "ticks": "",
           "title": {
            "standoff": 15
           },
           "zerolinecolor": "white",
           "zerolinewidth": 2
          },
          "yaxis": {
           "automargin": true,
           "gridcolor": "white",
           "linecolor": "white",
           "ticks": "",
           "title": {
            "standoff": 15
           },
           "zerolinecolor": "white",
           "zerolinewidth": 2
          }
         }
        },
        "title": {
         "text": "Puntaje promedio por educacion del padre"
        },
        "xaxis": {
         "anchor": "y",
         "domain": [
          0,
          1
         ],
         "title": {
          "text": "Puntaje global promedio"
         }
        },
        "yaxis": {
         "anchor": "x",
         "domain": [
          0,
          1
         ],
         "title": {
          "text": "Educacion del padre"
         }
        }
       }
      }
     },
     "metadata": {},
     "output_type": "display_data"
    }
   ],
   "source": [
    "import plotly.express as px\n",
    "\n",
    "# Crear df solo para padre con puntaje promedio y desvest\n",
    "padre = promedio_educacion.loc[promedio_educacion.index.get_level_values('fami_educacionmadre') == 'No Aplica']\n",
    "padre = padre.reset_index()\n",
    "padre = padre.drop(['fami_educacionmadre'], axis=1)\n",
    "padre = padre.rename(columns={'fami_educacionpadre': 'Educacion del padre'})\n",
    "padre = padre.sort_values(by=['punt_global'], ascending=False)\n",
    "padre = padre.reset_index()\n",
    "padre = padre.drop(['index'], axis=1)\n",
    "padre = padre.drop(['desviacion'], axis=1)\n",
    "padre = padre.drop([0], axis=0)\n",
    "padre = padre.reset_index()\n",
    "\n",
    "# Graficar gráfica de barras horizontales\n",
    "fig = px.bar(\n",
    "    padre,\n",
    "    y='Educacion del padre',\n",
    "    x='punt_global',\n",
    "    color='punt_global',\n",
    "    color_continuous_scale='darkmint',\n",
    "    orientation='h',\n",
    "    title='Puntaje promedio por educacion del padre',\n",
    "    labels={'punt_global': 'Puntaje global promedio'}\n",
    ")\n",
    "fig.show()"
   ]
  },
  {
   "cell_type": "code",
   "execution_count": 20,
   "metadata": {},
   "outputs": [
    {
     "data": {
      "application/vnd.plotly.v1+json": {
       "config": {
        "plotlyServerURL": "https://plot.ly"
       },
       "data": [
        {
         "alignmentgroup": "True",
         "hovertemplate": "Puntaje global promedio=%{marker.color}<br>Educacion de la madre=%{y}<extra></extra>",
         "legendgroup": "",
         "marker": {
          "color": [
           271.0908297030896,
           258.5735594479173,
           245.297977779554,
           234.11789181692095,
           228.23089564502877
          ],
          "coloraxis": "coloraxis",
          "pattern": {
           "shape": ""
          }
         },
         "name": "",
         "offsetgroup": "",
         "orientation": "h",
         "showlegend": false,
         "textposition": "auto",
         "type": "bar",
         "x": [
          271.0908297030896,
          258.5735594479173,
          245.297977779554,
          234.11789181692095,
          228.23089564502877
         ],
         "xaxis": "x",
         "y": [
          "No Aplica",
          "Secundaria (Bachillerato) completa",
          "Secundaria (Bachillerato) incompleta",
          "Primaria completa",
          "Primaria incompleta"
         ],
         "yaxis": "y"
        }
       ],
       "layout": {
        "barmode": "relative",
        "coloraxis": {
         "colorbar": {
          "title": {
           "text": "Puntaje global promedio"
          }
         },
         "colorscale": [
          [
           0,
           "rgb(210, 251, 212)"
          ],
          [
           0.16666666666666666,
           "rgb(165, 219, 194)"
          ],
          [
           0.3333333333333333,
           "rgb(123, 188, 176)"
          ],
          [
           0.5,
           "rgb(85, 156, 158)"
          ],
          [
           0.6666666666666666,
           "rgb(58, 124, 137)"
          ],
          [
           0.8333333333333334,
           "rgb(35, 93, 114)"
          ],
          [
           1,
           "rgb(18, 63, 90)"
          ]
         ]
        },
        "legend": {
         "tracegroupgap": 0
        },
        "template": {
         "data": {
          "bar": [
           {
            "error_x": {
             "color": "#2a3f5f"
            },
            "error_y": {
             "color": "#2a3f5f"
            },
            "marker": {
             "line": {
              "color": "#E5ECF6",
              "width": 0.5
             },
             "pattern": {
              "fillmode": "overlay",
              "size": 10,
              "solidity": 0.2
             }
            },
            "type": "bar"
           }
          ],
          "barpolar": [
           {
            "marker": {
             "line": {
              "color": "#E5ECF6",
              "width": 0.5
             },
             "pattern": {
              "fillmode": "overlay",
              "size": 10,
              "solidity": 0.2
             }
            },
            "type": "barpolar"
           }
          ],
          "carpet": [
           {
            "aaxis": {
             "endlinecolor": "#2a3f5f",
             "gridcolor": "white",
             "linecolor": "white",
             "minorgridcolor": "white",
             "startlinecolor": "#2a3f5f"
            },
            "baxis": {
             "endlinecolor": "#2a3f5f",
             "gridcolor": "white",
             "linecolor": "white",
             "minorgridcolor": "white",
             "startlinecolor": "#2a3f5f"
            },
            "type": "carpet"
           }
          ],
          "choropleth": [
           {
            "colorbar": {
             "outlinewidth": 0,
             "ticks": ""
            },
            "type": "choropleth"
           }
          ],
          "contour": [
           {
            "colorbar": {
             "outlinewidth": 0,
             "ticks": ""
            },
            "colorscale": [
             [
              0,
              "#0d0887"
             ],
             [
              0.1111111111111111,
              "#46039f"
             ],
             [
              0.2222222222222222,
              "#7201a8"
             ],
             [
              0.3333333333333333,
              "#9c179e"
             ],
             [
              0.4444444444444444,
              "#bd3786"
             ],
             [
              0.5555555555555556,
              "#d8576b"
             ],
             [
              0.6666666666666666,
              "#ed7953"
             ],
             [
              0.7777777777777778,
              "#fb9f3a"
             ],
             [
              0.8888888888888888,
              "#fdca26"
             ],
             [
              1,
              "#f0f921"
             ]
            ],
            "type": "contour"
           }
          ],
          "contourcarpet": [
           {
            "colorbar": {
             "outlinewidth": 0,
             "ticks": ""
            },
            "type": "contourcarpet"
           }
          ],
          "heatmap": [
           {
            "colorbar": {
             "outlinewidth": 0,
             "ticks": ""
            },
            "colorscale": [
             [
              0,
              "#0d0887"
             ],
             [
              0.1111111111111111,
              "#46039f"
             ],
             [
              0.2222222222222222,
              "#7201a8"
             ],
             [
              0.3333333333333333,
              "#9c179e"
             ],
             [
              0.4444444444444444,
              "#bd3786"
             ],
             [
              0.5555555555555556,
              "#d8576b"
             ],
             [
              0.6666666666666666,
              "#ed7953"
             ],
             [
              0.7777777777777778,
              "#fb9f3a"
             ],
             [
              0.8888888888888888,
              "#fdca26"
             ],
             [
              1,
              "#f0f921"
             ]
            ],
            "type": "heatmap"
           }
          ],
          "heatmapgl": [
           {
            "colorbar": {
             "outlinewidth": 0,
             "ticks": ""
            },
            "colorscale": [
             [
              0,
              "#0d0887"
             ],
             [
              0.1111111111111111,
              "#46039f"
             ],
             [
              0.2222222222222222,
              "#7201a8"
             ],
             [
              0.3333333333333333,
              "#9c179e"
             ],
             [
              0.4444444444444444,
              "#bd3786"
             ],
             [
              0.5555555555555556,
              "#d8576b"
             ],
             [
              0.6666666666666666,
              "#ed7953"
             ],
             [
              0.7777777777777778,
              "#fb9f3a"
             ],
             [
              0.8888888888888888,
              "#fdca26"
             ],
             [
              1,
              "#f0f921"
             ]
            ],
            "type": "heatmapgl"
           }
          ],
          "histogram": [
           {
            "marker": {
             "pattern": {
              "fillmode": "overlay",
              "size": 10,
              "solidity": 0.2
             }
            },
            "type": "histogram"
           }
          ],
          "histogram2d": [
           {
            "colorbar": {
             "outlinewidth": 0,
             "ticks": ""
            },
            "colorscale": [
             [
              0,
              "#0d0887"
             ],
             [
              0.1111111111111111,
              "#46039f"
             ],
             [
              0.2222222222222222,
              "#7201a8"
             ],
             [
              0.3333333333333333,
              "#9c179e"
             ],
             [
              0.4444444444444444,
              "#bd3786"
             ],
             [
              0.5555555555555556,
              "#d8576b"
             ],
             [
              0.6666666666666666,
              "#ed7953"
             ],
             [
              0.7777777777777778,
              "#fb9f3a"
             ],
             [
              0.8888888888888888,
              "#fdca26"
             ],
             [
              1,
              "#f0f921"
             ]
            ],
            "type": "histogram2d"
           }
          ],
          "histogram2dcontour": [
           {
            "colorbar": {
             "outlinewidth": 0,
             "ticks": ""
            },
            "colorscale": [
             [
              0,
              "#0d0887"
             ],
             [
              0.1111111111111111,
              "#46039f"
             ],
             [
              0.2222222222222222,
              "#7201a8"
             ],
             [
              0.3333333333333333,
              "#9c179e"
             ],
             [
              0.4444444444444444,
              "#bd3786"
             ],
             [
              0.5555555555555556,
              "#d8576b"
             ],
             [
              0.6666666666666666,
              "#ed7953"
             ],
             [
              0.7777777777777778,
              "#fb9f3a"
             ],
             [
              0.8888888888888888,
              "#fdca26"
             ],
             [
              1,
              "#f0f921"
             ]
            ],
            "type": "histogram2dcontour"
           }
          ],
          "mesh3d": [
           {
            "colorbar": {
             "outlinewidth": 0,
             "ticks": ""
            },
            "type": "mesh3d"
           }
          ],
          "parcoords": [
           {
            "line": {
             "colorbar": {
              "outlinewidth": 0,
              "ticks": ""
             }
            },
            "type": "parcoords"
           }
          ],
          "pie": [
           {
            "automargin": true,
            "type": "pie"
           }
          ],
          "scatter": [
           {
            "fillpattern": {
             "fillmode": "overlay",
             "size": 10,
             "solidity": 0.2
            },
            "type": "scatter"
           }
          ],
          "scatter3d": [
           {
            "line": {
             "colorbar": {
              "outlinewidth": 0,
              "ticks": ""
             }
            },
            "marker": {
             "colorbar": {
              "outlinewidth": 0,
              "ticks": ""
             }
            },
            "type": "scatter3d"
           }
          ],
          "scattercarpet": [
           {
            "marker": {
             "colorbar": {
              "outlinewidth": 0,
              "ticks": ""
             }
            },
            "type": "scattercarpet"
           }
          ],
          "scattergeo": [
           {
            "marker": {
             "colorbar": {
              "outlinewidth": 0,
              "ticks": ""
             }
            },
            "type": "scattergeo"
           }
          ],
          "scattergl": [
           {
            "marker": {
             "colorbar": {
              "outlinewidth": 0,
              "ticks": ""
             }
            },
            "type": "scattergl"
           }
          ],
          "scattermapbox": [
           {
            "marker": {
             "colorbar": {
              "outlinewidth": 0,
              "ticks": ""
             }
            },
            "type": "scattermapbox"
           }
          ],
          "scatterpolar": [
           {
            "marker": {
             "colorbar": {
              "outlinewidth": 0,
              "ticks": ""
             }
            },
            "type": "scatterpolar"
           }
          ],
          "scatterpolargl": [
           {
            "marker": {
             "colorbar": {
              "outlinewidth": 0,
              "ticks": ""
             }
            },
            "type": "scatterpolargl"
           }
          ],
          "scatterternary": [
           {
            "marker": {
             "colorbar": {
              "outlinewidth": 0,
              "ticks": ""
             }
            },
            "type": "scatterternary"
           }
          ],
          "surface": [
           {
            "colorbar": {
             "outlinewidth": 0,
             "ticks": ""
            },
            "colorscale": [
             [
              0,
              "#0d0887"
             ],
             [
              0.1111111111111111,
              "#46039f"
             ],
             [
              0.2222222222222222,
              "#7201a8"
             ],
             [
              0.3333333333333333,
              "#9c179e"
             ],
             [
              0.4444444444444444,
              "#bd3786"
             ],
             [
              0.5555555555555556,
              "#d8576b"
             ],
             [
              0.6666666666666666,
              "#ed7953"
             ],
             [
              0.7777777777777778,
              "#fb9f3a"
             ],
             [
              0.8888888888888888,
              "#fdca26"
             ],
             [
              1,
              "#f0f921"
             ]
            ],
            "type": "surface"
           }
          ],
          "table": [
           {
            "cells": {
             "fill": {
              "color": "#EBF0F8"
             },
             "line": {
              "color": "white"
             }
            },
            "header": {
             "fill": {
              "color": "#C8D4E3"
             },
             "line": {
              "color": "white"
             }
            },
            "type": "table"
           }
          ]
         },
         "layout": {
          "annotationdefaults": {
           "arrowcolor": "#2a3f5f",
           "arrowhead": 0,
           "arrowwidth": 1
          },
          "autotypenumbers": "strict",
          "coloraxis": {
           "colorbar": {
            "outlinewidth": 0,
            "ticks": ""
           }
          },
          "colorscale": {
           "diverging": [
            [
             0,
             "#8e0152"
            ],
            [
             0.1,
             "#c51b7d"
            ],
            [
             0.2,
             "#de77ae"
            ],
            [
             0.3,
             "#f1b6da"
            ],
            [
             0.4,
             "#fde0ef"
            ],
            [
             0.5,
             "#f7f7f7"
            ],
            [
             0.6,
             "#e6f5d0"
            ],
            [
             0.7,
             "#b8e186"
            ],
            [
             0.8,
             "#7fbc41"
            ],
            [
             0.9,
             "#4d9221"
            ],
            [
             1,
             "#276419"
            ]
           ],
           "sequential": [
            [
             0,
             "#0d0887"
            ],
            [
             0.1111111111111111,
             "#46039f"
            ],
            [
             0.2222222222222222,
             "#7201a8"
            ],
            [
             0.3333333333333333,
             "#9c179e"
            ],
            [
             0.4444444444444444,
             "#bd3786"
            ],
            [
             0.5555555555555556,
             "#d8576b"
            ],
            [
             0.6666666666666666,
             "#ed7953"
            ],
            [
             0.7777777777777778,
             "#fb9f3a"
            ],
            [
             0.8888888888888888,
             "#fdca26"
            ],
            [
             1,
             "#f0f921"
            ]
           ],
           "sequentialminus": [
            [
             0,
             "#0d0887"
            ],
            [
             0.1111111111111111,
             "#46039f"
            ],
            [
             0.2222222222222222,
             "#7201a8"
            ],
            [
             0.3333333333333333,
             "#9c179e"
            ],
            [
             0.4444444444444444,
             "#bd3786"
            ],
            [
             0.5555555555555556,
             "#d8576b"
            ],
            [
             0.6666666666666666,
             "#ed7953"
            ],
            [
             0.7777777777777778,
             "#fb9f3a"
            ],
            [
             0.8888888888888888,
             "#fdca26"
            ],
            [
             1,
             "#f0f921"
            ]
           ]
          },
          "colorway": [
           "#636efa",
           "#EF553B",
           "#00cc96",
           "#ab63fa",
           "#FFA15A",
           "#19d3f3",
           "#FF6692",
           "#B6E880",
           "#FF97FF",
           "#FECB52"
          ],
          "font": {
           "color": "#2a3f5f"
          },
          "geo": {
           "bgcolor": "white",
           "lakecolor": "white",
           "landcolor": "#E5ECF6",
           "showlakes": true,
           "showland": true,
           "subunitcolor": "white"
          },
          "hoverlabel": {
           "align": "left"
          },
          "hovermode": "closest",
          "mapbox": {
           "style": "light"
          },
          "paper_bgcolor": "white",
          "plot_bgcolor": "#E5ECF6",
          "polar": {
           "angularaxis": {
            "gridcolor": "white",
            "linecolor": "white",
            "ticks": ""
           },
           "bgcolor": "#E5ECF6",
           "radialaxis": {
            "gridcolor": "white",
            "linecolor": "white",
            "ticks": ""
           }
          },
          "scene": {
           "xaxis": {
            "backgroundcolor": "#E5ECF6",
            "gridcolor": "white",
            "gridwidth": 2,
            "linecolor": "white",
            "showbackground": true,
            "ticks": "",
            "zerolinecolor": "white"
           },
           "yaxis": {
            "backgroundcolor": "#E5ECF6",
            "gridcolor": "white",
            "gridwidth": 2,
            "linecolor": "white",
            "showbackground": true,
            "ticks": "",
            "zerolinecolor": "white"
           },
           "zaxis": {
            "backgroundcolor": "#E5ECF6",
            "gridcolor": "white",
            "gridwidth": 2,
            "linecolor": "white",
            "showbackground": true,
            "ticks": "",
            "zerolinecolor": "white"
           }
          },
          "shapedefaults": {
           "line": {
            "color": "#2a3f5f"
           }
          },
          "ternary": {
           "aaxis": {
            "gridcolor": "white",
            "linecolor": "white",
            "ticks": ""
           },
           "baxis": {
            "gridcolor": "white",
            "linecolor": "white",
            "ticks": ""
           },
           "bgcolor": "#E5ECF6",
           "caxis": {
            "gridcolor": "white",
            "linecolor": "white",
            "ticks": ""
           }
          },
          "title": {
           "x": 0.05
          },
          "xaxis": {
           "automargin": true,
           "gridcolor": "white",
           "linecolor": "white",
           "ticks": "",
           "title": {
            "standoff": 15
           },
           "zerolinecolor": "white",
           "zerolinewidth": 2
          },
          "yaxis": {
           "automargin": true,
           "gridcolor": "white",
           "linecolor": "white",
           "ticks": "",
           "title": {
            "standoff": 15
           },
           "zerolinecolor": "white",
           "zerolinewidth": 2
          }
         }
        },
        "title": {
         "text": "Puntaje promedio por educacion de la madre"
        },
        "xaxis": {
         "anchor": "y",
         "domain": [
          0,
          1
         ],
         "title": {
          "text": "Puntaje global promedio"
         }
        },
        "yaxis": {
         "anchor": "x",
         "domain": [
          0,
          1
         ],
         "title": {
          "text": "Educacion de la madre"
         }
        }
       }
      }
     },
     "metadata": {},
     "output_type": "display_data"
    }
   ],
   "source": [
    "import plotly.express as px\n",
    "\n",
    "# Crear df solo para madre con puntaje promedio y desvest\n",
    "madre = promedio_educacion.loc[promedio_educacion.index.get_level_values('fami_educacionpadre') == 'No Aplica']\n",
    "madre = madre.reset_index()\n",
    "madre = madre.drop(['fami_educacionpadre'], axis=1)\n",
    "madre = madre.rename(columns={'fami_educacionmadre': 'Educacion de la madre'})\n",
    "madre = madre.sort_values(by=['punt_global'], ascending=False)\n",
    "madre = madre.reset_index()\n",
    "madre = madre.drop(['index'], axis=1)\n",
    "madre = madre.drop(['desviacion'], axis=1)\n",
    "madre = madre.drop([0], axis=0)\n",
    "madre = madre.reset_index()\n",
    "\n",
    "# Graficar gráfica de barras horizontales\n",
    "fig = px.bar(\n",
    "    madre,\n",
    "    y='Educacion de la madre',\n",
    "    x='punt_global',\n",
    "    color='punt_global',\n",
    "    color_continuous_scale='Darkmint',\n",
    "    orientation='h',\n",
    "    title='Puntaje promedio por educacion de la madre',\n",
    "    labels={'punt_global': 'Puntaje global promedio'}\n",
    ")\n",
    "fig.show()\n"
   ]
  },
  {
   "attachments": {},
   "cell_type": "markdown",
   "metadata": {},
   "source": [
    "# Visualización 2"
   ]
  },
  {
   "cell_type": "code",
   "execution_count": 21,
   "metadata": {},
   "outputs": [
    {
     "data": {
      "application/vnd.plotly.v1+json": {
       "config": {
        "plotlyServerURL": "https://plot.ly"
       },
       "data": [
        {
         "coloraxis": "coloraxis",
         "geojson": {
          "bbox": [
           -81.73562045699998,
           -4.219604294999954,
           -66.85606050699994,
           12.59503852149319
          ],
          "features": [
           {
            "bbox": [
             -76.30283665954212,
             -0.693313655686745,
             -71.25443639349523,
             2.96436074734077
            ],
            "geometry": {
             "coordinates": [
              [
               [
                -73.65989384324841,
                1.612099556658622
               ],
               [
                -73.6586696918745,
                1.576154942057538
               ],
               [
                -73.47627113716038,
                1.361726723920039
               ],
               [
                -73.41383941709046,
                1.245216593833768
               ],
               [
                -73.39302884373382,
                1.14729850578254
               ],
               [
                -73.32202806404644,
                1.080367154456384
               ],
               [
                -73.07842194063632,
                0.894446734105951
               ],
               [
                -73.04536985354048,
                0.905601959326977
               ],
               [
                -72.85685054195676,
                1.043183070386298
               ],
               [
                -72.87031620706989,
                1.146059036313537
               ],
               [
                -72.79809127600859,
                1.175806303569606
               ],
               [
                -72.65119311113817,
                1.172087895162598
               ],
               [
                -72.5079674003895,
                1.067972459766355
               ],
               [
                -72.46757040505014,
                1.084085562863392
               ],
               [
                -72.39901792811061,
                1.002280577909202
               ],
               [
                -72.26925788247507,
                0.763062970391645
               ],
               [
                -72.08073857089136,
                0.70480790534851
               ],
               [
                -72.03299666730847,
                0.663905412871414
               ],
               [
                -71.98158230960382,
                0.629200267739334
               ],
               [
                -71.99015136922127,
                0.565987324820187
               ],
               [
                -71.92894380052525,
                0.543676874378135
               ],
               [
                -71.92159889228174,
                0.459392950485938
               ],
               [
                -71.85671886946396,
                0.455674542078929
               ],
               [
                -71.83223584198555,
                0.339164411992659
               ],
               [
                -71.76980412191563,
                0.328009186771633
               ],
               [
                -71.69757919085433,
                0.237527915534422
               ],
               [
                -71.62657841116696,
                0.216456934561373
               ],
               [
                -71.58373311307976,
                0.163159747394249
               ],
               [
                -71.44907646194854,
                0.139609827483194
               ],
               [
                -71.3744032281394,
                0.174314972615274
               ],
               [
                -71.29728169158243,
                0.075157415095044
               ],
               [
                -71.25443639349523,
                0.059044311998006
               ],
               [
                -71.2715745127301,
                0.035494392086951
               ],
               [
                -71.47478364080087,
                -0.011605447735158
               ],
               [
                -71.54945687460999,
                0.02186022792792
               ],
               [
                -71.70492409909785,
                -0.067381573840287
               ],
               [
                -71.73675203481977,
                -0.164060192422513
               ],
               [
                -71.71104485596746,
                -0.232231013217671
               ],
               [
                -71.78939054389835,
                -0.270654566756761
               ],
               [
                -72.01953100219535,
                -0.263217749942743
               ],
               [
                -72.06237630028255,
                -0.325191223392888
               ],
               [
                -72.14317029096128,
                -0.34750167383494
               ],
               [
                -72.18356728630066,
                -0.461532864983206
               ],
               [
                -72.23008503850963,
                -0.492519601708278
               ],
               [
                -72.24232655224883,
                -0.60531132338754
               ],
               [
                -72.31699978605795,
                -0.65241116320965
               ],
               [
                -72.43329416658037,
                -0.566887769848451
               ],
               [
                -72.5385711847375,
                -0.677200552589707
               ],
               [
                -72.59243384519,
                -0.693313655686745
               ],
               [
                -72.74545276693003,
                -0.560690422503436
               ],
               [
                -72.8776611153134,
                -0.617706018077569
               ],
               [
                -72.95600680324429,
                -0.563169361441442
               ],
               [
                -73.04414570216656,
                -0.534661563654375
               ],
               [
                -73.11269817910609,
                -0.604071853918537
               ],
               [
                -73.20940613764579,
                -0.623903365422583
               ],
               [
                -73.33549372915957,
                -0.506153765867309
               ],
               [
                -73.4885126508996,
                -0.528464216309361
               ],
               [
                -73.57053079295224,
                -0.516069521619333
               ],
               [
                -73.5803240039436,
                -0.455335517638191
               ],
               [
                -73.6770319624833,
                -0.421869841975113
               ],
               [
                -73.8410682465886,
                -0.398319922064058
               ],
               [
                -73.9989837738243,
                -0.343783265427931
               ],
               [
                -74.10915739747713,
                -0.23594942162468
               ],
               [
                -74.15689930106002,
                -0.260738811004738
               ],
               [
                -74.29033180081731,
                -0.197525868085591
               ],
               [
                -74.35153936951333,
                -0.10704459684838
               ],
               [
                -74.43967826843559,
                -0.074818390654305
               ],
               [
                -74.54128283247096,
                -0.120678761007412
               ],
               [
                -74.70409496520234,
                0.036733861555954
               ],
               [
                -74.66247381848906,
                0.054086434121995
               ],
               [
                -74.67838778635003,
                0.160680808456243
               ],
               [
                -74.7371470522982,
                0.209020117747356
               ],
               [
                -74.84487237320317,
                0.213977995623367
               ],
               [
                -74.89261427678606,
                0.248683140755448
               ],
               [
                -74.96483920784735,
                0.244964732348439
               ],
               [
                -75.03339168478688,
                0.484182339865996
               ],
               [
                -75.19620381751827,
                0.479224461989984
               ],
               [
                -75.23537666148371,
                0.565987324820187
               ],
               [
                -75.20722117988355,
                0.60193193942127
               ],
               [
                -75.25741138621427,
                0.702328966410504
               ],
               [
                -75.33820537689301,
                0.768020848267657
               ],
               [
                -75.42267182169351,
                0.738273581011588
               ],
               [
                -75.53896620221593,
                0.790331298709709
               ],
               [
                -75.63689831212955,
                0.877094161539911
               ],
               [
                -75.75808929814764,
                0.837431138531818
               ],
               [
                -75.8951942520267,
                0.935349226583046
               ],
               [
                -75.97598824270544,
                1.061775112421341
               ],
               [
                -76.08493771498433,
                1.058056704014332
               ],
               [
                -76.15226604054995,
                1.10887495224345
               ],
               [
                -76.28080193481156,
                1.137382750030516
               ],
               [
                -76.30283665954212,
                1.236540307550747
               ],
               [
                -76.20368039825459,
                1.353050437637019
               ],
               [
                -76.16940415978483,
                1.588549636747567
               ],
               [
                -76.12411055894978,
                1.566239186305515
               ],
               [
                -76.03474750865361,
                1.582352289402553
               ],
               [
                -75.90376331164414,
                1.716214992054864
               ],
               [
                -75.84745234844381,
                1.722412339399878
               ],
               [
                -75.73483042204316,
                1.786864751788029
               ],
               [
                -75.6589330368601,
                1.892219656653274
               ],
               [
                -75.6160877387729,
                1.996335092049517
               ],
               [
                -75.53529374809416,
                2.117803100011799
               ],
               [
                -75.44470654642407,
                2.14383195886086
               ],
               [
                -75.3859472804759,
                2.314878745583258
               ],
               [
                -75.31004989529285,
                2.361978585405367
               ],
               [
                -75.28679101918836,
                2.41031789469648
               ],
               [
                -75.13254794607442,
                2.596238315046913
               ],
               [
                -75.14723776256146,
                2.722664200885207
               ],
               [
                -75.07011622600449,
                2.744974651327259
               ],
               [
                -74.89873503365565,
                2.96436074734077
               ],
               [
                -74.87914861167293,
                2.913542499111651
               ],
               [
                -74.80325122648989,
                2.935852949553704
               ],
               [
                -74.7616300797766,
                2.872640006634557
               ],
               [
                -74.6710428781065,
                2.887513640262591
               ],
               [
                -74.63676663963673,
                2.710269506195178
               ],
               [
                -74.58902473605384,
                2.661930196904065
               ],
               [
                -74.68083608909787,
                2.554096353100815
               ],
               [
                -74.67226702948042,
                2.44874144823557
               ],
               [
                -74.74204365779387,
                2.323555031866278
               ],
               [
                -74.74326780916779,
                2.270257844699154
               ],
               [
                -74.65023230474986,
                2.24298951638109
               ],
               [
                -74.59392134154953,
                2.13515567257784
               ],
               [
                -74.64411154788026,
                2.095492649569747
               ],
               [
                -74.56086925445368,
                1.962869416386439
               ],
               [
                -74.56331755720153,
                1.84759875576917
               ],
               [
                -74.47028205278359,
                1.806696263292075
               ],
               [
                -74.32215973653925,
                1.788104221257032
               ],
               [
                -74.20708950739075,
                1.716214992054864
               ],
               [
                -74.10548494335536,
                1.691425602674807
               ],
               [
                -73.99408716832863,
                1.639367884976686
               ],
               [
                -73.85820636582349,
                1.608381148251613
               ],
               [
                -73.73946368255324,
                1.638128415507683
               ],
               [
                -73.65989384324841,
                1.612099556658622
               ]
              ]
             ],
             "type": "Polygon"
            },
            "id": "0",
            "properties": {},
            "type": "Feature"
           },
           {
            "bbox": [
             -77.18667395151252,
             -0.553253605689419,
             -73.8410682465886,
             1.44353170887423
            ],
            "geometry": {
             "coordinates": [
              [
               [
                -76.08493771498433,
                1.058056704014332
               ],
               [
                -75.97598824270544,
                1.061775112421341
               ],
               [
                -75.8951942520267,
                0.935349226583046
               ],
               [
                -75.75808929814764,
                0.837431138531818
               ],
               [
                -75.63689831212955,
                0.877094161539911
               ],
               [
                -75.53896620221593,
                0.790331298709709
               ],
               [
                -75.42267182169351,
                0.738273581011588
               ],
               [
                -75.33820537689301,
                0.768020848267657
               ],
               [
                -75.25741138621427,
                0.702328966410504
               ],
               [
                -75.20722117988355,
                0.60193193942127
               ],
               [
                -75.23537666148371,
                0.565987324820187
               ],
               [
                -75.19620381751827,
                0.479224461989984
               ],
               [
                -75.03339168478688,
                0.484182339865996
               ],
               [
                -74.96483920784735,
                0.244964732348439
               ],
               [
                -74.89261427678606,
                0.248683140755448
               ],
               [
                -74.84487237320317,
                0.213977995623367
               ],
               [
                -74.7371470522982,
                0.209020117747356
               ],
               [
                -74.67838778635003,
                0.160680808456243
               ],
               [
                -74.66247381848906,
                0.054086434121995
               ],
               [
                -74.70409496520234,
                0.036733861555954
               ],
               [
                -74.54128283247096,
                -0.120678761007412
               ],
               [
                -74.43967826843559,
                -0.074818390654305
               ],
               [
                -74.35153936951333,
                -0.10704459684838
               ],
               [
                -74.29033180081731,
                -0.197525868085591
               ],
               [
                -74.15689930106002,
                -0.260738811004738
               ],
               [
                -74.10915739747713,
                -0.23594942162468
               ],
               [
                -73.9989837738243,
                -0.343783265427931
               ],
               [
                -73.8410682465886,
                -0.398319922064058
               ],
               [
                -74.38948806210486,
                -0.553253605689419
               ],
               [
                -74.5376103783492,
                -0.462772334452208
               ],
               [
                -74.57555907094073,
                -0.395840983126052
               ],
               [
                -74.72612968993292,
                -0.349980612772946
               ],
               [
                -74.77754404763756,
                -0.208681093306617
               ],
               [
                -74.85466558419454,
                -0.243386238438697
               ],
               [
                -74.92811466662974,
                -0.228512604810663
               ],
               [
                -75.06889207463057,
                -0.094649902158351
               ],
               [
                -75.20232457438787,
                -0.045071123398236
               ],
               [
                -75.27577365682308,
                -0.126876108352426
               ],
               [
                -75.3920680373455,
                -0.102086718972369
               ],
               [
                -75.56956998656393,
                -0.030197489770202
               ],
               [
                -75.63322585800778,
                0.045410147838974
               ],
               [
                -75.73972702753883,
                0.031775983679943
               ],
               [
                -75.8217451695915,
                0.082594231909061
               ],
               [
                -75.9551776693488,
                0.201583300933338
               ],
               [
                -76.0102644811752,
                0.298261919515563
               ],
               [
                -76.13267961856722,
                0.37015114871773
               ],
               [
                -76.20000794413284,
                0.372630087655737
               ],
               [
                -76.3126298705335,
                0.433364091636878
               ],
               [
                -76.3371128980119,
                0.385024782345766
               ],
               [
                -76.41178613182103,
                0.378827435000751
               ],
               [
                -76.41178613182103,
                0.24124632394143
               ],
               [
                -76.58439147554378,
                0.220175342968382
               ],
               [
                -76.61866771401354,
                0.256119957569465
               ],
               [
                -76.73251379178812,
                0.28834616376354
               ],
               [
                -76.84880817231054,
                0.240006854472428
               ],
               [
                -77.08017278198146,
                0.287106694294537
               ],
               [
                -77.1132248690773,
                0.372630087655737
               ],
               [
                -77.08996599297282,
                0.42592727482286
               ],
               [
                -77.13036298831219,
                0.525084832343091
               ],
               [
                -77.12791468556435,
                0.60193193942127
               ],
               [
                -77.18667395151252,
                0.630439737208337
               ],
               [
                -77.11689732319907,
                0.900644081450966
               ],
               [
                -77.02753427290288,
                0.994843761095185
               ],
               [
                -77.08384523610322,
                1.061775112421341
               ],
               [
                -77.0887418415989,
                1.183243120383623
               ],
               [
                -76.98101652069393,
                1.222906143391715
               ],
               [
                -76.92103310337183,
                1.345613620823001
               ],
               [
                -76.88553271352815,
                1.372881949141065
               ],
               [
                -76.69701340194443,
                1.44353170887423
               ],
               [
                -76.60152959477865,
                1.41378444161816
               ],
               [
                -76.5856156269177,
                1.304711128345907
               ],
               [
                -76.54032202608265,
                1.204314101356672
               ],
               [
                -76.56235675081321,
                1.072930337642367
               ],
               [
                -76.5439944802044,
                1.036985723041283
               ],
               [
                -76.42280349418631,
                0.960138615963104
               ],
               [
                -76.40076876945575,
                0.97997012746715
               ],
               [
                -76.21347360924595,
                0.978730657998147
               ],
               [
                -76.16573170566306,
                1.029548906227266
               ],
               [
                -76.08493771498433,
                1.058056704014332
               ]
              ]
             ],
             "type": "Polygon"
            },
            "id": "1",
            "properties": {},
            "type": "Feature"
           },
           {
            "bbox": [
             -77.55024690956681,
             3.099462919462084,
             -75.706674940443,
             5.046669455265617
            ],
            "geometry": {
             "coordinates": [
              [
               [
                -75.71401984868652,
                4.713252168103841
               ],
               [
                -75.706674940443,
                4.657476041998711
               ],
               [
                -75.82541762371325,
                4.663673389343726
               ],
               [
                -75.86703877042653,
                4.607897263238595
               ],
               [
                -75.88784934378319,
                4.430653129171183
               ],
               [
                -75.80338289898269,
                4.395947984039102
               ],
               [
                -75.78746893112172,
                4.294311487580865
               ],
               [
                -75.82296932096541,
                4.228619605723713
               ],
               [
                -75.8401074402003,
                4.100954250416416
               ],
               [
                -75.75196854127805,
                4.077404330505361
               ],
               [
                -75.80705535310445,
                3.931146933163021
               ],
               [
                -75.86214216493086,
                3.874131337588887
               ],
               [
                -75.92212558225295,
                3.739029165467573
               ],
               [
                -75.9551776693488,
                3.714239776087515
               ],
               [
                -75.99312636194031,
                3.60888487122227
               ],
               [
                -75.98455730232288,
                3.559306092462155
               ],
               [
                -76.02740260041008,
                3.487416863259988
               ],
               [
                -76.06167883887986,
                3.354793630076679
               ],
               [
                -76.03841996277536,
                3.301496442909555
               ],
               [
                -76.05555808201025,
                3.223409866362373
               ],
               [
                -76.19143888451539,
                3.227128274769381
               ],
               [
                -76.22938757710692,
                3.276707053529496
               ],
               [
                -76.3432336548815,
                3.280425461936505
               ],
               [
                -76.45585558128215,
                3.326285832289612
               ],
               [
                -76.49258012249976,
                3.176310026540263
               ],
               [
                -76.54644278295225,
                3.105660266807099
               ],
               [
                -76.67742697996171,
                3.099462919462084
               ],
               [
                -76.81085947971901,
                3.207296763265335
               ],
               [
                -76.90879158963263,
                3.201099415920321
               ],
               [
                -76.93817122260671,
                3.114336553090119
               ],
               [
                -77.1009833553381,
                3.184986312823283
               ],
               [
                -77.2344158550954,
                3.108139205745104
               ],
               [
                -77.31643399714805,
                3.173831087602258
               ],
               [
                -77.34703778149606,
                3.14036541193918
               ],
               [
                -77.43028007492263,
                3.254396603087445
               ],
               [
                -77.49760840048825,
                3.215973049548356
               ],
               [
                -77.55024690956681,
                3.23084668317639
               ],
               [
                -77.48047028125336,
                3.322567423882604
               ],
               [
                -77.3372445705047,
                3.447753840251895
               ],
               [
                -77.36662420347878,
                3.483698454852979
               ],
               [
                -77.3005200292871,
                3.570461317683181
               ],
               [
                -77.2282950982258,
                3.58285601237321
               ],
               [
                -77.18422564876468,
                3.654745241575377
               ],
               [
                -77.1976913138778,
                3.74646598228159
               ],
               [
                -77.18055319464291,
                3.83198937564279
               ],
               [
                -77.28338191005221,
                3.841905131394812
               ],
               [
                -77.31765814852197,
                3.949738975198063
               ],
               [
                -77.21238113036483,
                4.009233509710201
               ],
               [
                -77.24298491471285,
                4.083601677850375
               ],
               [
                -77.31398569440022,
                4.029065021214247
               ],
               [
                -77.35927929523527,
                3.92618905528701
               ],
               [
                -77.44986649690536,
                4.038980776966271
               ],
               [
                -77.35315853836566,
                4.197632868998641
               ],
               [
                -77.30664078615669,
                4.165406662804566
               ],
               [
                -77.15851846991235,
                4.182759235370606
               ],
               [
                -77.04956899763346,
                4.094756903071401
               ],
               [
                -76.99448218580704,
                4.120785761920462
               ],
               [
                -76.91491234650223,
                4.095996372540403
               ],
               [
                -76.86717044291935,
                4.032783429621256
               ],
               [
                -76.68109943408348,
                3.964612608826098
               ],
               [
                -76.58928808103946,
                3.993120406613164
               ],
               [
                -76.49870087936937,
                4.063770166346329
               ],
               [
                -76.44483821891687,
                4.175322418556588
               ],
               [
                -76.52685636096953,
                4.288114140235852
               ],
               [
                -76.56235675081321,
                4.369919125190041
               ],
               [
                -76.3860789529687,
                4.481471377400302
               ],
               [
                -76.28569854030725,
                4.712012698634839
               ],
               [
                -76.3126298705335,
                4.750436252173927
               ],
               [
                -76.21102530649812,
                4.829762298190111
               ],
               [
                -76.14492113230642,
                4.838438584473133
               ],
               [
                -76.08861016910609,
                4.946272428276384
               ],
               [
                -76.07759280674081,
                5.046669455265617
               ],
               [
                -75.98822975644464,
                4.874383199074217
               ],
               [
                -75.93559124736606,
                4.808691317217063
               ],
               [
                -75.79114138524349,
                4.718210045979852
               ],
               [
                -75.71401984868652,
                4.713252168103841
               ]
              ]
             ],
             "type": "Polygon"
            },
            "id": "2",
            "properties": {},
            "type": "Feature"
           },
           {
            "bbox": [
             -70.94227779314556,
             1.165890547817583,
             -66.85606050699994,
             4.045178124311287
            ],
            "geometry": {
             "coordinates": [
              [
               [
                -69.84543816211307,
                1.713736053116858
               ],
               [
                -69.9017491253134,
                1.742243850903924
               ],
               [
                -70.05476804705343,
                1.776948996036006
               ],
               [
                -70.18085563856721,
                1.88602230930826
               ],
               [
                -70.11475146437552,
                1.998814030987522
               ],
               [
                -70.10985485887983,
                2.080619015941712
               ],
               [
                -70.1012857992624,
                2.117803100011799
               ],
               [
                -69.99600878110526,
                2.224397474346048
               ],
               [
                -70.07068201491438,
                2.291328825672203
               ],
               [
                -70.18942469818465,
                2.231834291160064
               ],
               [
                -70.25185641825458,
                2.26406049735414
               ],
               [
                -70.31061568420274,
                2.20828437124901
               ],
               [
                -70.42691006472516,
                2.267778905761149
               ],
               [
                -70.49668669303861,
                2.234313230098071
               ],
               [
                -70.56156671585639,
                2.292568295141206
               ],
               [
                -70.63011919279592,
                2.312399806645252
               ],
               [
                -70.70724072935289,
                2.472291368146625
               ],
               [
                -70.76599999530106,
                2.53922271947278
               ],
               [
                -70.84801813735372,
                2.567730517259847
               ],
               [
                -70.91657061429325,
                2.560293700445829
               ],
               [
                -70.94227779314556,
                2.606154070798936
               ],
               [
                -70.5015832985343,
                2.78835608274236
               ],
               [
                -70.35101267954211,
                2.860245311944527
               ],
               [
                -70.3559092850378,
                2.903626743359628
               ],
               [
                -70.28001189985474,
                2.934613480084701
               ],
               [
                -70.25552887237635,
                3.038728915480942
               ],
               [
                -70.2836843539765,
                3.129210186718153
               ],
               [
                -70.24695981275889,
                3.176310026540263
               ],
               [
                -70.12821712948863,
                3.203578354858327
               ],
               [
                -70.15759676246272,
                3.281664931405508
               ],
               [
                -70.11230316162768,
                3.38578036680175
               ],
               [
                -70.03395747369677,
                3.418006572995826
               ],
               [
                -69.9984570838531,
                3.373385672111722
               ],
               [
                -69.87359364371324,
                3.43288020662386
               ],
               [
                -69.87236949233932,
                3.5357561725511
               ],
               [
                -69.77566153379962,
                3.565503439807169
               ],
               [
                -69.69119508899912,
                3.544432458834121
               ],
               [
                -69.57857316259847,
                3.603926993346259
               ],
               [
                -69.56021089198967,
                3.678295161486432
               ],
               [
                -69.42433008948453,
                3.667139936265405
               ],
               [
                -69.3202772227013,
                3.695647734052472
               ],
               [
                -69.12808545699583,
                3.673337283610421
               ],
               [
                -69.05586052593455,
                3.638632138478339
               ],
               [
                -69.01179107647341,
                3.68201356989344
               ],
               [
                -68.78165061817641,
                3.72911340971555
               ],
               [
                -68.70942568711513,
                3.767536963254639
               ],
               [
                -68.58945885247094,
                3.777452719006662
               ],
               [
                -68.57354488460999,
                3.81091839466974
               ],
               [
                -68.4535780499658,
                3.838186722987803
               ],
               [
                -68.42052596286996,
                3.92618905528701
               ],
               [
                -68.34707688043474,
                3.923710116349003
               ],
               [
                -68.3140247933389,
                3.978246772985131
               ],
               [
                -68.23200665128624,
                3.973288895109118
               ],
               [
                -68.04348733970254,
                4.011712448648208
               ],
               [
                -67.87945105559723,
                3.917512769003988
               ],
               [
                -67.81946763827514,
                3.979486242454133
               ],
               [
                -67.7080698632484,
                4.045178124311287
               ],
               [
                -67.69215589538743,
                3.936104811039032
               ],
               [
                -67.61258605608262,
                3.755142268564611
               ],
               [
                -67.50118828105589,
                3.767536963254639
               ],
               [
                -67.43875656098595,
                3.639871607947343
               ],
               [
                -67.44365316648164,
                3.585334951311215
               ],
               [
                -67.40203201976834,
                3.47998004644597
               ],
               [
                -67.33960029969842,
                3.451472248658904
               ],
               [
                -67.31266896947217,
                3.394456653084771
               ],
               [
                -67.33470369420274,
                3.334962118572633
               ],
               [
                -67.86231293636234,
                2.865203189820539
               ],
               [
                -67.82191594102298,
                2.82677963628145
               ],
               [
                -67.65787965691767,
                2.797032369025381
               ],
               [
                -67.62115511570006,
                2.81438494159142
               ],
               [
                -67.5623958497519,
                2.721424731416204
               ],
               [
                -67.5685166066215,
                2.66812754424908
               ],
               [
                -67.48649846456884,
                2.666888074780077
               ],
               [
                -67.47058449670789,
                2.62474611283398
               ],
               [
                -67.34449690519409,
                2.524349085844745
               ],
               [
                -67.29797915298514,
                2.442544100890555
               ],
               [
                -67.18780552933231,
                2.350823360184341
               ],
               [
                -67.22085761642816,
                2.250426333195108
               ],
               [
                -67.16209835048,
                2.132676733639833
               ],
               [
                -67.1143564468971,
                2.133916203108837
               ],
               [
                -67.09721832766222,
                2.050871748685643
               ],
               [
                -67.12292550651455,
                1.980221988952478
               ],
               [
                -67.07151114880989,
                1.934361618599372
               ],
               [
                -67.03356245621836,
                1.786864751788029
               ],
               [
                -66.962561676531,
                1.666636213294749
               ],
               [
                -66.96378582790491,
                1.597225923030587
               ],
               [
                -66.92094052981771,
                1.531534041173434
               ],
               [
                -66.91237147020027,
                1.427418605777192
               ],
               [
                -66.85606050699994,
                1.369163540734056
               ],
               [
                -66.88054353447835,
                1.289837494717871
               ],
               [
                -66.85728465837386,
                1.227864021267727
               ],
               [
                -67.08864926804478,
                1.165890547817583
               ],
               [
                -67.10089078178397,
                1.260090227461802
               ],
               [
                -67.15597759361039,
                1.317105823035935
               ],
               [
                -67.07518360293166,
                1.372881949141065
               ],
               [
                -67.07885605705341,
                1.473278976130299
               ],
               [
                -67.11313229552319,
                1.594746984092581
               ],
               [
                -67.14373607987119,
                1.604662739844605
               ],
               [
                -67.13394286887983,
                1.795541038071049
               ],
               [
                -67.20004704307152,
                1.851317164176178
               ],
               [
                -67.22697837329775,
                1.91205116815732
               ],
               [
                -67.30287575848081,
                1.900895942936294
               ],
               [
                -67.34694520794194,
                1.98517986682849
               ],
               [
                -67.3567384189333,
                2.111605752666785
               ],
               [
                -67.32980708870706,
                2.146310897798865
               ],
               [
                -67.3689799326725,
                2.215721188063027
               ],
               [
                -67.44977392335124,
                2.168621348240918
               ],
               [
                -67.5868788772303,
                2.121521508418808
               ],
               [
                -67.60156869371734,
                2.043434931871626
               ],
               [
                -67.6774660789004,
                2.008729786739545
               ],
               [
                -67.77539818881401,
                2.012448195146554
               ],
               [
                -67.8843476610929,
                1.894698595591279
               ],
               [
                -67.9076065371974,
                1.804217324354069
               ],
               [
                -68.10347075702462,
                1.908332759750311
               ],
               [
                -68.1450919037379,
                1.972785172138462
               ],
               [
                -68.20507532106001,
                1.987658805766496
               ],
               [
                -68.28464516036482,
                1.836443530548144
               ],
               [
                -68.23200665128624,
                1.820330427451107
               ],
               [
                -68.16345417434671,
                1.72737021727589
               ],
               [
                -68.81347855389834,
                1.72737021727589
               ],
               [
                -69.39372630513651,
                1.726130747806887
               ],
               [
                -69.53450371313734,
                1.776948996036006
               ],
               [
                -69.64467733679015,
                1.729849156213896
               ],
               [
                -69.84543816211307,
                1.713736053116858
               ]
              ]
             ],
             "type": "Polygon"
            },
            "id": "3",
            "properties": {},
            "type": "Feature"
           },
           {
            "bbox": [
             -71.0781585956507,
             2.749932529203271,
             -67.41182523075972,
             6.317125660993575
            ],
            "geometry": {
             "coordinates": [
              [
               [
                -67.7080698632484,
                4.045178124311287
               ],
               [
                -67.81946763827514,
                3.979486242454133
               ],
               [
                -67.87945105559723,
                3.917512769003988
               ],
               [
                -68.04348733970254,
                4.011712448648208
               ],
               [
                -68.23200665128624,
                3.973288895109118
               ],
               [
                -68.3140247933389,
                3.978246772985131
               ],
               [
                -68.34707688043474,
                3.923710116349003
               ],
               [
                -68.42052596286996,
                3.92618905528701
               ],
               [
                -68.4535780499658,
                3.838186722987803
               ],
               [
                -68.57354488460999,
                3.81091839466974
               ],
               [
                -68.58945885247094,
                3.777452719006662
               ],
               [
                -68.70942568711513,
                3.767536963254639
               ],
               [
                -68.78165061817641,
                3.72911340971555
               ],
               [
                -69.01179107647341,
                3.68201356989344
               ],
               [
                -69.05586052593455,
                3.638632138478339
               ],
               [
                -69.12808545699583,
                3.673337283610421
               ],
               [
                -69.3202772227013,
                3.695647734052472
               ],
               [
                -69.42433008948453,
                3.667139936265405
               ],
               [
                -69.56021089198967,
                3.678295161486432
               ],
               [
                -69.57857316259847,
                3.603926993346259
               ],
               [
                -69.69119508899912,
                3.544432458834121
               ],
               [
                -69.77566153379962,
                3.565503439807169
               ],
               [
                -69.87236949233932,
                3.5357561725511
               ],
               [
                -69.87359364371324,
                3.43288020662386
               ],
               [
                -69.9984570838531,
                3.373385672111722
               ],
               [
                -70.03395747369677,
                3.418006572995826
               ],
               [
                -70.11230316162768,
                3.38578036680175
               ],
               [
                -70.15759676246272,
                3.281664931405508
               ],
               [
                -70.12821712948863,
                3.203578354858327
               ],
               [
                -70.24695981275889,
                3.176310026540263
               ],
               [
                -70.2836843539765,
                3.129210186718153
               ],
               [
                -70.25552887237635,
                3.038728915480942
               ],
               [
                -70.28001189985474,
                2.934613480084701
               ],
               [
                -70.3559092850378,
                2.903626743359628
               ],
               [
                -70.35101267954211,
                2.860245311944527
               ],
               [
                -70.5015832985343,
                2.78835608274236
               ],
               [
                -70.58360144058695,
                2.840413800440481
               ],
               [
                -70.72070639446602,
                2.749932529203271
               ],
               [
                -70.82231095850139,
                2.813145472122418
               ],
               [
                -70.93615703627597,
                2.78835608274236
               ],
               [
                -70.95941591238045,
                2.842892739378487
               ],
               [
                -71.05489971954623,
                2.851569025661507
               ],
               [
                -71.07693444427679,
                2.88255576238658
               ],
               [
                -71.0781585956507,
                3.29529909556454
               ],
               [
                -71.0781585956507,
                3.973288895109118
               ],
               [
                -71.0781585956507,
                4.899172588454274
               ],
               [
                -71.00226121046767,
                4.979738103939461
               ],
               [
                -70.94227779314556,
                5.125995501281801
               ],
               [
                -70.86515625658859,
                5.143348073847843
               ],
               [
                -70.69377506423977,
                5.283408123845168
               ],
               [
                -70.6778610963788,
                5.363973639330355
               ],
               [
                -70.35835758778563,
                5.587078143750874
               ],
               [
                -70.26409793199377,
                5.563528223839821
               ],
               [
                -70.15270015696704,
                5.600712307909907
               ],
               [
                -70.05721634980127,
                5.702348804368144
               ],
               [
                -69.8478864648609,
                5.998582007459833
               ],
               [
                -69.83564495112171,
                6.040723969405931
               ],
               [
                -69.53572786451126,
                6.045681847281942
               ],
               [
                -69.42800254360628,
                6.107655320732087
               ],
               [
                -69.3447602501797,
                6.144839404802173
               ],
               [
                -69.31048401170995,
                6.090302748166046
               ],
               [
                -69.23703492927473,
                6.080386992414024
               ],
               [
                -69.12318885150015,
                6.191939244624283
               ],
               [
                -69.04361901219534,
                6.221686511880353
               ],
               [
                -68.87591027396827,
                6.167149855244226
               ],
               [
                -68.83061667313322,
                6.179544549934255
               ],
               [
                -68.64332151292344,
                6.128726301705136
               ],
               [
                -68.59680376071447,
                6.163431446837217
               ],
               [
                -68.37890481615668,
                6.185741897279268
               ],
               [
                -68.2956625227301,
                6.165910385775222
               ],
               [
                -68.25771383013857,
                6.196897122500294
               ],
               [
                -68.09367754603326,
                6.231602267632375
               ],
               [
                -68.02634922046765,
                6.196897122500294
               ],
               [
                -67.92474465643227,
                6.240278553915395
               ],
               [
                -67.8353816061361,
                6.317125660993575
               ],
               [
                -67.7692774319444,
                6.294815210551523
               ],
               [
                -67.61503435883046,
                6.287378393737505
               ],
               [
                -67.53424036815173,
                6.258870595950439
               ],
               [
                -67.45711883159476,
                6.189460305686277
               ],
               [
                -67.49384337281236,
                6.127486832236134
               ],
               [
                -67.41182523075972,
                6.010976702149861
               ],
               [
                -67.58932717997814,
                5.838690445958461
               ],
               [
                -67.63094832669142,
                5.733335541093215
               ],
               [
                -67.63706908356103,
                5.64533320879401
               ],
               [
                -67.5991203909695,
                5.544936181804777
               ],
               [
                -67.62482756982183,
                5.476765361009619
               ],
               [
                -67.80110536766634,
                5.357776291985342
               ],
               [
                -67.85007142262315,
                5.304479104818217
               ],
               [
                -67.8231400923969,
                5.247463509244085
               ],
               [
                -67.85496802811882,
                5.13839019597183
               ],
               [
                -67.80600197316201,
                5.055345741548637
               ],
               [
                -67.83782990888395,
                4.947511897745386
               ],
               [
                -67.81824348690122,
                4.707054820758827
               ],
               [
                -67.84517481712746,
                4.645081347308682
               ],
               [
                -67.85741633086667,
                4.524852808815403
               ],
               [
                -67.79131215667498,
                4.466597743772267
               ],
               [
                -67.76438082644873,
                4.361242838907021
               ],
               [
                -67.80600197316201,
                4.315382468553915
               ],
               [
                -67.79743291354457,
                4.229859075192715
               ],
               [
                -67.7080698632484,
                4.045178124311287
               ]
              ]
             ],
             "type": "Polygon"
            },
            "id": "4",
            "properties": {},
            "type": "Feature"
           },
           {
            "bbox": [
             -73.0771977892624,
             4.30050883492588,
             -69.83564495112171,
             6.345633458780641
            ],
            "geometry": {
             "coordinates": [
              [
               [
                -69.83564495112171,
                6.040723969405931
               ],
               [
                -69.8478864648609,
                5.998582007459833
               ],
               [
                -70.05721634980127,
                5.702348804368144
               ],
               [
                -70.15270015696704,
                5.600712307909907
               ],
               [
                -70.26409793199377,
                5.563528223839821
               ],
               [
                -70.35835758778563,
                5.587078143750874
               ],
               [
                -70.6778610963788,
                5.363973639330355
               ],
               [
                -70.69377506423977,
                5.283408123845168
               ],
               [
                -70.86515625658859,
                5.143348073847843
               ],
               [
                -70.94227779314556,
                5.125995501281801
               ],
               [
                -71.00226121046767,
                4.979738103939461
               ],
               [
                -71.0781585956507,
                4.899172588454274
               ],
               [
                -71.21159109540801,
                4.817367603500083
               ],
               [
                -71.57883650758407,
                4.673589145095749
               ],
               [
                -71.5984229295668,
                4.645081347308682
               ],
               [
                -71.73552788344585,
                4.574431587575518
               ],
               [
                -71.81387357137675,
                4.574431587575518
               ],
               [
                -71.86773623182924,
                4.505021297311357
               ],
               [
                -71.99872042883871,
                4.382313819880071
               ],
               [
                -72.15786010744833,
                4.44180835439221
               ],
               [
                -72.30353412094483,
                4.407103209260129
               ],
               [
                -72.40513868498022,
                4.31786140749192
               ],
               [
                -72.55448515259847,
                4.336453449526964
               ],
               [
                -72.5801923314508,
                4.30050883492588
               ],
               [
                -72.76993579440843,
                4.332735041119955
               ],
               [
                -72.77238409715628,
                4.369919125190041
               ],
               [
                -72.89724753729612,
                4.475274030055287
               ],
               [
                -72.9682483169835,
                4.599220976955575
               ],
               [
                -73.01721437194031,
                4.635165591556659
               ],
               [
                -73.05271476178399,
                4.736802088014896
               ],
               [
                -73.0771977892624,
                4.812409725624072
               ],
               [
                -73.01476606919248,
                5.002048554381513
               ],
               [
                -72.97069661973134,
                4.979738103939461
               ],
               [
                -72.90336829416573,
                5.067740436238665
               ],
               [
                -72.97314492247918,
                5.145827012785848
               ],
               [
                -72.89724753729612,
                5.259858203934114
               ],
               [
                -72.88010941806125,
                5.350339475171324
               ],
               [
                -72.81155694112172,
                5.382565681365399
               ],
               [
                -72.68791765235578,
                5.282168654376166
               ],
               [
                -72.50184664351991,
                5.444539154815544
               ],
               [
                -72.39656962536277,
                5.569725571184835
               ],
               [
                -72.301085818197,
                5.506512628265687
               ],
               [
                -72.28762015308388,
                5.605670185785918
               ],
               [
                -72.22641258438786,
                5.667643659236063
               ],
               [
                -72.30965487781444,
                5.794069545074358
               ],
               [
                -72.4590013454327,
                5.85108514064849
               ],
               [
                -72.4161560473455,
                5.903142858346611
               ],
               [
                -72.32556884567539,
                5.935369064540685
               ],
               [
                -72.36596584101477,
                6.037005560998923
               ],
               [
                -72.3745349006322,
                6.149797282678184
               ],
               [
                -72.41248359322373,
                6.188220836217274
               ],
               [
                -72.37086244651044,
                6.31960459993158
               ],
               [
                -72.33903451078852,
                6.345633458780641
               ],
               [
                -72.36718999238869,
                6.307209905241551
               ],
               [
                -72.3439311162842,
                6.226644389756364
               ],
               [
                -72.29251675857955,
                6.204333939314312
               ],
               [
                -72.2778269420925,
                6.136163118519153
               ],
               [
                -72.1382736854656,
                6.066752828254991
               ],
               [
                -71.96077173624718,
                6.167149855244226
               ],
               [
                -71.87997774556844,
                6.159713038430208
               ],
               [
                -71.77714903015915,
                6.193178714093285
               ],
               [
                -71.66697540650632,
                6.191939244624283
               ],
               [
                -71.53354290674903,
                6.214249695066336
               ],
               [
                -71.48824930591398,
                6.201855000376307
               ],
               [
                -71.41724852622662,
                6.242757492853402
               ],
               [
                -71.34502359516532,
                6.231602267632375
               ],
               [
                -71.21893600365154,
                6.298533618958531
               ],
               [
                -71.09652086625951,
                6.277462637985483
               ],
               [
                -70.98389893985886,
                6.229123328694369
               ],
               [
                -70.7868105686577,
                6.251433779136422
               ],
               [
                -70.72315469721386,
                6.21672863400434
               ],
               [
                -70.55667011036071,
                6.245236431791406
               ],
               [
                -70.53096293150838,
                6.230362798163373
               ],
               [
                -70.3803923125162,
                6.30225202736554
               ],
               [
                -70.31306398695058,
                6.279941576923488
               ],
               [
                -70.19921790917601,
                6.294815210551523
               ],
               [
                -70.12087222124512,
                6.257631126481437
               ],
               [
                -70.03028501957502,
                6.162191977368215
               ],
               [
                -69.98254311599213,
                6.158473568961206
               ],
               [
                -69.83564495112171,
                6.040723969405931
               ]
              ]
             ],
             "type": "Polygon"
            },
            "id": "5",
            "properties": {},
            "type": "Feature"
           },
           {
            "bbox": [
             -74.38948806210486,
             -4.219604294999954,
             -69.39617460788436,
             0.097467865537096
            ],
            "geometry": {
             "coordinates": [
              [
               [
                -69.43289914910196,
                -1.068872904794619
               ],
               [
                -69.39617460788436,
                -1.137043725589778
               ],
               [
                -69.4292266949802,
                -1.234961813641006
               ],
               [
                -69.3986229106322,
                -1.366345577355311
               ],
               [
                -69.42800254360628,
                -1.387416558328361
               ],
               [
                -69.53450371313734,
                -2.002193414953792
               ],
               [
                -69.66793621289465,
                -2.745875096355523
               ],
               [
                -69.76709247418218,
                -3.29867847953081
               ],
               [
                -69.93357706103532,
                -4.219604294999954
               ],
               [
                -69.98254311599213,
                -4.189857027743884
               ],
               [
                -70.08904428552319,
                -4.064670611374593
               ],
               [
                -70.17718318444544,
                -4.034923344118524
               ],
               [
                -70.18330394131505,
                -3.928328969784276
               ],
               [
                -70.24818396413282,
                -3.894863294121198
               ],
               [
                -70.27878774848082,
                -3.826692473326039
               ],
               [
                -70.35468513366388,
                -3.800663614476978
               ],
               [
                -70.48566933067333,
                -3.876271252086155
               ],
               [
                -70.56401501860422,
                -3.824213534388033
               ],
               [
                -70.6533780689004,
                -3.829171412264045
               ],
               [
                -70.7133614862225,
                -3.795705736600967
               ],
               [
                -70.43915157846436,
                -3.361891422449957
               ],
               [
                -70.06088880392302,
                -2.759509260514555
               ],
               [
                -70.07557862041007,
                -2.664070111401332
               ],
               [
                -70.21880433115874,
                -2.656633294587315
               ],
               [
                -70.26042547787202,
                -2.554996798129078
               ],
               [
                -70.3742715556466,
                -2.497981202554946
               ],
               [
                -70.43915157846436,
                -2.526489000342012
               ],
               [
                -70.50280744990822,
                -2.4781496910509
               ],
               [
                -70.628895041422,
                -2.479389160519903
               ],
               [
                -70.66317127989177,
                -2.359160622026623
               ],
               [
                -70.8406732291102,
                -2.290989801231464
               ],
               [
                -70.86882871071036,
                -2.227776858312317
               ],
               [
                -70.93615703627597,
                -2.257524125568386
               ],
               [
                -70.98145063711101,
                -2.214142694153285
               ],
               [
                -71.03653744893742,
                -2.276116167603429
               ],
               [
                -71.1320212561032,
                -2.288510862293458
               ],
               [
                -71.12712465060753,
                -2.338089641053574
               ],
               [
                -71.1932288247992,
                -2.382710541937678
               ],
               [
                -71.22995336601682,
                -2.348005396805597
               ],
               [
                -71.31686811356515,
                -2.380231602999672
               ],
               [
                -71.39888625561781,
                -2.359160622026623
               ],
               [
                -71.45030061332245,
                -2.28479245388645
               ],
               [
                -71.60821614055816,
                -2.23769261406434
               ],
               [
                -71.6290267139148,
                -2.210424285746277
               ],
               [
                -71.7318554293241,
                -2.225297919374311
               ],
               [
                -71.7196139155849,
                -2.16456391539317
               ],
               [
                -71.83345999335947,
                -2.196790121587245
               ],
               [
                -71.91547813541213,
                -2.367836908309643
               ],
               [
                -72.01585854807358,
                -2.369076377778646
               ],
               [
                -72.04891063516943,
                -2.339329110522577
               ],
               [
                -72.12113556623072,
                -2.40502099237973
               ],
               [
                -72.36596584101477,
                -2.493023324678934
               ],
               [
                -72.40024207948453,
                -2.434768259635799
               ],
               [
                -72.52510551962439,
                -2.42237356494577
               ],
               [
                -72.63160668915545,
                -2.359160622026623
               ],
               [
                -72.69281425785145,
                -2.452120832201839
               ],
               [
                -72.76259088616492,
                -2.400063114503718
               ],
               [
                -72.90581659691357,
                -2.444684015387822
               ],
               [
                -72.98293813347054,
                -2.344286988398588
               ],
               [
                -73.05393891315792,
                -2.36659743884064
               ],
               [
                -73.15676762856721,
                -2.260003064506392
               ],
               [
                -73.09433590849729,
                -2.04433537689989
               ],
               [
                -73.12126723872353,
                -2.015827579112824
               ],
               [
                -73.10902572498432,
                -1.884443815398518
               ],
               [
                -73.15676762856721,
                -1.853457078673446
               ],
               [
                -73.20940613764579,
                -1.758017929560224
               ],
               [
                -73.33549372915957,
                -1.80387829991333
               ],
               [
                -73.5068749215084,
                -1.731989070711163
               ],
               [
                -73.54115115997816,
                -1.698523395048085
               ],
               [
                -73.46402962342118,
                -1.589450081775831
               ],
               [
                -73.5068749215084,
                -1.486574115848592
               ],
               [
                -73.58277230669144,
                -1.376261333107335
               ],
               [
                -73.63173836164825,
                -1.272145897711092
               ],
               [
                -73.6831527193529,
                -1.24115916098602
               ],
               [
                -73.773739921023,
                -1.262230141959069
               ],
               [
                -73.86922372818877,
                -1.225046057888983
               ],
               [
                -73.90472411803246,
                -1.128367439306758
               ],
               [
                -73.96960414085022,
                -1.125888500368752
               ],
               [
                -74.02713925542447,
                -1.065154496387611
               ],
               [
                -74.27441783295636,
                -0.979631103026411
               ],
               [
                -74.26707292471283,
                -0.827176358339056
               ],
               [
                -74.37847069973958,
                -0.640016468519621
               ],
               [
                -74.38948806210486,
                -0.553253605689419
               ],
               [
                -73.8410682465886,
                -0.398319922064058
               ],
               [
                -73.6770319624833,
                -0.421869841975113
               ],
               [
                -73.5803240039436,
                -0.455335517638191
               ],
               [
                -73.57053079295224,
                -0.516069521619333
               ],
               [
                -73.4885126508996,
                -0.528464216309361
               ],
               [
                -73.33549372915957,
                -0.506153765867309
               ],
               [
                -73.20940613764579,
                -0.623903365422583
               ],
               [
                -73.11269817910609,
                -0.604071853918537
               ],
               [
                -73.04414570216656,
                -0.534661563654375
               ],
               [
                -72.95600680324429,
                -0.563169361441442
               ],
               [
                -72.8776611153134,
                -0.617706018077569
               ],
               [
                -72.74545276693003,
                -0.560690422503436
               ],
               [
                -72.59243384519,
                -0.693313655686745
               ],
               [
                -72.5385711847375,
                -0.677200552589707
               ],
               [
                -72.43329416658037,
                -0.566887769848451
               ],
               [
                -72.31699978605795,
                -0.65241116320965
               ],
               [
                -72.24232655224883,
                -0.60531132338754
               ],
               [
                -72.23008503850963,
                -0.492519601708278
               ],
               [
                -72.18356728630066,
                -0.461532864983206
               ],
               [
                -72.14317029096128,
                -0.34750167383494
               ],
               [
                -72.06237630028255,
                -0.325191223392888
               ],
               [
                -72.01953100219535,
                -0.263217749942743
               ],
               [
                -71.78939054389835,
                -0.270654566756761
               ],
               [
                -71.71104485596746,
                -0.232231013217671
               ],
               [
                -71.73675203481977,
                -0.164060192422513
               ],
               [
                -71.70492409909785,
                -0.067381573840287
               ],
               [
                -71.54945687460999,
                0.02186022792792
               ],
               [
                -71.47478364080087,
                -0.011605447735158
               ],
               [
                -71.2715745127301,
                0.035494392086951
               ],
               [
                -71.25443639349523,
                0.059044311998006
               ],
               [
                -71.18465976518178,
                0.097467865537096
               ],
               [
                -71.13691786159887,
                0.006986594299885
               ],
               [
                -70.9985887563459,
                -0.002929161452138
               ],
               [
                -70.89698419231053,
                -0.103326188441372
               ],
               [
                -70.94472609589342,
                -0.159102314546502
               ],
               [
                -70.88474267857131,
                -0.211160032244623
               ],
               [
                -70.87862192170172,
                -0.280570322508784
               ],
               [
                -70.82720756399706,
                -0.36485424640098
               ],
               [
                -70.73906866507481,
                -0.286767669853798
               ],
               [
                -70.66561958263961,
                -0.349980612772946
               ],
               [
                -70.63746410103944,
                -0.320233345516876
               ],
               [
                -70.56401501860422,
                -0.369812124276992
               ],
               [
                -70.51749726639525,
                -0.359896368524969
               ],
               [
                -70.43670327571652,
                -0.477645968080243
               ],
               [
                -70.26777038611554,
                -0.418151433568104
               ],
               [
                -70.24451151001105,
                -0.470209151266225
               ],
               [
                -70.3204088951941,
                -0.54953519728241
               ],
               [
                -70.26409793199377,
                -0.581761403476485
               ],
               [
                -70.25185641825458,
                -0.745371373384866
               ],
               [
                -70.29102926222002,
                -0.80734484683501
               ],
               [
                -70.22492508802833,
                -0.895347179134215
               ],
               [
                -70.3020466245853,
                -0.978391633557409
               ],
               [
                -70.23839075314146,
                -1.020533595503506
               ],
               [
                -70.17840733581937,
                -1.099859641519692
               ],
               [
                -70.12699297811471,
                -1.109775397271715
               ],
               [
                -70.04497483606207,
                -0.979631103026411
               ],
               [
                -69.96050839126157,
                -0.968475877805385
               ],
               [
                -69.93602536378316,
                -1.096141233112683
               ],
               [
                -69.83931740524346,
                -1.027970412317524
               ],
               [
                -69.70466075411224,
                -1.04780192382157
               ],
               [
                -69.68017772663384,
                -1.202735607446931
               ],
               [
                -69.59203882771159,
                -1.145720011872798
               ],
               [
                -69.56633164885926,
                -1.191580382225905
               ],
               [
                -69.48186520405878,
                -1.213890832667957
               ],
               [
                -69.43289914910196,
                -1.068872904794619
               ]
              ]
             ],
             "type": "Polygon"
            },
            "id": "6",
            "properties": {},
            "type": "Feature"
           },
           {
            "bbox": [
             -72.03299666730847,
             -1.213890832667957,
             -69.14032697073503,
             2.080619015941712
            ],
            "geometry": {
             "coordinates": [
              [
               [
                -70.10985485887983,
                2.080619015941712
               ],
               [
                -70.11475146437552,
                1.998814030987522
               ],
               [
                -70.18085563856721,
                1.88602230930826
               ],
               [
                -70.05476804705343,
                1.776948996036006
               ],
               [
                -69.9017491253134,
                1.742243850903924
               ],
               [
                -69.84543816211307,
                1.713736053116858
               ],
               [
                -69.84666231348699,
                1.077888215518378
               ],
               [
                -69.74505774945162,
                1.113832830119462
               ],
               [
                -69.67405696976424,
                1.070451398704361
               ],
               [
                -69.38148479139731,
                1.074169807111369
               ],
               [
                -69.32150137407523,
                1.087803971270401
               ],
               [
                -69.1990862366832,
                0.996083230564188
               ],
               [
                -69.14032697073503,
                0.689934271720476
               ],
               [
                -69.1990862366832,
                0.615566103580302
               ],
               [
                -69.35822591529283,
                0.616805573049305
               ],
               [
                -69.43412330047587,
                0.712244722162527
               ],
               [
                -69.48186520405878,
                0.735794642073582
               ],
               [
                -69.63365997442487,
                0.636637084553351
               ],
               [
                -69.68752263487737,
                0.663905412871414
               ],
               [
                -69.72302302472104,
                0.615566103580302
               ],
               [
                -69.93602536378316,
                0.553592630130158
               ],
               [
                -70.04619898743599,
                0.563508385882181
               ],
               [
                -70.0474231388099,
                -0.109523535786386
               ],
               [
                -70.06578540941871,
                -0.164060192422513
               ],
               [
                -69.9017491253134,
                -0.337585918082917
               ],
               [
                -69.8295241942521,
                -0.362375307462974
               ],
               [
                -69.70955735960793,
                -0.454096048169188
               ],
               [
                -69.61162524969431,
                -0.499956418522295
               ],
               [
                -69.57245240572887,
                -0.632579651705603
               ],
               [
                -69.61162524969431,
                -0.766442354357915
               ],
               [
                -69.5259346535199,
                -0.869318320285155
               ],
               [
                -69.52838295626773,
                -0.91889709904527
               ],
               [
                -69.43045084635412,
                -1.015575717627495
               ],
               [
                -69.43289914910196,
                -1.068872904794619
               ],
               [
                -69.48186520405878,
                -1.213890832667957
               ],
               [
                -69.56633164885926,
                -1.191580382225905
               ],
               [
                -69.59203882771159,
                -1.145720011872798
               ],
               [
                -69.68017772663384,
                -1.202735607446931
               ],
               [
                -69.70466075411224,
                -1.04780192382157
               ],
               [
                -69.83931740524346,
                -1.027970412317524
               ],
               [
                -69.93602536378316,
                -1.096141233112683
               ],
               [
                -69.96050839126157,
                -0.968475877805385
               ],
               [
                -70.04497483606207,
                -0.979631103026411
               ],
               [
                -70.12699297811471,
                -1.109775397271715
               ],
               [
                -70.17840733581937,
                -1.099859641519692
               ],
               [
                -70.23839075314146,
                -1.020533595503506
               ],
               [
                -70.3020466245853,
                -0.978391633557409
               ],
               [
                -70.22492508802833,
                -0.895347179134215
               ],
               [
                -70.29102926222002,
                -0.80734484683501
               ],
               [
                -70.25185641825458,
                -0.745371373384866
               ],
               [
                -70.26409793199377,
                -0.581761403476485
               ],
               [
                -70.3204088951941,
                -0.54953519728241
               ],
               [
                -70.24451151001105,
                -0.470209151266225
               ],
               [
                -70.26777038611554,
                -0.418151433568104
               ],
               [
                -70.43670327571652,
                -0.477645968080243
               ],
               [
                -70.51749726639525,
                -0.359896368524969
               ],
               [
                -70.56401501860422,
                -0.369812124276992
               ],
               [
                -70.63746410103944,
                -0.320233345516876
               ],
               [
                -70.66561958263961,
                -0.349980612772946
               ],
               [
                -70.73906866507481,
                -0.286767669853798
               ],
               [
                -70.82720756399706,
                -0.36485424640098
               ],
               [
                -70.87862192170172,
                -0.280570322508784
               ],
               [
                -70.88474267857131,
                -0.211160032244623
               ],
               [
                -70.94472609589342,
                -0.159102314546502
               ],
               [
                -70.89698419231053,
                -0.103326188441372
               ],
               [
                -70.9985887563459,
                -0.002929161452138
               ],
               [
                -71.13691786159887,
                0.006986594299885
               ],
               [
                -71.18465976518178,
                0.097467865537096
               ],
               [
                -71.25443639349523,
                0.059044311998006
               ],
               [
                -71.29728169158243,
                0.075157415095044
               ],
               [
                -71.3744032281394,
                0.174314972615274
               ],
               [
                -71.44907646194854,
                0.139609827483194
               ],
               [
                -71.58373311307976,
                0.163159747394249
               ],
               [
                -71.62657841116696,
                0.216456934561373
               ],
               [
                -71.69757919085433,
                0.237527915534422
               ],
               [
                -71.76980412191563,
                0.328009186771633
               ],
               [
                -71.83223584198555,
                0.339164411992659
               ],
               [
                -71.85671886946396,
                0.455674542078929
               ],
               [
                -71.92159889228174,
                0.459392950485938
               ],
               [
                -71.92894380052525,
                0.543676874378135
               ],
               [
                -71.99015136922127,
                0.565987324820187
               ],
               [
                -71.98158230960382,
                0.629200267739334
               ],
               [
                -72.03299666730847,
                0.663905412871414
               ],
               [
                -71.80285620901147,
                0.888249386760937
               ],
               [
                -71.74042448894154,
                0.984928005343161
               ],
               [
                -71.64126822765401,
                0.994843761095185
               ],
               [
                -71.5739399020884,
                1.081606623925387
               ],
               [
                -71.54700857186215,
                1.270005983213825
               ],
               [
                -71.45519721881813,
                1.464602689847278
               ],
               [
                -71.43805909958326,
                1.546407674801469
               ],
               [
                -71.39031719600037,
                1.59846539249959
               ],
               [
                -71.40255870973957,
                1.722412339399878
               ],
               [
                -71.31564396219123,
                1.714975522585862
               ],
               [
                -71.2593329989909,
                1.667875682763752
               ],
               [
                -71.16507334319905,
                1.755878015062956
               ],
               [
                -70.98879554535453,
                1.824048835858116
               ],
               [
                -70.89453588956269,
                1.919487984971338
               ],
               [
                -70.70479242660505,
                1.907093290281309
               ],
               [
                -70.48689348204725,
                1.949235252227407
               ],
               [
                -70.44159988121221,
                1.99385615311151
               ],
               [
                -70.22982169352402,
                2.034758645588606
               ],
               [
                -70.18820054681072,
                2.023603420367579
               ],
               [
                -70.10985485887983,
                2.080619015941712
               ]
              ]
             ],
             "type": "Polygon"
            },
            "id": "7",
            "properties": {},
            "type": "Feature"
           },
           {
            "bbox": [
             -73.66111799462233,
             0.663905412871414,
             -69.99600878110526,
             2.893710987607605
            ],
            "geometry": {
             "coordinates": [
              [
               [
                -71.07693444427679,
                2.88255576238658
               ],
               [
                -71.05489971954623,
                2.851569025661507
               ],
               [
                -70.95941591238045,
                2.842892739378487
               ],
               [
                -70.93615703627597,
                2.78835608274236
               ],
               [
                -70.82231095850139,
                2.813145472122418
               ],
               [
                -70.72070639446602,
                2.749932529203271
               ],
               [
                -70.58360144058695,
                2.840413800440481
               ],
               [
                -70.5015832985343,
                2.78835608274236
               ],
               [
                -70.94227779314556,
                2.606154070798936
               ],
               [
                -70.91657061429325,
                2.560293700445829
               ],
               [
                -70.84801813735372,
                2.567730517259847
               ],
               [
                -70.76599999530106,
                2.53922271947278
               ],
               [
                -70.70724072935289,
                2.472291368146625
               ],
               [
                -70.63011919279592,
                2.312399806645252
               ],
               [
                -70.56156671585639,
                2.292568295141206
               ],
               [
                -70.49668669303861,
                2.234313230098071
               ],
               [
                -70.42691006472516,
                2.267778905761149
               ],
               [
                -70.31061568420274,
                2.20828437124901
               ],
               [
                -70.25185641825458,
                2.26406049735414
               ],
               [
                -70.18942469818465,
                2.231834291160064
               ],
               [
                -70.07068201491438,
                2.291328825672203
               ],
               [
                -69.99600878110526,
                2.224397474346048
               ],
               [
                -70.1012857992624,
                2.117803100011799
               ],
               [
                -70.10985485887983,
                2.080619015941712
               ],
               [
                -70.18820054681072,
                2.023603420367579
               ],
               [
                -70.22982169352402,
                2.034758645588606
               ],
               [
                -70.44159988121221,
                1.99385615311151
               ],
               [
                -70.48689348204725,
                1.949235252227407
               ],
               [
                -70.70479242660505,
                1.907093290281309
               ],
               [
                -70.89453588956269,
                1.919487984971338
               ],
               [
                -70.98879554535453,
                1.824048835858116
               ],
               [
                -71.16507334319905,
                1.755878015062956
               ],
               [
                -71.2593329989909,
                1.667875682763752
               ],
               [
                -71.31564396219123,
                1.714975522585862
               ],
               [
                -71.40255870973957,
                1.722412339399878
               ],
               [
                -71.39031719600037,
                1.59846539249959
               ],
               [
                -71.43805909958326,
                1.546407674801469
               ],
               [
                -71.45519721881813,
                1.464602689847278
               ],
               [
                -71.54700857186215,
                1.270005983213825
               ],
               [
                -71.5739399020884,
                1.081606623925387
               ],
               [
                -71.64126822765401,
                0.994843761095185
               ],
               [
                -71.74042448894154,
                0.984928005343161
               ],
               [
                -71.80285620901147,
                0.888249386760937
               ],
               [
                -72.03299666730847,
                0.663905412871414
               ],
               [
                -72.08073857089136,
                0.70480790534851
               ],
               [
                -72.26925788247507,
                0.763062970391645
               ],
               [
                -72.39901792811061,
                1.002280577909202
               ],
               [
                -72.46757040505014,
                1.084085562863392
               ],
               [
                -72.5079674003895,
                1.067972459766355
               ],
               [
                -72.65119311113817,
                1.172087895162598
               ],
               [
                -72.79809127600859,
                1.175806303569606
               ],
               [
                -72.87031620706989,
                1.146059036313537
               ],
               [
                -72.85685054195676,
                1.043183070386298
               ],
               [
                -73.04536985354048,
                0.905601959326977
               ],
               [
                -73.07842194063632,
                0.894446734105951
               ],
               [
                -73.32202806404644,
                1.080367154456384
               ],
               [
                -73.39302884373382,
                1.14729850578254
               ],
               [
                -73.41383941709046,
                1.245216593833768
               ],
               [
                -73.47627113716038,
                1.361726723920039
               ],
               [
                -73.6586696918745,
                1.576154942057538
               ],
               [
                -73.65989384324841,
                1.612099556658622
               ],
               [
                -73.66111799462233,
                2.293807764610209
               ],
               [
                -73.63173836164825,
                2.353302299122348
               ],
               [
                -73.51421982975191,
                2.349583890715339
               ],
               [
                -73.43832244456885,
                2.383049566378417
               ],
               [
                -73.29876918794196,
                2.335949726556307
               ],
               [
                -73.24000992199379,
                2.389246913723431
               ],
               [
                -73.15309517444545,
                2.366936463281379
               ],
               [
                -73.06618042689712,
                2.426430997793518
               ],
               [
                -73.01231776644462,
                2.433867814607535
               ],
               [
                -72.93642038126157,
                2.503278104871696
               ],
               [
                -72.92173056477453,
                2.560293700445829
               ],
               [
                -72.8164535466174,
                2.614830357081956
               ],
               [
                -72.73565955593867,
                2.571448925666855
               ],
               [
                -72.70015916609498,
                2.619788234957968
               ],
               [
                -72.59977875343353,
                2.614830357081956
               ],
               [
                -72.56305421221592,
                2.681761708408112
               ],
               [
                -72.48593267565894,
                2.68548011681512
               ],
               [
                -72.47001870779798,
                2.733819426106233
               ],
               [
                -72.38922471711925,
                2.736298365044239
               ],
               [
                -72.35862093277125,
                2.780919265928342
               ],
               [
                -72.2043778596573,
                2.859005842475525
               ],
               [
                -72.11256650661328,
                2.875118945572562
               ],
               [
                -72.04646233242158,
                2.818103349998429
               ],
               [
                -71.85794302083788,
                2.842892739378487
               ],
               [
                -71.74164864031546,
                2.883795231855582
               ],
               [
                -71.65228559001929,
                2.820582288936435
               ],
               [
                -71.46866288393126,
                2.893710987607605
               ],
               [
                -71.38909304462645,
                2.845371678316493
               ],
               [
                -71.32910962730435,
                2.892471518138603
               ],
               [
                -71.2776952695997,
                2.867682128758545
               ],
               [
                -71.07693444427679,
                2.88255576238658
               ]
              ]
             ],
             "type": "Polygon"
            },
            "id": "8",
            "properties": {},
            "type": "Feature"
           },
           {
            "bbox": [
             -75.91722897675727,
             4.802493969872049,
             -74.62697342864537,
             5.769280155694299
            ],
            "geometry": {
             "coordinates": [
              [
               [
                -74.6649221212369,
                5.768040686225296
               ],
               [
                -74.66124966711514,
                5.751927583128259
               ],
               [
                -74.62697342864537,
                5.697390926492131
               ],
               [
                -74.67471533222826,
                5.516428384017711
               ],
               [
                -74.66737042398474,
                5.404876131807452
               ],
               [
                -74.73469874955035,
                5.287126532252177
               ],
               [
                -74.85099313007277,
                5.314394860570241
               ],
               [
                -74.93913202899503,
                5.313155391101237
               ],
               [
                -75.05665056089137,
                5.274731837562149
               ],
               [
                -75.11663397821346,
                5.160700646413883
               ],
               [
                -75.28801517056229,
                5.13839019597183
               ],
               [
                -75.3443261337626,
                5.081374600397698
               ],
               [
                -75.31739480353637,
                5.028077413230573
               ],
               [
                -75.35167104200613,
                4.938835611462366
               ],
               [
                -75.32351556040597,
                4.865706912791197
               ],
               [
                -75.37492991811062,
                4.802493969872049
               ],
               [
                -75.42756842718919,
                4.81612813403108
               ],
               [
                -75.4826552390156,
                4.916525161020314
               ],
               [
                -75.71401984868652,
                4.956188184028406
               ],
               [
                -75.74707193578236,
                5.046669455265617
               ],
               [
                -75.81440026134797,
                4.91900409995832
               ],
               [
                -75.89029764653102,
                4.959906592435415
               ],
               [
                -75.91722897675727,
                5.078895661459692
               ],
               [
                -75.80215874760877,
                5.197884730483969
               ],
               [
                -75.80338289898269,
                5.280929184907162
               ],
               [
                -75.69320927532986,
                5.254900326058102
               ],
               [
                -75.64791567449483,
                5.308197513225226
               ],
               [
                -75.73972702753883,
                5.397439314993434
               ],
               [
                -75.81072780722621,
                5.361494700392351
               ],
               [
                -75.8584697108091,
                5.377607803489388
               ],
               [
                -75.86826292180046,
                5.49039952516865
               ],
               [
                -75.72993381654747,
                5.563528223839821
               ],
               [
                -75.68953682120811,
                5.518907322955716
               ],
               [
                -75.56956998656393,
                5.522625731362725
               ],
               [
                -75.59894961953802,
                5.737053949500224
               ],
               [
                -75.47898278489383,
                5.663925250829054
               ],
               [
                -75.37737822085846,
                5.673841006581076
               ],
               [
                -75.27577365682308,
                5.418510295966483
               ],
               [
                -75.22068684499668,
                5.502794219858679
               ],
               [
                -75.14723776256146,
                5.530062548176742
               ],
               [
                -75.09092679936113,
                5.585838674281872
               ],
               [
                -75.09949585897857,
                5.642854269856006
               ],
               [
                -74.99299468944751,
                5.715982968527175
               ],
               [
                -74.86568294655982,
                5.746969705252248
               ],
               [
                -74.80692368061165,
                5.699869865430138
               ],
               [
                -74.73959535504603,
                5.699869865430138
               ],
               [
                -74.7138881761937,
                5.769280155694299
               ],
               [
                -74.6649221212369,
                5.768040686225296
               ]
              ]
             ],
             "type": "Polygon"
            },
            "id": "9",
            "properties": {},
            "type": "Feature"
           },
           {
            "bbox": [
             -75.88784934378319,
             4.077404330505361,
             -75.38839558322374,
             4.715731107041847
            ],
            "geometry": {
             "coordinates": [
              [
               [
                -75.38839558322374,
                4.715731107041847
               ],
               [
                -75.41532691344999,
                4.62277089686663
               ],
               [
                -75.51448317473752,
                4.555839545540474
               ],
               [
                -75.57813904618138,
                4.451724110144232
               ],
               [
                -75.59282886266841,
                4.319100876960924
               ],
               [
                -75.69688172945163,
                4.131940987141487
               ],
               [
                -75.75196854127805,
                4.077404330505361
               ],
               [
                -75.8401074402003,
                4.100954250416416
               ],
               [
                -75.82296932096541,
                4.228619605723713
               ],
               [
                -75.78746893112172,
                4.294311487580865
               ],
               [
                -75.80338289898269,
                4.395947984039102
               ],
               [
                -75.88784934378319,
                4.430653129171183
               ],
               [
                -75.86703877042653,
                4.607897263238595
               ],
               [
                -75.82541762371325,
                4.663673389343726
               ],
               [
                -75.706674940443,
                4.657476041998711
               ],
               [
                -75.71401984868652,
                4.713252168103841
               ],
               [
                -75.58303565167705,
                4.707054820758827
               ],
               [
                -75.49244845000696,
                4.666152328281731
               ],
               [
                -75.38839558322374,
                4.715731107041847
               ]
              ]
             ],
             "type": "Polygon"
            },
            "id": "10",
            "properties": {},
            "type": "Feature"
           },
           {
            "bbox": [
             -76.20123209550675,
             4.666152328281731,
             -75.37492991811062,
             5.567246632246828
            ],
            "geometry": {
             "coordinates": [
              [
               [
                -75.86826292180046,
                5.49039952516865
               ],
               [
                -75.8584697108091,
                5.377607803489388
               ],
               [
                -75.81072780722621,
                5.361494700392351
               ],
               [
                -75.73972702753883,
                5.397439314993434
               ],
               [
                -75.64791567449483,
                5.308197513225226
               ],
               [
                -75.69320927532986,
                5.254900326058102
               ],
               [
                -75.80338289898269,
                5.280929184907162
               ],
               [
                -75.80215874760877,
                5.197884730483969
               ],
               [
                -75.91722897675727,
                5.078895661459692
               ],
               [
                -75.89029764653102,
                4.959906592435415
               ],
               [
                -75.81440026134797,
                4.91900409995832
               ],
               [
                -75.74707193578236,
                5.046669455265617
               ],
               [
                -75.71401984868652,
                4.956188184028406
               ],
               [
                -75.4826552390156,
                4.916525161020314
               ],
               [
                -75.42756842718919,
                4.81612813403108
               ],
               [
                -75.37492991811062,
                4.802493969872049
               ],
               [
                -75.38839558322374,
                4.715731107041847
               ],
               [
                -75.49244845000696,
                4.666152328281731
               ],
               [
                -75.58303565167705,
                4.707054820758827
               ],
               [
                -75.71401984868652,
                4.713252168103841
               ],
               [
                -75.79114138524349,
                4.718210045979852
               ],
               [
                -75.93559124736606,
                4.808691317217063
               ],
               [
                -75.98822975644464,
                4.874383199074217
               ],
               [
                -76.07759280674081,
                5.046669455265617
               ],
               [
                -76.06045468750592,
                5.135911257033825
               ],
               [
                -76.12411055894978,
                5.173095341103911
               ],
               [
                -76.20123209550675,
                5.321831677384258
               ],
               [
                -76.19021473314147,
                5.397439314993434
               ],
               [
                -76.08861016910609,
                5.445778624284547
               ],
               [
                -76.08493771498433,
                5.533780956583751
               ],
               [
                -76.00904032980128,
                5.567246632246828
               ],
               [
                -75.98333315094895,
                5.518907322955716
               ],
               [
                -75.86826292180046,
                5.49039952516865
               ]
              ]
             ],
             "type": "Polygon"
            },
            "id": "11",
            "properties": {},
            "type": "Feature"
           },
           {
            "bbox": [
             -77.12301808006866,
             5.418510295966483,
             -73.88758599879758,
             8.874151175546528
            ],
            "geometry": {
             "coordinates": [
              [
               [
                -74.83018255671612,
                8.199879784408957
               ],
               [
                -74.78488895588109,
                8.131708963613798
               ],
               [
                -74.72490553855899,
                8.116835329985765
               ],
               [
                -74.60493870391481,
                8.03750928396958
               ],
               [
                -74.5192481077404,
                7.901167642379262
               ],
               [
                -74.50823074537512,
                7.723923508311849
               ],
               [
                -74.56086925445368,
                7.645836931764668
               ],
               [
                -74.5682141626972,
                7.519411045926374
               ],
               [
                -74.5988179470452,
                7.46239545035224
               ],
               [
                -74.49109262614023,
                7.343406381327963
               ],
               [
                -74.41397108958326,
                7.399182507433094
               ],
               [
                -74.41274693820934,
                7.459916511414235
               ],
               [
                -74.31971143379141,
                7.440084999910189
               ],
               [
                -74.3980571217223,
                7.348364259203976
               ],
               [
                -74.4102986354615,
                7.202106861861635
               ],
               [
                -74.32215973653925,
                7.018665380449209
               ],
               [
                -74.2462623513562,
                7.002552277352169
               ],
               [
                -73.91574148039774,
                7.295067072036851
               ],
               [
                -73.93900035650222,
                7.182275350357589
               ],
               [
                -73.88758599879758,
                7.070723098147329
               ],
               [
                -73.89737920978894,
                6.986439174255132
               ],
               [
                -74.01122528756352,
                6.913310475583962
               ],
               [
                -74.11527815434673,
                6.76581360877262
               ],
               [
                -74.23157253486914,
                6.71003748266749
               ],
               [
                -74.25605556234756,
                6.675332337535409
               ],
               [
                -74.35888427775686,
                6.63319037558931
               ],
               [
                -74.40907448408758,
                6.5860905357672
               ],
               [
                -74.39683297034838,
                6.45222783311489
               ],
               [
                -74.45069563080087,
                6.331999294621609
               ],
               [
                -74.52659301598392,
                6.273744229578474
               ],
               [
                -74.61228361215834,
                6.126247362767129
               ],
               [
                -74.56209340582761,
                6.077908053476017
               ],
               [
                -74.56331755720153,
                6.002300415866841
               ],
               [
                -74.61228361215834,
                5.966355801265758
               ],
               [
                -74.59024888742776,
                5.894466572063591
               ],
               [
                -74.63799079101065,
                5.865958774276525
               ],
               [
                -74.6649221212369,
                5.768040686225296
               ],
               [
                -74.7138881761937,
                5.769280155694299
               ],
               [
                -74.73959535504603,
                5.699869865430138
               ],
               [
                -74.80692368061165,
                5.699869865430138
               ],
               [
                -74.86568294655982,
                5.746969705252248
               ],
               [
                -74.99299468944751,
                5.715982968527175
               ],
               [
                -75.09949585897857,
                5.642854269856006
               ],
               [
                -75.09092679936113,
                5.585838674281872
               ],
               [
                -75.14723776256146,
                5.530062548176742
               ],
               [
                -75.22068684499668,
                5.502794219858679
               ],
               [
                -75.27577365682308,
                5.418510295966483
               ],
               [
                -75.37737822085846,
                5.673841006581076
               ],
               [
                -75.47898278489383,
                5.663925250829054
               ],
               [
                -75.59894961953802,
                5.737053949500224
               ],
               [
                -75.56956998656393,
                5.522625731362725
               ],
               [
                -75.68953682120811,
                5.518907322955716
               ],
               [
                -75.72993381654747,
                5.563528223839821
               ],
               [
                -75.86826292180046,
                5.49039952516865
               ],
               [
                -75.98333315094895,
                5.518907322955716
               ],
               [
                -76.00904032980128,
                5.567246632246828
               ],
               [
                -76.00659202705344,
                5.62302275835196
               ],
               [
                -76.08738601773217,
                5.688714640209112
               ],
               [
                -76.06290299025378,
                5.727138193748202
               ],
               [
                -76.09840338009745,
                5.849845671179487
               ],
               [
                -76.05678223338417,
                5.895706041532593
               ],
               [
                -76.10452413696706,
                6.018413518963879
               ],
               [
                -76.15961094879347,
                6.003539885335845
               ],
               [
                -76.19143888451539,
                6.059316011440975
               ],
               [
                -76.2098011551242,
                6.184502427810266
               ],
               [
                -76.23795663672436,
                6.208052347721321
               ],
               [
                -76.37750989335126,
                6.193178714093285
               ],
               [
                -76.42035519143847,
                6.165910385775222
               ],
               [
                -76.60152959477865,
                6.191939244624283
               ],
               [
                -76.71659982392715,
                6.170868263651235
               ],
               [
                -76.71782397530107,
                6.215489164535338
               ],
               [
                -76.79004890636237,
                6.318365130462578
               ],
               [
                -76.77780739262317,
                6.489411917184976
               ],
               [
                -76.89899837864127,
                6.579893188422187
               ],
               [
                -76.95408519046768,
                6.675332337535409
               ],
               [
                -76.97244746107648,
                6.798039814966694
               ],
               [
                -76.87573950253679,
                6.851337002133818
               ],
               [
                -76.79372136048413,
                6.86497116629285
               ],
               [
                -76.82432514483213,
                7.005031216290176
               ],
               [
                -76.67620282858779,
                7.029820605670233
               ],
               [
                -76.54766693432617,
                7.001312807883167
               ],
               [
                -76.49992503074328,
                7.168641186198556
               ],
               [
                -76.53052881509129,
                7.255404049028758
               ],
               [
                -76.61499525989178,
                7.312419644602892
               ],
               [
                -76.66151301210076,
                7.448761286193209
               ],
               [
                -76.80106626872765,
                7.571468763624495
               ],
               [
                -76.93572291985888,
                7.583863458314523
               ],
               [
                -76.96020594733727,
                7.639639584419653
               ],
               [
                -77.12301808006866,
                7.789615390169002
               ],
               [
                -77.02631012152897,
                7.890012417158236
               ],
               [
                -76.99693048855488,
                8.018917241934536
               ],
               [
                -76.93817122260671,
                8.068496020694651
               ],
               [
                -76.97979236932,
                8.255655910514088
               ],
               [
                -76.9247055574936,
                8.02511458927955
               ],
               [
                -76.92225725474574,
                7.917280745476299
               ],
               [
                -76.8279975989539,
                7.902407111848264
               ],
               [
                -76.74842775964909,
                7.92223862335231
               ],
               [
                -76.73373794316204,
                8.070974959632657
               ],
               [
                -76.73863454865773,
                8.173850925559897
               ],
               [
                -76.7741349385014,
                8.268050605204117
               ],
               [
                -76.75822097064045,
                8.391997552104405
               ],
               [
                -76.82432514483213,
                8.496112987500647
               ],
               [
                -76.92715386024143,
                8.541973357853754
               ],
               [
                -76.88553271352815,
                8.622538873338941
               ],
               [
                -76.64927149836154,
                8.670878182630053
               ],
               [
                -76.63090922775274,
                8.730372717142192
               ],
               [
                -76.5439944802044,
                8.762598923336267
               ],
               [
                -76.41301028319495,
                8.874151175546528
               ],
               [
                -76.33956120075973,
                8.641130915373985
               ],
               [
                -76.26611211832453,
                8.638651976435979
               ],
               [
                -76.2098011551242,
                8.52338131581871
               ],
               [
                -76.22693927435908,
                8.380842326883378
               ],
               [
                -76.28814684305509,
                8.328784609185258
               ],
               [
                -76.35180271449894,
                8.203598192815965
               ],
               [
                -76.34813026037718,
                8.155258883524853
               ],
               [
                -76.42892425105592,
                8.058580264942629
               ],
               [
                -76.41178613182103,
                8.006522547244508
               ],
               [
                -76.48156276013448,
                7.820602126894075
               ],
               [
                -76.49380427387368,
                7.541721496368424
               ],
               [
                -76.38118234747303,
                7.391745690619077
               ],
               [
                -75.84500404569597,
                7.347124789734972
               ],
               [
                -75.74217533028667,
                7.612371256101589
               ],
               [
                -75.71157154593867,
                7.581384519376517
               ],
               [
                -75.60507037640761,
                7.585102927783526
               ],
               [
                -75.47408617939816,
                7.777220695478974
               ],
               [
                -75.32963631727557,
                7.927196501228323
               ],
               [
                -75.22068684499668,
                8.066017081756646
               ],
               [
                -75.19253136339651,
                8.047425039721603
               ],
               [
                -75.05665056089137,
                8.047425039721603
               ],
               [
                -74.96606335922127,
                8.089567001667701
               ],
               [
                -74.92811466662974,
                8.074693368039666
               ],
               [
                -74.83018255671612,
                8.199879784408957
               ]
              ]
             ],
             "type": "Polygon"
            },
            "id": "12",
            "properties": {},
            "type": "Feature"
           },
           {
            "bbox": [
             -77.88321608327311,
             3.964612608826098,
             -76.00659202705344,
             8.644849323780994
            ],
            "geometry": {
             "coordinates": [
              [
               [
                -76.97979236932,
                8.255655910514088
               ],
               [
                -76.93817122260671,
                8.068496020694651
               ],
               [
                -76.99693048855488,
                8.018917241934536
               ],
               [
                -77.02631012152897,
                7.890012417158236
               ],
               [
                -77.12301808006866,
                7.789615390169002
               ],
               [
                -76.96020594733727,
                7.639639584419653
               ],
               [
                -76.93572291985888,
                7.583863458314523
               ],
               [
                -76.80106626872765,
                7.571468763624495
               ],
               [
                -76.66151301210076,
                7.448761286193209
               ],
               [
                -76.61499525989178,
                7.312419644602892
               ],
               [
                -76.53052881509129,
                7.255404049028758
               ],
               [
                -76.49992503074328,
                7.168641186198556
               ],
               [
                -76.54766693432617,
                7.001312807883167
               ],
               [
                -76.67620282858779,
                7.029820605670233
               ],
               [
                -76.82432514483213,
                7.005031216290176
               ],
               [
                -76.79372136048413,
                6.86497116629285
               ],
               [
                -76.87573950253679,
                6.851337002133818
               ],
               [
                -76.97244746107648,
                6.798039814966694
               ],
               [
                -76.95408519046768,
                6.675332337535409
               ],
               [
                -76.89899837864127,
                6.579893188422187
               ],
               [
                -76.77780739262317,
                6.489411917184976
               ],
               [
                -76.79004890636237,
                6.318365130462578
               ],
               [
                -76.71782397530107,
                6.215489164535338
               ],
               [
                -76.71659982392715,
                6.170868263651235
               ],
               [
                -76.60152959477865,
                6.191939244624283
               ],
               [
                -76.42035519143847,
                6.165910385775222
               ],
               [
                -76.37750989335126,
                6.193178714093285
               ],
               [
                -76.23795663672436,
                6.208052347721321
               ],
               [
                -76.2098011551242,
                6.184502427810266
               ],
               [
                -76.19143888451539,
                6.059316011440975
               ],
               [
                -76.15961094879347,
                6.003539885335845
               ],
               [
                -76.10452413696706,
                6.018413518963879
               ],
               [
                -76.05678223338417,
                5.895706041532593
               ],
               [
                -76.09840338009745,
                5.849845671179487
               ],
               [
                -76.06290299025378,
                5.727138193748202
               ],
               [
                -76.08738601773217,
                5.688714640209112
               ],
               [
                -76.00659202705344,
                5.62302275835196
               ],
               [
                -76.00904032980128,
                5.567246632246828
               ],
               [
                -76.08493771498433,
                5.533780956583751
               ],
               [
                -76.08861016910609,
                5.445778624284547
               ],
               [
                -76.19021473314147,
                5.397439314993434
               ],
               [
                -76.20123209550675,
                5.321831677384258
               ],
               [
                -76.12411055894978,
                5.173095341103911
               ],
               [
                -76.06045468750592,
                5.135911257033825
               ],
               [
                -76.07759280674081,
                5.046669455265617
               ],
               [
                -76.08861016910609,
                4.946272428276384
               ],
               [
                -76.14492113230642,
                4.838438584473133
               ],
               [
                -76.21102530649812,
                4.829762298190111
               ],
               [
                -76.3126298705335,
                4.750436252173927
               ],
               [
                -76.28569854030725,
                4.712012698634839
               ],
               [
                -76.3860789529687,
                4.481471377400302
               ],
               [
                -76.56235675081321,
                4.369919125190041
               ],
               [
                -76.52685636096953,
                4.288114140235852
               ],
               [
                -76.44483821891687,
                4.175322418556588
               ],
               [
                -76.49870087936937,
                4.063770166346329
               ],
               [
                -76.58928808103946,
                3.993120406613164
               ],
               [
                -76.68109943408348,
                3.964612608826098
               ],
               [
                -76.86717044291935,
                4.032783429621256
               ],
               [
                -76.91491234650223,
                4.095996372540403
               ],
               [
                -76.99448218580704,
                4.120785761920462
               ],
               [
                -77.04956899763346,
                4.094756903071401
               ],
               [
                -77.15851846991235,
                4.182759235370606
               ],
               [
                -77.30664078615669,
                4.165406662804566
               ],
               [
                -77.35315853836566,
                4.197632868998641
               ],
               [
                -77.44986649690536,
                4.038980776966271
               ],
               [
                -77.52576388208841,
                4.126983109265476
               ],
               [
                -77.5245397307145,
                4.257127403510779
               ],
               [
                -77.4278317721748,
                4.31786140749192
               ],
               [
                -77.35438268973958,
                4.415779495543148
               ],
               [
                -77.32622720813941,
                4.569473709699507
               ],
               [
                -77.3127615430263,
                4.773986172084982
               ],
               [
                -77.34826193286997,
                4.811170256155069
               ],
               [
                -77.37519326309622,
                4.958667122966412
               ],
               [
                -77.38743477683543,
                5.28836600172118
               ],
               [
                -77.41314195568775,
                5.403636662338448
               ],
               [
                -77.38988307958327,
                5.44329968534654
               ],
               [
                -77.47190122163592,
                5.49039952516865
               ],
               [
                -77.53922954720153,
                5.480483769416628
               ],
               [
                -77.50372915735785,
                5.58459920481287
               ],
               [
                -77.42171101530519,
                5.625501697289964
               ],
               [
                -77.33846872187863,
                5.619304349944951
               ],
               [
                -77.26379548806949,
                5.715982968527175
               ],
               [
                -77.25645057982597,
                5.794069545074358
               ],
               [
                -77.2895026669218,
                5.846127262772479
               ],
               [
                -77.33602041913078,
                6.001060946397839
               ],
               [
                -77.45476310240105,
                6.133684179581147
               ],
               [
                -77.4829185840012,
                6.193178714093285
               ],
               [
                -77.409469501566,
                6.227883859225367
               ],
               [
                -77.35927929523527,
                6.392733298602751
               ],
               [
                -77.35927929523527,
                6.488172447715973
               ],
               [
                -77.3250030567655,
                6.548906451697114
               ],
               [
                -77.3972279878268,
                6.620795680899281
               ],
               [
                -77.44864234553144,
                6.706319074260481
               ],
               [
                -77.51597067109705,
                6.656740295500365
               ],
               [
                -77.56983333154953,
                6.795560876028688
               ],
               [
                -77.61757523513242,
                6.842660715850798
               ],
               [
                -77.71061073955036,
                6.879844799920885
               ],
               [
                -77.66286883596747,
                7.000073338414165
               ],
               [
                -77.88321608327311,
                7.218219964958672
               ],
               [
                -77.79262888160301,
                7.461155980883238
               ],
               [
                -77.70204167993292,
                7.50949529017435
               ],
               [
                -77.74855943214189,
                7.614850195039596
               ],
               [
                -77.74243867527228,
                7.678063137958743
               ],
               [
                -77.6469548681065,
                7.653273748578686
               ],
               [
                -77.60655787276714,
                7.541721496368424
               ],
               [
                -77.56860918017561,
                7.508255820705347
               ],
               [
                -77.49271179499256,
                7.583863458314523
               ],
               [
                -77.3127615430263,
                7.897449233972253
               ],
               [
                -77.179329043269,
                7.917280745476299
               ],
               [
                -77.21850188723444,
                8.089567001667701
               ],
               [
                -77.26134718532165,
                8.212274479098987
               ],
               [
                -77.33357211638294,
                8.27424795254913
               ],
               [
                -77.3862106254615,
                8.440336861395517
               ],
               [
                -77.44986649690536,
                8.499831395907655
               ],
               [
                -77.34458947874822,
                8.644849323780994
               ],
               [
                -77.28705436417397,
                8.571720625109823
               ],
               [
                -77.24788152020852,
                8.47132359812059
               ],
               [
                -77.12913883693827,
                8.409350124670445
               ],
               [
                -77.03610333252033,
                8.253176971576082
               ],
               [
                -76.97979236932,
                8.255655910514088
               ]
              ]
             ],
             "type": "Polygon"
            },
            "id": "13",
            "properties": {},
            "type": "Feature"
           },
           {
            "bbox": [
             -79.00698704453185,
             0.365193270841719,
             -76.83411835582349,
             2.680522238939109
            ],
            "geometry": {
             "coordinates": [
              [
               [
                -77.92850968410815,
                2.640859215931017
               ],
               [
                -77.91749232174287,
                2.411557364165483
               ],
               [
                -77.84771569342942,
                2.260342088947131
               ],
               [
                -77.83547417969022,
                2.176058165054934
               ],
               [
                -77.73386961565484,
                2.133916203108837
               ],
               [
                -77.55391936368858,
                2.202087023903995
               ],
               [
                -77.48781518949689,
                2.194650207089978
               ],
               [
                -77.45965970789672,
                2.286370947796192
               ],
               [
                -77.32255475401766,
                2.221918535408041
               ],
               [
                -77.30786493753061,
                2.107887344259776
               ],
               [
                -77.33234796500902,
                2.04963227921664
               ],
               [
                -77.2038120707474,
                1.951714191165412
               ],
               [
                -77.28093360730438,
                1.859993450459199
               ],
               [
                -77.32989966226118,
                1.686467724798795
               ],
               [
                -77.23931246059108,
                1.657959927011729
               ],
               [
                -76.93572291985888,
                1.728609686744893
               ],
               [
                -76.83411835582349,
                1.614578495596628
               ],
               [
                -76.92837801161535,
                1.483194731882322
               ],
               [
                -76.92103310337183,
                1.345613620823001
               ],
               [
                -76.98101652069393,
                1.222906143391715
               ],
               [
                -77.0887418415989,
                1.183243120383623
               ],
               [
                -77.08384523610322,
                1.061775112421341
               ],
               [
                -77.02753427290288,
                0.994843761095185
               ],
               [
                -77.11689732319907,
                0.900644081450966
               ],
               [
                -77.18667395151252,
                0.630439737208337
               ],
               [
                -77.12791468556435,
                0.60193193942127
               ],
               [
                -77.13036298831219,
                0.525084832343091
               ],
               [
                -77.08996599297282,
                0.42592727482286
               ],
               [
                -77.1132248690773,
                0.372630087655737
               ],
               [
                -77.29684757516533,
                0.365193270841719
               ],
               [
                -77.3250030567655,
                0.387503721283771
               ],
               [
                -77.52331557934058,
                0.416011519070837
               ],
               [
                -77.52209142796664,
                0.531282179688106
               ],
               [
                -77.48536688674905,
                0.656468596057397
               ],
               [
                -77.56371257467994,
                0.651510718181386
               ],
               [
                -77.69714507443724,
                0.754386684108625
               ],
               [
                -77.66409298734139,
                0.811402279682758
               ],
               [
                -77.7130590422982,
                0.85106530269085
               ],
               [
                -77.86730211541214,
                0.801486523930735
               ],
               [
                -77.96523422532576,
                0.823796974372787
               ],
               [
                -78.03378670226529,
                0.879573100477916
               ],
               [
                -78.19659883499668,
                0.948983390742078
               ],
               [
                -78.19537468362276,
                0.984928005343161
               ],
               [
                -78.2700479174319,
                1.046901478793306
               ],
               [
                -78.31411736689302,
                1.190679937197641
               ],
               [
                -78.41817023367624,
                1.159693200472569
               ],
               [
                -78.50630913259849,
                1.196877284542655
               ],
               [
                -78.54425782519002,
                1.243977124364765
               ],
               [
                -78.62137936174699,
                1.250174471709779
               ],
               [
                -78.70951826066924,
                1.359247784982033
               ],
               [
                -78.79031225134798,
                1.407587094273146
               ],
               [
                -78.81846773294814,
                1.473278976130299
               ],
               [
                -78.95924514094897,
                1.593507514623578
               ],
               [
                -79.00698704453185,
                1.657959927011729
               ],
               [
                -78.86131303103535,
                1.806696263292075
               ],
               [
                -78.80989867333071,
                1.829006713734127
               ],
               [
                -78.71686316891277,
                1.769512179221988
               ],
               [
                -78.60179293976427,
                1.794301568602046
               ],
               [
                -78.53936121969434,
                1.857514511521194
               ],
               [
                -78.59934463701643,
                1.899656473467291
               ],
               [
                -78.58710312327723,
                1.972785172138462
               ],
               [
                -78.67156956807771,
                2.031040237181597
               ],
               [
                -78.71319071479101,
                2.164902939833909
               ],
               [
                -78.6275001186166,
                2.31983662345927
               ],
               [
                -78.62382766449483,
                2.371894341157391
               ],
               [
                -78.55037858205962,
                2.492122879650671
               ],
               [
                -78.33370378887574,
                2.655732849559051
               ],
               [
                -78.1427361745442,
                2.680522238939109
               ],
               [
                -78.07295954623073,
                2.611111948674948
               ],
               [
                -78.03501085363922,
                2.648296032745034
               ],
               [
                -77.92850968410815,
                2.640859215931017
               ]
              ]
             ],
             "type": "Polygon"
            },
            "id": "14",
            "properties": {},
            "type": "Feature"
           },
           {
            "bbox": [
             -76.49380427387368,
             7.347124789734972,
             -74.78121650175932,
             9.444307131287854
            ],
            "geometry": {
             "coordinates": [
              [
               [
                -75.70055418357339,
                9.412080925093779
               ],
               [
                -75.56956998656393,
                9.279457691910471
               ],
               [
                -75.45817221153719,
                9.238555199433375
               ],
               [
                -75.44470654642407,
                9.140637111382148
               ],
               [
                -75.3920680373455,
                9.15922915341719
               ],
               [
                -75.28067026231876,
                9.07246629058699
               ],
               [
                -75.2096694826314,
                9.050155840144937
               ],
               [
                -75.1680483359181,
                8.952237752093708
               ],
               [
                -75.24516987247507,
                8.882827461829548
               ],
               [
                -75.36391255574533,
                8.829530274662423
               ],
               [
                -75.32841216590165,
                8.736570064487207
               ],
               [
                -75.35167104200613,
                8.658483487940025
               ],
               [
                -75.32841216590165,
                8.5618048693578
               ],
               [
                -75.26720459720563,
                8.487436701217627
               ],
               [
                -75.21334193675315,
                8.473802537058596
               ],
               [
                -75.18518645515299,
                8.396955429980416
               ],
               [
                -75.12765134057874,
                8.468844659182583
               ],
               [
                -75.04196074440432,
                8.457689433961557
               ],
               [
                -75.00768450593456,
                8.510986621128682
               ],
               [
                -74.9256663638819,
                8.499831395907655
               ],
               [
                -74.87425200617726,
                8.403152777325431
               ],
               [
                -74.80080292374204,
                8.337460895468277
               ],
               [
                -74.78121650175932,
                8.277966360956139
               ],
               [
                -74.83018255671612,
                8.199879784408957
               ],
               [
                -74.92811466662974,
                8.074693368039666
               ],
               [
                -74.96606335922127,
                8.089567001667701
               ],
               [
                -75.05665056089137,
                8.047425039721603
               ],
               [
                -75.19253136339651,
                8.047425039721603
               ],
               [
                -75.22068684499668,
                8.066017081756646
               ],
               [
                -75.32963631727557,
                7.927196501228323
               ],
               [
                -75.47408617939816,
                7.777220695478974
               ],
               [
                -75.60507037640761,
                7.585102927783526
               ],
               [
                -75.71157154593867,
                7.581384519376517
               ],
               [
                -75.74217533028667,
                7.612371256101589
               ],
               [
                -75.84500404569597,
                7.347124789734972
               ],
               [
                -76.38118234747303,
                7.391745690619077
               ],
               [
                -76.49380427387368,
                7.541721496368424
               ],
               [
                -76.48156276013448,
                7.820602126894075
               ],
               [
                -76.41178613182103,
                8.006522547244508
               ],
               [
                -76.42892425105592,
                8.058580264942629
               ],
               [
                -76.34813026037718,
                8.155258883524853
               ],
               [
                -76.35180271449894,
                8.203598192815965
               ],
               [
                -76.28814684305509,
                8.328784609185258
               ],
               [
                -76.22693927435908,
                8.380842326883378
               ],
               [
                -76.2098011551242,
                8.52338131581871
               ],
               [
                -76.26611211832453,
                8.638651976435979
               ],
               [
                -76.33956120075973,
                8.641130915373985
               ],
               [
                -76.41301028319495,
                8.874151175546528
               ],
               [
                -76.33956120075973,
                8.918772076430631
               ],
               [
                -76.26488796695061,
                8.998098122446816
               ],
               [
                -76.25142230183748,
                9.057592656958954
               ],
               [
                -76.18899058176756,
                9.11584772200209
               ],
               [
                -76.17062831115875,
                9.229878913150355
               ],
               [
                -76.10207583421922,
                9.275739283503462
               ],
               [
                -76.08126526086258,
                9.336473287484603
               ],
               [
                -75.97843654545328,
                9.376136310492695
               ],
               [
                -75.9490569124792,
                9.444307131287854
               ],
               [
                -75.78379647699997,
                9.393488883058737
               ],
               [
                -75.70055418357339,
                9.412080925093779
               ]
              ]
             ],
             "type": "Polygon"
            },
            "id": "15",
            "properties": {},
            "type": "Feature"
           },
           {
            "bbox": [
             -75.57324244068569,
             7.002552277352169,
             -73.74680859079675,
             10.795328852501
            ],
            "geometry": {
             "coordinates": [
              [
               [
                -75.22435929911843,
                10.795328852501
               ],
               [
                -75.25006647797076,
                10.723439623298832
               ],
               [
                -75.22313514774451,
                10.630479413123616
               ],
               [
                -75.24149741835332,
                10.52016663038236
               ],
               [
                -75.12642718920482,
                10.398698622420076
               ],
               [
                -75.08235773974368,
                10.412332786579109
               ],
               [
                -74.96483920784735,
                10.325569923748906
               ],
               [
                -74.91097654739487,
                10.253680694546738
               ],
               [
                -74.94525278586462,
                10.128494278177447
               ],
               [
                -74.83997576770749,
                10.078915499417331
               ],
               [
                -74.78733725862892,
                10.008265739684168
               ],
               [
                -74.87302785480334,
                9.935137041012997
               ],
               [
                -74.87302785480334,
                9.848374178182794
               ],
               [
                -74.81549274022909,
                9.785161235263647
               ],
               [
                -74.80325122648989,
                9.667411635708374
               ],
               [
                -74.77264744214187,
                9.604198692789227
               ],
               [
                -74.80569952923773,
                9.553380444560108
               ],
               [
                -74.7371470522982,
                9.421996680845803
               ],
               [
                -74.69919835970667,
                9.426954558721814
               ],
               [
                -74.56454170857545,
                9.311683898104546
               ],
               [
                -74.51435150224472,
                9.233597321557363
               ],
               [
                -74.43967826843559,
                9.27449981403446
               ],
               [
                -74.40295372721798,
                9.213765810053317
               ],
               [
                -74.34174615852197,
                9.231118382619359
               ],
               [
                -74.24871065410403,
                9.164187031293203
               ],
               [
                -74.17526157166883,
                9.074945229524994
               ],
               [
                -74.10426079198145,
                9.02164804235787
               ],
               [
                -74.00388037932,
                9.03032432864089
               ],
               [
                -73.87167203093661,
                8.960914038376728
               ],
               [
                -73.86799957681485,
                8.936124648996671
               ],
               [
                -73.86677542544093,
                8.886545870236557
               ],
               [
                -73.79577464575355,
                8.818375049441396
               ],
               [
                -73.78965388888396,
                8.748964759177236
               ],
               [
                -73.82025767323196,
                8.662201896347034
               ],
               [
                -73.74680859079675,
                8.466365720244578
               ],
               [
                -73.77496407239691,
                8.145343127772831
               ],
               [
                -73.86677542544093,
                8.069735490163655
               ],
               [
                -73.86187881994525,
                7.971817402112427
               ],
               [
                -73.83127503559724,
                7.932154379104334
               ],
               [
                -73.7982229485014,
                7.772262817602963
               ],
               [
                -73.83005088422333,
                7.727641916718857
               ],
               [
                -73.7982229485014,
                7.656992156985694
               ],
               [
                -73.8459648520843,
                7.541721496368424
               ],
               [
                -73.91696563177166,
                7.472311206104264
               ],
               [
                -73.8949309070411,
                7.431408713627169
               ],
               [
                -73.91574148039774,
                7.295067072036851
               ],
               [
                -74.2462623513562,
                7.002552277352169
               ],
               [
                -74.32215973653925,
                7.018665380449209
               ],
               [
                -74.4102986354615,
                7.202106861861635
               ],
               [
                -74.3980571217223,
                7.348364259203976
               ],
               [
                -74.31971143379141,
                7.440084999910189
               ],
               [
                -74.41274693820934,
                7.459916511414235
               ],
               [
                -74.41397108958326,
                7.399182507433094
               ],
               [
                -74.49109262614023,
                7.343406381327963
               ],
               [
                -74.5988179470452,
                7.46239545035224
               ],
               [
                -74.5682141626972,
                7.519411045926374
               ],
               [
                -74.56086925445368,
                7.645836931764668
               ],
               [
                -74.50823074537512,
                7.723923508311849
               ],
               [
                -74.5192481077404,
                7.901167642379262
               ],
               [
                -74.60493870391481,
                8.03750928396958
               ],
               [
                -74.72490553855899,
                8.116835329985765
               ],
               [
                -74.78488895588109,
                8.131708963613798
               ],
               [
                -74.83018255671612,
                8.199879784408957
               ],
               [
                -74.78121650175932,
                8.277966360956139
               ],
               [
                -74.64900815337595,
                8.313910975557222
               ],
               [
                -74.54005868109704,
                8.425463227767482
               ],
               [
                -74.53393792422744,
                8.4762814759966
               ],
               [
                -74.60861115803657,
                8.730372717142192
               ],
               [
                -74.54005868109704,
                8.804740885282365
               ],
               [
                -74.63921494238457,
                8.977027141473766
               ],
               [
                -74.82773425396829,
                9.061311065365963
               ],
               [
                -74.8644587951859,
                9.148073928196165
               ],
               [
                -74.90240748777742,
                9.162947561824199
               ],
               [
                -74.94158033174287,
                9.351346921112638
               ],
               [
                -74.91220069876879,
                9.415799333500788
               ],
               [
                -75.03216753341296,
                9.466617581729906
               ],
               [
                -75.13254794607442,
                9.595522406506205
               ],
               [
                -75.27944611094485,
                9.686003677743416
               ],
               [
                -75.32473971177988,
                9.625269673762276
               ],
               [
                -75.37492991811062,
                9.65749587995635
               ],
               [
                -75.33575707414516,
                9.812429563581711
               ],
               [
                -75.39329218871941,
                9.88060038437687
               ],
               [
                -75.46674127115463,
                9.909108182163937
               ],
               [
                -75.49122429863304,
                10.038013006940236
               ],
               [
                -75.57324244068569,
                10.086352316231348
               ],
               [
                -75.52427638572888,
                10.17311517906155
               ],
               [
                -75.56222507832041,
                10.269793797643777
               ],
               [
                -75.50346581237224,
                10.300780534368847
               ],
               [
                -75.51203487198968,
                10.57222434808048
               ],
               [
                -75.39574049146727,
                10.681297661352733
               ],
               [
                -75.27577365682308,
                10.714763337015812
               ],
               [
                -75.22435929911843,
                10.795328852501
               ]
              ]
             ],
             "type": "Polygon"
            },
            "id": "16",
            "properties": {},
            "type": "Feature"
           },
           {
            "bbox": [
             -74.1373128790773,
             7.676823668489741,
             -72.89969584004398,
             10.867218081703166
            ],
            "geometry": {
             "coordinates": [
              [
               [
                -72.9009199914179,
                10.435882706490162
               ],
               [
                -72.89969584004398,
                10.209059793662634
               ],
               [
                -72.91193735378317,
                10.114860114018414
               ],
               [
                -72.99885210133151,
                9.922742346322968
               ],
               [
                -72.97192077110526,
                9.85457152552781
               ],
               [
                -73.05516306453184,
                9.678566860929399
               ],
               [
                -73.08454269750592,
                9.557098852967117
               ],
               [
                -73.17635405054993,
                9.501322726861988
               ],
               [
                -73.2412340733677,
                9.403404638810759
               ],
               [
                -73.29876918794196,
                9.270781405627451
               ],
               [
                -73.3685458162554,
                9.172863317576223
               ],
               [
                -73.42975338495143,
                9.102213557843058
               ],
               [
                -73.41139111434262,
                9.053874248551946
               ],
               [
                -73.43954659594277,
                8.974548202535761
               ],
               [
                -73.44811565556022,
                8.861756480856497
               ],
               [
                -73.41139111434262,
                8.78119096537131
               ],
               [
                -73.46280547204726,
                8.745246350770227
               ],
               [
                -73.55216852234344,
                8.606425770241904
               ],
               [
                -73.5313579489868,
                8.528339193694721
               ],
               [
                -73.47259868303863,
                8.447773678209535
               ],
               [
                -73.51666813249975,
                8.395715960511414
               ],
               [
                -73.45668471517766,
                8.361010815379332
               ],
               [
                -73.39425299510773,
                8.378363387945372
               ],
               [
                -73.3501835456466,
                8.333742487061269
               ],
               [
                -73.40527035747301,
                8.245740154762064
               ],
               [
                -73.43220168769926,
                8.140385249896818
               ],
               [
                -73.37711487587285,
                8.105680104764739
               ],
               [
                -73.36609751350757,
                8.022635650341545
               ],
               [
                -73.27795861458532,
                7.985451566271458
               ],
               [
                -73.27918276595923,
                7.935872787511343
               ],
               [
                -73.35140769702052,
                7.892491356096242
               ],
               [
                -73.35140769702052,
                7.794573268045013
               ],
               [
                -73.41139111434262,
                7.716486691497833
               ],
               [
                -73.48116774265607,
                7.676823668489741
               ],
               [
                -73.63296251302216,
                7.748712897691908
               ],
               [
                -73.75292934766635,
                7.751191836629912
               ],
               [
                -73.75048104491852,
                7.803249554328033
               ],
               [
                -73.67091120561369,
                7.893730825565244
               ],
               [
                -73.67580781110938,
                7.943309604325361
               ],
               [
                -73.76394671003163,
                8.06353814281864
               ],
               [
                -73.77496407239691,
                8.145343127772831
               ],
               [
                -73.74680859079675,
                8.466365720244578
               ],
               [
                -73.82025767323196,
                8.662201896347034
               ],
               [
                -73.78965388888396,
                8.748964759177236
               ],
               [
                -73.79577464575355,
                8.818375049441396
               ],
               [
                -73.86677542544093,
                8.886545870236557
               ],
               [
                -73.86799957681485,
                8.936124648996671
               ],
               [
                -73.7982229485014,
                9.058832126427957
               ],
               [
                -73.86432712269308,
                9.112129313595082
               ],
               [
                -73.89125845291933,
                9.174102787045225
               ],
               [
                -73.96225923260671,
                9.187736951204258
               ],
               [
                -73.94267281062399,
                9.289373447662493
               ],
               [
                -73.98919056283295,
                9.316641775980557
               ],
               [
                -73.97939735184158,
                9.389770474651728
               ],
               [
                -74.1373128790773,
                9.496364848985975
               ],
               [
                -74.03693246641583,
                9.591803998099198
               ],
               [
                -73.86799957681485,
                9.600480284382218
               ],
               [
                -73.80311955399708,
                9.636424898983302
               ],
               [
                -73.84229239796252,
                9.797555929953676
               ],
               [
                -73.89737920978894,
                9.837218952961768
               ],
               [
                -73.95858677848494,
                9.931418632605988
               ],
               [
                -73.99286301695471,
                9.936376510481999
               ],
               [
                -74.0834502186248,
                10.070239213134311
               ],
               [
                -74.065087948016,
                10.166917831716537
               ],
               [
                -73.95369017298927,
                10.339204087907937
               ],
               [
                -73.89248260429325,
                10.391261805606058
               ],
               [
                -73.7798606778926,
                10.39621968348207
               ],
               [
                -73.65989384324841,
                10.455714217994208
               ],
               [
                -73.59991042592632,
                10.575942756487489
               ],
               [
                -73.59378966905672,
                10.704847581263788
               ],
               [
                -73.55094437096952,
                10.749468482147893
               ],
               [
                -73.5986862745524,
                10.836231344978094
               ],
               [
                -73.47994359128215,
                10.867218081703166
               ],
               [
                -73.29142427969843,
                10.862260203827155
               ],
               [
                -73.25592388985476,
                10.826315589226072
               ],
               [
                -73.26326879809827,
                10.732115909581852
               ],
               [
                -73.11392233048001,
                10.678818722414729
               ],
               [
                -73.07597363788848,
                10.63667676046863
               ],
               [
                -73.09923251399296,
                10.551153367107432
               ],
               [
                -73.17512989917601,
                10.480503607374267
               ],
               [
                -73.12738799559312,
                10.398698622420076
               ],
               [
                -73.08821515162768,
                10.424727481269137
               ],
               [
                -72.98661058759231,
                10.399938091889078
               ],
               [
                -72.9009199914179,
                10.435882706490162
               ]
              ]
             ],
             "type": "Polygon"
            },
            "id": "17",
            "properties": {},
            "type": "Feature"
           },
           {
            "bbox": [
             -73.6647904487441,
             10.398698622420076,
             -71.11488313686831,
             12.440104837867828
            ],
            "geometry": {
             "coordinates": [
              [
               [
                -72.9009199914179,
                10.435882706490162
               ],
               [
                -72.98661058759231,
                10.399938091889078
               ],
               [
                -73.08821515162768,
                10.424727481269137
               ],
               [
                -73.12738799559312,
                10.398698622420076
               ],
               [
                -73.17512989917601,
                10.480503607374267
               ],
               [
                -73.09923251399296,
                10.551153367107432
               ],
               [
                -73.07597363788848,
                10.63667676046863
               ],
               [
                -73.11392233048001,
                10.678818722414729
               ],
               [
                -73.26326879809827,
                10.732115909581852
               ],
               [
                -73.25592388985476,
                10.826315589226072
               ],
               [
                -73.29142427969843,
                10.862260203827155
               ],
               [
                -73.47994359128215,
                10.867218081703166
               ],
               [
                -73.5986862745524,
                10.836231344978094
               ],
               [
                -73.6647904487441,
                10.989925559134452
               ],
               [
                -73.62806590752649,
                11.142380303821808
               ],
               [
                -73.58399645806537,
                11.189480143643918
               ],
               [
                -73.57542739844793,
                11.26012990337708
               ],
               [
                -73.36242505938581,
                11.262608842315087
               ],
               [
                -73.27551031183748,
                11.286158762226142
               ],
               [
                -73.14330196345409,
                11.407626770188426
               ],
               [
                -73.02455928018384,
                11.494389633018626
               ],
               [
                -72.88378187218301,
                11.563799923282788
               ],
               [
                -72.82624675760876,
                11.635689152484955
               ],
               [
                -72.72341804219946,
                11.700141564873105
               ],
               [
                -72.4590013454327,
                11.776988671951285
               ],
               [
                -72.23742994675314,
                11.886061985223538
               ],
               [
                -72.1382736854656,
                12.104208611768048
               ],
               [
                -72.14317029096128,
                12.239310783889362
               ],
               [
                -71.96444419036894,
                12.256663356455402
               ],
               [
                -71.99504797471694,
                12.186013596722237
               ],
               [
                -71.95954758487326,
                12.150068982121152
               ],
               [
                -71.86039132358572,
                12.210802986102294
               ],
               [
                -71.92771964915133,
                12.297565848932496
               ],
               [
                -71.86039132358572,
                12.35582091397563
               ],
               [
                -71.80530451175932,
                12.305002665746514
               ],
               [
                -71.69145843398474,
                12.365736669727657
               ],
               [
                -71.62413010841912,
                12.440104837867828
               ],
               [
                -71.54211196636646,
                12.440104837867828
               ],
               [
                -71.28259187509539,
                12.343426219285604
               ],
               [
                -71.22505676052114,
                12.27277645955244
               ],
               [
                -71.11488313686831,
                12.085616569733002
               ],
               [
                -71.13569371022496,
                12.00257211530981
               ],
               [
                -71.2348499715125,
                11.952993336549696
               ],
               [
                -71.37807568226117,
                11.811693817083366
               ],
               [
                -71.610664443306,
                11.746001935226213
               ],
               [
                -71.80163205763755,
                11.680310053369059
               ],
               [
                -71.97178909861246,
                11.646844377705982
               ],
               [
                -72.24599900637058,
                11.144859242759813
               ],
               [
                -72.34882772177988,
                11.151056590104828
               ],
               [
                -72.48470852428503,
                11.098998872406707
               ],
               [
                -72.48470852428503,
                11.06181478833662
               ],
               [
                -72.5801923314508,
                10.910599513118267
               ],
               [
                -72.63772744602505,
                10.884570654269208
               ],
               [
                -72.71117652846026,
                10.751947421085898
               ],
               [
                -72.75157352379962,
                10.632958352061621
               ],
               [
                -72.83726411997404,
                10.538758672417401
               ],
               [
                -72.9009199914179,
                10.435882706490162
               ]
              ]
             ],
             "type": "Polygon"
            },
            "id": "18",
            "properties": {},
            "type": "Feature"
           },
           {
            "bbox": [
             -74.94525278586462,
             8.936124648996671,
             -73.55094437096952,
             11.339455949393265
            ],
            "geometry": {
             "coordinates": [
              [
               [
                -73.57542739844793,
                11.26012990337708
               ],
               [
                -73.58399645806537,
                11.189480143643918
               ],
               [
                -73.62806590752649,
                11.142380303821808
               ],
               [
                -73.6647904487441,
                10.989925559134452
               ],
               [
                -73.5986862745524,
                10.836231344978094
               ],
               [
                -73.55094437096952,
                10.749468482147893
               ],
               [
                -73.59378966905672,
                10.704847581263788
               ],
               [
                -73.59991042592632,
                10.575942756487489
               ],
               [
                -73.65989384324841,
                10.455714217994208
               ],
               [
                -73.7798606778926,
                10.39621968348207
               ],
               [
                -73.89248260429325,
                10.391261805606058
               ],
               [
                -73.95369017298927,
                10.339204087907937
               ],
               [
                -74.065087948016,
                10.166917831716537
               ],
               [
                -74.0834502186248,
                10.070239213134311
               ],
               [
                -73.99286301695471,
                9.936376510481999
               ],
               [
                -73.95858677848494,
                9.931418632605988
               ],
               [
                -73.89737920978894,
                9.837218952961768
               ],
               [
                -73.84229239796252,
                9.797555929953676
               ],
               [
                -73.80311955399708,
                9.636424898983302
               ],
               [
                -73.86799957681485,
                9.600480284382218
               ],
               [
                -74.03693246641583,
                9.591803998099198
               ],
               [
                -74.1373128790773,
                9.496364848985975
               ],
               [
                -73.97939735184158,
                9.389770474651728
               ],
               [
                -73.98919056283295,
                9.316641775980557
               ],
               [
                -73.94267281062399,
                9.289373447662493
               ],
               [
                -73.96225923260671,
                9.187736951204258
               ],
               [
                -73.89125845291933,
                9.174102787045225
               ],
               [
                -73.86432712269308,
                9.112129313595082
               ],
               [
                -73.7982229485014,
                9.058832126427957
               ],
               [
                -73.86799957681485,
                8.936124648996671
               ],
               [
                -73.87167203093661,
                8.960914038376728
               ],
               [
                -74.00388037932,
                9.03032432864089
               ],
               [
                -74.10426079198145,
                9.02164804235787
               ],
               [
                -74.17526157166883,
                9.074945229524994
               ],
               [
                -74.24871065410403,
                9.164187031293203
               ],
               [
                -74.34174615852197,
                9.231118382619359
               ],
               [
                -74.40295372721798,
                9.213765810053317
               ],
               [
                -74.43967826843559,
                9.27449981403446
               ],
               [
                -74.51435150224472,
                9.233597321557363
               ],
               [
                -74.56454170857545,
                9.311683898104546
               ],
               [
                -74.69919835970667,
                9.426954558721814
               ],
               [
                -74.7371470522982,
                9.421996680845803
               ],
               [
                -74.80569952923773,
                9.553380444560108
               ],
               [
                -74.77264744214187,
                9.604198692789227
               ],
               [
                -74.80325122648989,
                9.667411635708374
               ],
               [
                -74.81549274022909,
                9.785161235263647
               ],
               [
                -74.87302785480334,
                9.848374178182794
               ],
               [
                -74.87302785480334,
                9.935137041012997
               ],
               [
                -74.78733725862892,
                10.008265739684168
               ],
               [
                -74.83997576770749,
                10.078915499417331
               ],
               [
                -74.94525278586462,
                10.128494278177447
               ],
               [
                -74.91097654739487,
                10.253680694546738
               ],
               [
                -74.82773425396829,
                10.411093317110105
               ],
               [
                -74.80937198335948,
                10.475545729498254
               ],
               [
                -74.73592290092427,
                10.551153367107432
               ],
               [
                -74.72123308443723,
                10.904402165773254
               ],
               [
                -74.76407838252443,
                10.994883437010463
               ],
               [
                -74.8522172814467,
                11.10519621975172
               ],
               [
                -74.5988179470452,
                11.008517601169496
               ],
               [
                -74.47395450690534,
                10.978770333913426
               ],
               [
                -74.356435975009,
                10.976291394975421
               ],
               [
                -74.26340047059108,
                11.007278131700494
               ],
               [
                -74.21810686975603,
                11.065533196743628
               ],
               [
                -74.23769329173875,
                11.221706349837993
               ],
               [
                -74.14588193869474,
                11.335737540986257
               ],
               [
                -74.0773294617552,
                11.317145498951215
               ],
               [
                -73.97939735184158,
                11.339455949393265
               ],
               [
                -73.85698221444957,
                11.273764067536113
               ],
               [
                -73.66111799462233,
                11.252693086563063
               ],
               [
                -73.57542739844793,
                11.26012990337708
               ]
              ]
             ],
             "type": "Polygon"
            },
            "id": "19",
            "properties": {},
            "type": "Feature"
           },
           {
            "bbox": [
             -75.70055418357339,
             8.277966360956139,
             -74.53393792422744,
             10.086352316231348
            ],
            "geometry": {
             "coordinates": [
              [
               [
                -74.78121650175932,
                8.277966360956139
               ],
               [
                -74.80080292374204,
                8.337460895468277
               ],
               [
                -74.87425200617726,
                8.403152777325431
               ],
               [
                -74.9256663638819,
                8.499831395907655
               ],
               [
                -75.00768450593456,
                8.510986621128682
               ],
               [
                -75.04196074440432,
                8.457689433961557
               ],
               [
                -75.12765134057874,
                8.468844659182583
               ],
               [
                -75.18518645515299,
                8.396955429980416
               ],
               [
                -75.21334193675315,
                8.473802537058596
               ],
               [
                -75.26720459720563,
                8.487436701217627
               ],
               [
                -75.32841216590165,
                8.5618048693578
               ],
               [
                -75.35167104200613,
                8.658483487940025
               ],
               [
                -75.32841216590165,
                8.736570064487207
               ],
               [
                -75.36391255574533,
                8.829530274662423
               ],
               [
                -75.24516987247507,
                8.882827461829548
               ],
               [
                -75.1680483359181,
                8.952237752093708
               ],
               [
                -75.2096694826314,
                9.050155840144937
               ],
               [
                -75.28067026231876,
                9.07246629058699
               ],
               [
                -75.3920680373455,
                9.15922915341719
               ],
               [
                -75.44470654642407,
                9.140637111382148
               ],
               [
                -75.45817221153719,
                9.238555199433375
               ],
               [
                -75.56956998656393,
                9.279457691910471
               ],
               [
                -75.70055418357339,
                9.412080925093779
               ],
               [
                -75.63567416075563,
                9.428194028190816
               ],
               [
                -75.59650131679018,
                9.490167501640961
               ],
               [
                -75.57079413793785,
                9.617832856948258
               ],
               [
                -75.64424322037306,
                9.756653437476581
               ],
               [
                -75.58181150030313,
                9.951250144110034
               ],
               [
                -75.57324244068569,
                10.086352316231348
               ],
               [
                -75.49122429863304,
                10.038013006940236
               ],
               [
                -75.46674127115463,
                9.909108182163937
               ],
               [
                -75.39329218871941,
                9.88060038437687
               ],
               [
                -75.33575707414516,
                9.812429563581711
               ],
               [
                -75.37492991811062,
                9.65749587995635
               ],
               [
                -75.32473971177988,
                9.625269673762276
               ],
               [
                -75.27944611094485,
                9.686003677743416
               ],
               [
                -75.13254794607442,
                9.595522406506205
               ],
               [
                -75.03216753341296,
                9.466617581729906
               ],
               [
                -74.91220069876879,
                9.415799333500788
               ],
               [
                -74.94158033174287,
                9.351346921112638
               ],
               [
                -74.90240748777742,
                9.162947561824199
               ],
               [
                -74.8644587951859,
                9.148073928196165
               ],
               [
                -74.82773425396829,
                9.061311065365963
               ],
               [
                -74.63921494238457,
                8.977027141473766
               ],
               [
                -74.54005868109704,
                8.804740885282365
               ],
               [
                -74.60861115803657,
                8.730372717142192
               ],
               [
                -74.53393792422744,
                8.4762814759966
               ],
               [
                -74.54005868109704,
                8.425463227767482
               ],
               [
                -74.64900815337595,
                8.313910975557222
               ],
               [
                -74.78121650175932,
                8.277966360956139
               ]
              ]
             ],
             "type": "Polygon"
            },
            "id": "20",
            "properties": {},
            "type": "Feature"
           },
           {
            "bbox": [
             -81.73562045699998,
             12.530586109105037,
             -81.70379252127806,
             12.59503852149319
            ],
            "geometry": {
             "coordinates": [
              [
               [
                -81.70379252127806,
                12.59503852149319
               ],
               [
                -81.70379252127806,
                12.542980803795068
               ],
               [
                -81.73562045699998,
                12.530586109105037
               ],
               [
                -81.72215479188687,
                12.577685948927147
               ],
               [
                -81.70379252127806,
                12.59503852149319
               ]
              ]
             ],
             "type": "Polygon"
            },
            "id": "21",
            "properties": {},
            "type": "Feature"
           },
           {
            "bbox": [
             -72.36718999238869,
             6.040723969405931,
             -69.42800254360628,
             7.094273018058384
            ],
            "geometry": {
             "coordinates": [
              [
               [
                -69.42800254360628,
                6.107655320732087
               ],
               [
                -69.53572786451126,
                6.045681847281942
               ],
               [
                -69.83564495112171,
                6.040723969405931
               ],
               [
                -69.98254311599213,
                6.158473568961206
               ],
               [
                -70.03028501957502,
                6.162191977368215
               ],
               [
                -70.12087222124512,
                6.257631126481437
               ],
               [
                -70.19921790917601,
                6.294815210551523
               ],
               [
                -70.31306398695058,
                6.279941576923488
               ],
               [
                -70.3803923125162,
                6.30225202736554
               ],
               [
                -70.53096293150838,
                6.230362798163373
               ],
               [
                -70.55667011036071,
                6.245236431791406
               ],
               [
                -70.72315469721386,
                6.21672863400434
               ],
               [
                -70.7868105686577,
                6.251433779136422
               ],
               [
                -70.98389893985886,
                6.229123328694369
               ],
               [
                -71.09652086625951,
                6.277462637985483
               ],
               [
                -71.21893600365154,
                6.298533618958531
               ],
               [
                -71.34502359516532,
                6.231602267632375
               ],
               [
                -71.41724852622662,
                6.242757492853402
               ],
               [
                -71.48824930591398,
                6.201855000376307
               ],
               [
                -71.53354290674903,
                6.214249695066336
               ],
               [
                -71.66697540650632,
                6.191939244624283
               ],
               [
                -71.77714903015915,
                6.193178714093285
               ],
               [
                -71.87997774556844,
                6.159713038430208
               ],
               [
                -71.96077173624718,
                6.167149855244226
               ],
               [
                -72.1382736854656,
                6.066752828254991
               ],
               [
                -72.2778269420925,
                6.136163118519153
               ],
               [
                -72.29251675857955,
                6.204333939314312
               ],
               [
                -72.3439311162842,
                6.226644389756364
               ],
               [
                -72.36718999238869,
                6.307209905241551
               ],
               [
                -72.33903451078852,
                6.345633458780641
               ],
               [
                -72.26068882285763,
                6.442312077362866
               ],
               [
                -72.1382736854656,
                6.514201306565033
               ],
               [
                -72.09175593325664,
                6.648064009217345
               ],
               [
                -72.10032499287408,
                6.745982097268573
               ],
               [
                -72.05135893791727,
                6.768292547710624
               ],
               [
                -71.94853022250797,
                7.011228563635191
               ],
               [
                -71.8346841447334,
                7.026102197263224
               ],
               [
                -71.81142526862891,
                7.062046811864308
               ],
               [
                -71.71471731008921,
                7.034778483546246
               ],
               [
                -71.64861313589752,
                7.050891586643283
               ],
               [
                -71.5739399020884,
                7.026102197263224
               ],
               [
                -71.42459343447013,
                7.038496891953255
               ],
               [
                -71.37929983363509,
                7.017425910980204
               ],
               [
                -71.12834880198145,
                7.032299544608239
               ],
               [
                -71.11121068274656,
                6.990157582662141
               ],
               [
                -71.02184763245039,
                6.974044479565103
               ],
               [
                -70.89576004093661,
                7.059567872926303
               ],
               [
                -70.69744751836153,
                7.094273018058384
               ],
               [
                -70.60808446806536,
                7.064525750802314
               ],
               [
                -70.54810105074327,
                7.074441506554338
               ],
               [
                -70.50280744990822,
                7.006270685759178
               ],
               [
                -70.43058251884693,
                7.007510155228182
               ],
               [
                -70.32285719794194,
                6.934381456557011
               ],
               [
                -70.22492508802833,
                6.975283949034107
               ],
               [
                -70.11719976712335,
                6.979002357441116
               ],
               [
                -69.81361022639115,
                6.597245760988226
               ],
               [
                -69.42800254360628,
                6.107655320732087
               ]
              ]
             ],
             "type": "Polygon"
            },
            "id": "22",
            "properties": {},
            "type": "Feature"
           },
           {
            "bbox": [
             -74.6649221212369,
             4.66119445040572,
             -71.94853022250797,
             7.040975830891259
            ],
            "geometry": {
             "coordinates": [
              [
               [
                -72.04768648379552,
                7.038496891953255
               ],
               [
                -71.94853022250797,
                7.011228563635191
               ],
               [
                -72.05135893791727,
                6.768292547710624
               ],
               [
                -72.10032499287408,
                6.745982097268573
               ],
               [
                -72.09175593325664,
                6.648064009217345
               ],
               [
                -72.1382736854656,
                6.514201306565033
               ],
               [
                -72.26068882285763,
                6.442312077362866
               ],
               [
                -72.33903451078852,
                6.345633458780641
               ],
               [
                -72.37086244651044,
                6.31960459993158
               ],
               [
                -72.41248359322373,
                6.188220836217274
               ],
               [
                -72.3745349006322,
                6.149797282678184
               ],
               [
                -72.36596584101477,
                6.037005560998923
               ],
               [
                -72.32556884567539,
                5.935369064540685
               ],
               [
                -72.4161560473455,
                5.903142858346611
               ],
               [
                -72.4590013454327,
                5.85108514064849
               ],
               [
                -72.30965487781444,
                5.794069545074358
               ],
               [
                -72.22641258438786,
                5.667643659236063
               ],
               [
                -72.28762015308388,
                5.605670185785918
               ],
               [
                -72.301085818197,
                5.506512628265687
               ],
               [
                -72.39656962536277,
                5.569725571184835
               ],
               [
                -72.50184664351991,
                5.444539154815544
               ],
               [
                -72.68791765235578,
                5.282168654376166
               ],
               [
                -72.81155694112172,
                5.382565681365399
               ],
               [
                -72.88010941806125,
                5.350339475171324
               ],
               [
                -72.89724753729612,
                5.259858203934114
               ],
               [
                -72.97314492247918,
                5.145827012785848
               ],
               [
                -72.90336829416573,
                5.067740436238665
               ],
               [
                -72.97069661973134,
                4.979738103939461
               ],
               [
                -73.01476606919248,
                5.002048554381513
               ],
               [
                -73.0771977892624,
                4.812409725624072
               ],
               [
                -73.05271476178399,
                4.736802088014896
               ],
               [
                -73.10290496811473,
                4.66119445040572
               ],
               [
                -73.22409595413282,
                4.67854702297176
               ],
               [
                -73.2228718027589,
                4.733083679607887
               ],
               [
                -73.30611409618548,
                4.731844210138885
               ],
               [
                -73.37221827037718,
                4.801254500403045
               ],
               [
                -73.40159790335126,
                4.879341076950228
               ],
               [
                -73.52034058662151,
                4.879341076950228
               ],
               [
                -73.54727191684776,
                4.923961977834331
               ],
               [
                -73.51544398112583,
                5.035514230044591
               ],
               [
                -73.47994359128215,
                5.064022027831658
               ],
               [
                -73.5313579489868,
                5.278450245969157
               ],
               [
                -73.57787570119577,
                5.302000165880212
               ],
               [
                -73.61827269653513,
                5.404876131807452
               ],
               [
                -73.78230898064044,
                5.500315280920674
               ],
               [
                -73.81780937048413,
                5.553612468087797
               ],
               [
                -73.89003430154541,
                5.512709975610703
               ],
               [
                -73.90594826940638,
                5.445778624284547
               ],
               [
                -73.99041471420688,
                5.375128864551382
               ],
               [
                -74.14343363594689,
                5.448257563222551
               ],
               [
                -74.30991822280004,
                5.619304349944951
               ],
               [
                -74.28665934669556,
                5.745730235783244
               ],
               [
                -74.33440125027845,
                5.827535220737435
               ],
               [
                -74.43233336019206,
                5.758124930473274
               ],
               [
                -74.53026547010568,
                5.790351136667349
               ],
               [
                -74.59269719017561,
                5.746969705252248
               ],
               [
                -74.66124966711514,
                5.751927583128259
               ],
               [
                -74.6649221212369,
                5.768040686225296
               ],
               [
                -74.63799079101065,
                5.865958774276525
               ],
               [
                -74.59024888742776,
                5.894466572063591
               ],
               [
                -74.61228361215834,
                5.966355801265758
               ],
               [
                -74.56331755720153,
                6.002300415866841
               ],
               [
                -74.56209340582761,
                6.077908053476017
               ],
               [
                -74.61228361215834,
                6.126247362767129
               ],
               [
                -74.52659301598392,
                6.273744229578474
               ],
               [
                -74.45191978217478,
                6.098979034449068
               ],
               [
                -74.37847069973958,
                6.039484499936929
               ],
               [
                -74.28665934669556,
                6.08286593135203
               ],
               [
                -74.1801581771645,
                5.910579675160628
               ],
               [
                -74.02591510405055,
                5.806464239764386
               ],
               [
                -73.99775962245039,
                5.740772357907233
               ],
               [
                -73.90472411803246,
                5.73953288843823
               ],
               [
                -73.86187881994525,
                5.711025090651164
               ],
               [
                -73.71130820095307,
                5.776716972508316
               ],
               [
                -73.63908326989177,
                5.724659254810195
               ],
               [
                -73.59991042592632,
                5.869677182683533
               ],
               [
                -73.63051421027433,
                5.894466572063591
               ],
               [
                -73.58644476081321,
                6.00601882427385
               ],
               [
                -73.49708171051702,
                6.107655320732087
               ],
               [
                -73.40282205472518,
                6.054358133564962
               ],
               [
                -73.37099411900326,
                6.00601882427385
               ],
               [
                -73.40159790335126,
                5.901903388877608
               ],
               [
                -73.44444320143846,
                5.901903388877608
               ],
               [
                -73.47382283441254,
                5.816379995516408
               ],
               [
                -73.39058054098598,
                5.750688113659256
               ],
               [
                -73.34528694015093,
                5.84240885436547
               ],
               [
                -73.18369895879346,
                5.849845671179487
               ],
               [
                -73.21919934863715,
                5.913058614098635
               ],
               [
                -73.19961292665442,
                6.003539885335845
               ],
               [
                -73.12983629834096,
                5.95891898445174
               ],
               [
                -72.95355850049646,
                6.065513358785989
               ],
               [
                -72.8042120328782,
                6.215489164535338
               ],
               [
                -72.74422861555611,
                6.235320676039384
               ],
               [
                -72.75769428066923,
                6.317125660993575
               ],
               [
                -72.7319871018169,
                6.356788684001668
               ],
               [
                -72.73565955593867,
                6.490651386653978
               ],
               [
                -72.66098632212953,
                6.443551546831868
               ],
               [
                -72.53979533611144,
                6.488172447715973
               ],
               [
                -72.54591609298103,
                6.567498493732158
               ],
               [
                -72.48593267565894,
                6.656740295500365
               ],
               [
                -72.50307079489383,
                6.908352597707951
               ],
               [
                -72.392897171241,
                6.872407983106868
               ],
               [
                -72.3133273319362,
                6.931902517619006
               ],
               [
                -72.29129260720563,
                6.993875991069149
               ],
               [
                -72.22029182751825,
                6.986439174255132
               ],
               [
                -72.19948125416161,
                7.040975830891259
               ],
               [
                -72.04768648379552,
                7.038496891953255
               ]
              ]
             ],
             "type": "Polygon"
            },
            "id": "23",
            "properties": {},
            "type": "Feature"
           },
           {
            "bbox": [
             -74.87914861167293,
             3.730352879184553,
             -73.05271476178399,
             5.827535220737435
            ],
            "geometry": {
             "coordinates": [
              [
               [
                -73.05271476178399,
                4.736802088014896
               ],
               [
                -73.12371554147137,
                4.259606342448786
               ],
               [
                -73.35385599976837,
                4.321579815898929
               ],
               [
                -73.47259868303863,
                4.275719445545823
               ],
               [
                -73.55094437096952,
                4.307945651739898
               ],
               [
                -73.57297909570008,
                4.419497903950157
               ],
               [
                -73.60235872867416,
                4.454203049082238
               ],
               [
                -73.5680824902044,
                4.527331747753408
               ],
               [
                -73.62194515065688,
                4.562036892885489
               ],
               [
                -73.72722216881402,
                4.502542358373351
               ],
               [
                -73.80679200811883,
                4.421976842888164
               ],
               [
                -73.78353313201436,
                4.30050883492588
               ],
               [
                -73.74436028804891,
                4.265803689793799
               ],
               [
                -73.75292934766635,
                4.19267499112263
               ],
               [
                -73.81413691636236,
                4.201351277405649
               ],
               [
                -73.9561384757371,
                4.099714780947412
               ],
               [
                -74.00510453069391,
                4.109630536699436
               ],
               [
                -74.10058833785969,
                4.01295191811721
               ],
               [
                -74.15077854419042,
                4.00427563183419
               ],
               [
                -74.10915739747713,
                4.169125071211575
               ],
               [
                -74.15200269556433,
                4.255887934041777
               ],
               [
                -74.09814003511185,
                4.345129735809984
               ],
               [
                -74.11650230572064,
                4.404624270322122
               ],
               [
                -74.00510453069391,
                4.560797423416487
               ],
               [
                -74.00877698481567,
                4.821086011907092
               ],
               [
                -74.05162228290288,
                4.832241237128118
               ],
               [
                -74.17281326892098,
                4.710773229165834
               ],
               [
                -74.17770987441666,
                4.486429255276313
               ],
               [
                -74.21198611288642,
                4.393469045101096
               ],
               [
                -74.21688271838211,
                4.273240506607817
               ],
               [
                -74.24503819998228,
                4.103433189354421
               ],
               [
                -74.32460803928709,
                4.126983109265476
               ],
               [
                -74.36622918600037,
                4.036501838028265
               ],
               [
                -74.36010842913078,
                3.913794360596979
               ],
               [
                -74.43967826843559,
                3.730352879184553
               ],
               [
                -74.44579902530519,
                3.801002638917717
               ],
               [
                -74.53516207560136,
                3.843144600863816
               ],
               [
                -74.5131273508708,
                3.953457383605071
               ],
               [
                -74.5314896214796,
                4.03402289909026
               ],
               [
                -74.4764028096532,
                4.112109475637441
               ],
               [
                -74.4837477178967,
                4.176561888025592
               ],
               [
                -74.56209340582761,
                4.272001037138814
               ],
               [
                -74.63921494238457,
                4.211267033157672
               ],
               [
                -74.70164666245451,
                4.212506502626676
               ],
               [
                -74.81304443748124,
                4.294311487580865
               ],
               [
                -74.87914861167293,
                4.265803689793799
               ],
               [
                -74.83263085946396,
                4.443047823861212
               ],
               [
                -74.78733725862892,
                4.508739705718364
               ],
               [
                -74.81426858885517,
                4.585586812796544
               ],
               [
                -74.78856141000284,
                4.658715511467713
               ],
               [
                -74.81426858885517,
                4.735562618545893
               ],
               [
                -74.74326780916779,
                4.790099275182019
               ],
               [
                -74.75183686878523,
                4.865706912791197
               ],
               [
                -74.71633647894154,
                5.092529825618724
               ],
               [
                -74.73469874955035,
                5.287126532252177
               ],
               [
                -74.66737042398474,
                5.404876131807452
               ],
               [
                -74.67471533222826,
                5.516428384017711
               ],
               [
                -74.62697342864537,
                5.697390926492131
               ],
               [
                -74.66124966711514,
                5.751927583128259
               ],
               [
                -74.59269719017561,
                5.746969705252248
               ],
               [
                -74.53026547010568,
                5.790351136667349
               ],
               [
                -74.43233336019206,
                5.758124930473274
               ],
               [
                -74.33440125027845,
                5.827535220737435
               ],
               [
                -74.28665934669556,
                5.745730235783244
               ],
               [
                -74.30991822280004,
                5.619304349944951
               ],
               [
                -74.14343363594689,
                5.448257563222551
               ],
               [
                -73.99041471420688,
                5.375128864551382
               ],
               [
                -73.90594826940638,
                5.445778624284547
               ],
               [
                -73.89003430154541,
                5.512709975610703
               ],
               [
                -73.81780937048413,
                5.553612468087797
               ],
               [
                -73.78230898064044,
                5.500315280920674
               ],
               [
                -73.61827269653513,
                5.404876131807452
               ],
               [
                -73.57787570119577,
                5.302000165880212
               ],
               [
                -73.5313579489868,
                5.278450245969157
               ],
               [
                -73.47994359128215,
                5.064022027831658
               ],
               [
                -73.51544398112583,
                5.035514230044591
               ],
               [
                -73.54727191684776,
                4.923961977834331
               ],
               [
                -73.52034058662151,
                4.879341076950228
               ],
               [
                -73.40159790335126,
                4.879341076950228
               ],
               [
                -73.37221827037718,
                4.801254500403045
               ],
               [
                -73.30611409618548,
                4.731844210138885
               ],
               [
                -73.2228718027589,
                4.733083679607887
               ],
               [
                -73.22409595413282,
                4.67854702297176
               ],
               [
                -73.10290496811473,
                4.66119445040572
               ],
               [
                -73.05271476178399,
                4.736802088014896
               ]
              ]
             ],
             "type": "Polygon"
            },
            "id": "24",
            "properties": {},
            "type": "Feature"
           },
           {
            "bbox": [
             -74.43967826843559,
             3.730352879184553,
             -74.00510453069391,
             4.832241237128118
            ],
            "geometry": {
             "coordinates": [
              [
               [
                -74.15077854419042,
                4.00427563183419
               ],
               [
                -74.22912423212131,
                3.994359876082168
               ],
               [
                -74.33562540165236,
                3.822073619890766
               ],
               [
                -74.41641939233111,
                3.740268634936576
               ],
               [
                -74.43967826843559,
                3.730352879184553
               ],
               [
                -74.36010842913078,
                3.913794360596979
               ],
               [
                -74.36622918600037,
                4.036501838028265
               ],
               [
                -74.32460803928709,
                4.126983109265476
               ],
               [
                -74.24503819998228,
                4.103433189354421
               ],
               [
                -74.21688271838211,
                4.273240506607817
               ],
               [
                -74.21198611288642,
                4.393469045101096
               ],
               [
                -74.17770987441666,
                4.486429255276313
               ],
               [
                -74.17281326892098,
                4.710773229165834
               ],
               [
                -74.05162228290288,
                4.832241237128118
               ],
               [
                -74.00877698481567,
                4.821086011907092
               ],
               [
                -74.00510453069391,
                4.560797423416487
               ],
               [
                -74.11650230572064,
                4.404624270322122
               ],
               [
                -74.09814003511185,
                4.345129735809984
               ],
               [
                -74.15200269556433,
                4.255887934041777
               ],
               [
                -74.10915739747713,
                4.169125071211575
               ],
               [
                -74.15077854419042,
                4.00427563183419
               ]
              ]
             ],
             "type": "Polygon"
            },
            "id": "25",
            "properties": {},
            "type": "Feature"
           },
           {
            "bbox": [
             -74.89873503365565,
             1.608381148251613,
             -71.07693444427679,
             4.899172588454274
            ],
            "geometry": {
             "coordinates": [
              [
               [
                -71.0781585956507,
                4.899172588454274
               ],
               [
                -71.0781585956507,
                3.973288895109118
               ],
               [
                -71.0781585956507,
                3.29529909556454
               ],
               [
                -71.07693444427679,
                2.88255576238658
               ],
               [
                -71.2776952695997,
                2.867682128758545
               ],
               [
                -71.32910962730435,
                2.892471518138603
               ],
               [
                -71.38909304462645,
                2.845371678316493
               ],
               [
                -71.46866288393126,
                2.893710987607605
               ],
               [
                -71.65228559001929,
                2.820582288936435
               ],
               [
                -71.74164864031546,
                2.883795231855582
               ],
               [
                -71.85794302083788,
                2.842892739378487
               ],
               [
                -72.04646233242158,
                2.818103349998429
               ],
               [
                -72.11256650661328,
                2.875118945572562
               ],
               [
                -72.2043778596573,
                2.859005842475525
               ],
               [
                -72.35862093277125,
                2.780919265928342
               ],
               [
                -72.38922471711925,
                2.736298365044239
               ],
               [
                -72.47001870779798,
                2.733819426106233
               ],
               [
                -72.48593267565894,
                2.68548011681512
               ],
               [
                -72.56305421221592,
                2.681761708408112
               ],
               [
                -72.59977875343353,
                2.614830357081956
               ],
               [
                -72.70015916609498,
                2.619788234957968
               ],
               [
                -72.73565955593867,
                2.571448925666855
               ],
               [
                -72.8164535466174,
                2.614830357081956
               ],
               [
                -72.92173056477453,
                2.560293700445829
               ],
               [
                -72.93642038126157,
                2.503278104871696
               ],
               [
                -73.01231776644462,
                2.433867814607535
               ],
               [
                -73.06618042689712,
                2.426430997793518
               ],
               [
                -73.15309517444545,
                2.366936463281379
               ],
               [
                -73.24000992199379,
                2.389246913723431
               ],
               [
                -73.29876918794196,
                2.335949726556307
               ],
               [
                -73.43832244456885,
                2.383049566378417
               ],
               [
                -73.51421982975191,
                2.349583890715339
               ],
               [
                -73.63173836164825,
                2.353302299122348
               ],
               [
                -73.66111799462233,
                2.293807764610209
               ],
               [
                -73.65989384324841,
                1.612099556658622
               ],
               [
                -73.73946368255324,
                1.638128415507683
               ],
               [
                -73.85820636582349,
                1.608381148251613
               ],
               [
                -73.99408716832863,
                1.639367884976686
               ],
               [
                -74.10548494335536,
                1.691425602674807
               ],
               [
                -74.20708950739075,
                1.716214992054864
               ],
               [
                -74.32215973653925,
                1.788104221257032
               ],
               [
                -74.47028205278359,
                1.806696263292075
               ],
               [
                -74.56331755720153,
                1.84759875576917
               ],
               [
                -74.56086925445368,
                1.962869416386439
               ],
               [
                -74.64411154788026,
                2.095492649569747
               ],
               [
                -74.59392134154953,
                2.13515567257784
               ],
               [
                -74.65023230474986,
                2.24298951638109
               ],
               [
                -74.74326780916779,
                2.270257844699154
               ],
               [
                -74.74204365779387,
                2.323555031866278
               ],
               [
                -74.67226702948042,
                2.44874144823557
               ],
               [
                -74.68083608909787,
                2.554096353100815
               ],
               [
                -74.58902473605384,
                2.661930196904065
               ],
               [
                -74.63676663963673,
                2.710269506195178
               ],
               [
                -74.6710428781065,
                2.887513640262591
               ],
               [
                -74.7616300797766,
                2.872640006634557
               ],
               [
                -74.80325122648989,
                2.935852949553704
               ],
               [
                -74.87914861167293,
                2.913542499111651
               ],
               [
                -74.89873503365565,
                2.96436074734077
               ],
               [
                -74.75061271741131,
                3.108139205745104
               ],
               [
                -74.61595606628009,
                3.321327954413601
               ],
               [
                -74.63921494238457,
                3.368427794235711
               ],
               [
                -74.61595606628009,
                3.460148534941924
               ],
               [
                -74.56331755720153,
                3.525840416799077
               ],
               [
                -74.50210998850551,
                3.647308424761359
               ],
               [
                -74.41641939233111,
                3.740268634936576
               ],
               [
                -74.33562540165236,
                3.822073619890766
               ],
               [
                -74.22912423212131,
                3.994359876082168
               ],
               [
                -74.15077854419042,
                4.00427563183419
               ],
               [
                -74.10058833785969,
                4.01295191811721
               ],
               [
                -74.00510453069391,
                4.109630536699436
               ],
               [
                -73.9561384757371,
                4.099714780947412
               ],
               [
                -73.81413691636236,
                4.201351277405649
               ],
               [
                -73.75292934766635,
                4.19267499112263
               ],
               [
                -73.74436028804891,
                4.265803689793799
               ],
               [
                -73.78353313201436,
                4.30050883492588
               ],
               [
                -73.80679200811883,
                4.421976842888164
               ],
               [
                -73.72722216881402,
                4.502542358373351
               ],
               [
                -73.62194515065688,
                4.562036892885489
               ],
               [
                -73.5680824902044,
                4.527331747753408
               ],
               [
                -73.60235872867416,
                4.454203049082238
               ],
               [
                -73.57297909570008,
                4.419497903950157
               ],
               [
                -73.55094437096952,
                4.307945651739898
               ],
               [
                -73.47259868303863,
                4.275719445545823
               ],
               [
                -73.35385599976837,
                4.321579815898929
               ],
               [
                -73.12371554147137,
                4.259606342448786
               ],
               [
                -73.05271476178399,
                4.736802088014896
               ],
               [
                -73.01721437194031,
                4.635165591556659
               ],
               [
                -72.9682483169835,
                4.599220976955575
               ],
               [
                -72.89724753729612,
                4.475274030055287
               ],
               [
                -72.77238409715628,
                4.369919125190041
               ],
               [
                -72.76993579440843,
                4.332735041119955
               ],
               [
                -72.5801923314508,
                4.30050883492588
               ],
               [
                -72.55448515259847,
                4.336453449526964
               ],
               [
                -72.40513868498022,
                4.31786140749192
               ],
               [
                -72.30353412094483,
                4.407103209260129
               ],
               [
                -72.15786010744833,
                4.44180835439221
               ],
               [
                -71.99872042883871,
                4.382313819880071
               ],
               [
                -71.86773623182924,
                4.505021297311357
               ],
               [
                -71.81387357137675,
                4.574431587575518
               ],
               [
                -71.73552788344585,
                4.574431587575518
               ],
               [
                -71.5984229295668,
                4.645081347308682
               ],
               [
                -71.57883650758407,
                4.673589145095749
               ],
               [
                -71.21159109540801,
                4.817367603500083
               ],
               [
                -71.0781585956507,
                4.899172588454274
               ]
              ]
             ],
             "type": "Polygon"
            },
            "id": "26",
            "properties": {},
            "type": "Feature"
           },
           {
            "bbox": [
             -76.62478847088315,
             1.566239186305515,
             -74.41641939233111,
             3.843144600863816
            ],
            "geometry": {
             "coordinates": [
              [
               [
                -74.43967826843559,
                3.730352879184553
               ],
               [
                -74.41641939233111,
                3.740268634936576
               ],
               [
                -74.50210998850551,
                3.647308424761359
               ],
               [
                -74.56331755720153,
                3.525840416799077
               ],
               [
                -74.61595606628009,
                3.460148534941924
               ],
               [
                -74.63921494238457,
                3.368427794235711
               ],
               [
                -74.61595606628009,
                3.321327954413601
               ],
               [
                -74.75061271741131,
                3.108139205745104
               ],
               [
                -74.89873503365565,
                2.96436074734077
               ],
               [
                -75.07011622600449,
                2.744974651327259
               ],
               [
                -75.14723776256146,
                2.722664200885207
               ],
               [
                -75.13254794607442,
                2.596238315046913
               ],
               [
                -75.28679101918836,
                2.41031789469648
               ],
               [
                -75.31004989529285,
                2.361978585405367
               ],
               [
                -75.3859472804759,
                2.314878745583258
               ],
               [
                -75.44470654642407,
                2.14383195886086
               ],
               [
                -75.53529374809416,
                2.117803100011799
               ],
               [
                -75.6160877387729,
                1.996335092049517
               ],
               [
                -75.6589330368601,
                1.892219656653274
               ],
               [
                -75.73483042204316,
                1.786864751788029
               ],
               [
                -75.84745234844381,
                1.722412339399878
               ],
               [
                -75.90376331164414,
                1.716214992054864
               ],
               [
                -76.03474750865361,
                1.582352289402553
               ],
               [
                -76.12411055894978,
                1.566239186305515
               ],
               [
                -76.16940415978483,
                1.588549636747567
               ],
               [
                -76.24530154496789,
                1.682749316391786
               ],
               [
                -76.38118234747303,
                1.666636213294749
               ],
               [
                -76.37016498510773,
                1.732328095151901
               ],
               [
                -76.43382085655159,
                1.790583160195037
               ],
               [
                -76.58806392966554,
                1.866190797804213
               ],
               [
                -76.62478847088315,
                1.974024641607464
               ],
               [
                -76.58683977829162,
                2.000053500456525
               ],
               [
                -76.58928808103946,
                2.107887344259776
               ],
               [
                -76.55378769119577,
                2.140113550453851
               ],
               [
                -76.42525179693415,
                2.128958325232825
               ],
               [
                -76.38485480159478,
                2.269018375230151
               ],
               [
                -76.30283665954212,
                2.283892008858186
               ],
               [
                -76.20857700375028,
                2.198368615496987
               ],
               [
                -76.12166225620194,
                2.224397474346048
               ],
               [
                -76.14614528368034,
                2.293807764610209
               ],
               [
                -76.12655886169762,
                2.38057062744041
               ],
               [
                -76.03352335727969,
                2.40164160841346
               ],
               [
                -75.9796606968272,
                2.503278104871696
               ],
               [
                -75.86336631630478,
                2.426430997793518
               ],
               [
                -75.82296932096541,
                2.48344659336765
               ],
               [
                -75.8401074402003,
                2.557814761507823
               ],
               [
                -75.74829608715628,
                2.718945792478198
               ],
               [
                -75.80583120173053,
                2.768524571238314
               ],
               [
                -75.82296932096541,
                2.83545592256447
               ],
               [
                -75.89641840340062,
                2.855287434068516
               ],
               [
                -76.028626751784,
                2.940810827429715
               ],
               [
                -75.85969386218302,
                2.872640006634557
               ],
               [
                -75.80338289898269,
                2.885034701324585
               ],
               [
                -75.69198512395594,
                2.992868545127836
               ],
               [
                -75.62710510113818,
                3.002784300879859
               ],
               [
                -75.6222084956425,
                3.075912999551029
               ],
               [
                -75.58303565167705,
                3.124252308842142
               ],
               [
                -75.57691489480744,
                3.220930927424367
               ],
               [
                -75.47898278489383,
                3.360990977421693
               ],
               [
                -75.42634427581527,
                3.352314691138673
               ],
               [
                -75.36636085849318,
                3.4068513477748
               ],
               [
                -75.24149741835332,
                3.404372408836794
               ],
               [
                -75.1496860653093,
                3.435359145561867
               ],
               [
                -75.04563319852609,
                3.431640737154858
               ],
               [
                -75.03583998753473,
                3.28662280928152
               ],
               [
                -74.9073040932731,
                3.290341217688528
               ],
               [
                -74.76530253389836,
                3.440317023437878
               ],
               [
                -74.77509574488973,
                3.524600947330074
               ],
               [
                -74.67593948360218,
                3.665900466796403
               ],
               [
                -74.55719680033192,
                3.767536963254639
               ],
               [
                -74.53516207560136,
                3.843144600863816
               ],
               [
                -74.44579902530519,
                3.801002638917717
               ],
               [
                -74.43967826843559,
                3.730352879184553
               ]
              ]
             ],
             "type": "Polygon"
            },
            "id": "27",
            "properties": {},
            "type": "Feature"
           },
           {
            "bbox": [
             -74.52659301598392,
             5.711025090651164,
             -72.48593267565894,
             8.145343127772831
            ],
            "geometry": {
             "coordinates": [
              [
               [
                -73.63296251302216,
                7.748712897691908
               ],
               [
                -73.51666813249975,
                7.637160645481648
               ],
               [
                -73.50565077013447,
                7.59501868353555
               ],
               [
                -73.35508015114229,
                7.544200435306431
               ],
               [
                -73.24735483023731,
                7.557834599465464
               ],
               [
                -73.21797519726323,
                7.632202767605635
               ],
               [
                -72.9927313444619,
                7.597497622473556
               ],
               [
                -72.97804152797487,
                7.529326801678396
               ],
               [
                -72.89357508317437,
                7.47479014504227
               ],
               [
                -72.9009199914179,
                7.433887652565174
               ],
               [
                -72.8409365740958,
                7.361998423363007
               ],
               [
                -72.87031620706989,
                7.277714499470811
               ],
               [
                -72.8409365740958,
                7.194670045047618
               ],
               [
                -72.85807469333068,
                7.153767552570523
               ],
               [
                -72.78707391364331,
                7.048412647705277
               ],
               [
                -72.72219389082554,
                7.005031216290176
               ],
               [
                -72.55326100122456,
                6.98519970478613
               ],
               [
                -72.50307079489383,
                6.908352597707951
               ],
               [
                -72.48593267565894,
                6.656740295500365
               ],
               [
                -72.54591609298103,
                6.567498493732158
               ],
               [
                -72.53979533611144,
                6.488172447715973
               ],
               [
                -72.66098632212953,
                6.443551546831868
               ],
               [
                -72.73565955593867,
                6.490651386653978
               ],
               [
                -72.7319871018169,
                6.356788684001668
               ],
               [
                -72.75769428066923,
                6.317125660993575
               ],
               [
                -72.74422861555611,
                6.235320676039384
               ],
               [
                -72.8042120328782,
                6.215489164535338
               ],
               [
                -72.95355850049646,
                6.065513358785989
               ],
               [
                -73.12983629834096,
                5.95891898445174
               ],
               [
                -73.19961292665442,
                6.003539885335845
               ],
               [
                -73.21919934863715,
                5.913058614098635
               ],
               [
                -73.18369895879346,
                5.849845671179487
               ],
               [
                -73.34528694015093,
                5.84240885436547
               ],
               [
                -73.39058054098598,
                5.750688113659256
               ],
               [
                -73.47382283441254,
                5.816379995516408
               ],
               [
                -73.44444320143846,
                5.901903388877608
               ],
               [
                -73.40159790335126,
                5.901903388877608
               ],
               [
                -73.37099411900326,
                6.00601882427385
               ],
               [
                -73.40282205472518,
                6.054358133564962
               ],
               [
                -73.49708171051702,
                6.107655320732087
               ],
               [
                -73.58644476081321,
                6.00601882427385
               ],
               [
                -73.63051421027433,
                5.894466572063591
               ],
               [
                -73.59991042592632,
                5.869677182683533
               ],
               [
                -73.63908326989177,
                5.724659254810195
               ],
               [
                -73.71130820095307,
                5.776716972508316
               ],
               [
                -73.86187881994525,
                5.711025090651164
               ],
               [
                -73.90472411803246,
                5.73953288843823
               ],
               [
                -73.99775962245039,
                5.740772357907233
               ],
               [
                -74.02591510405055,
                5.806464239764386
               ],
               [
                -74.1801581771645,
                5.910579675160628
               ],
               [
                -74.28665934669556,
                6.08286593135203
               ],
               [
                -74.37847069973958,
                6.039484499936929
               ],
               [
                -74.45191978217478,
                6.098979034449068
               ],
               [
                -74.52659301598392,
                6.273744229578474
               ],
               [
                -74.45069563080087,
                6.331999294621609
               ],
               [
                -74.39683297034838,
                6.45222783311489
               ],
               [
                -74.40907448408758,
                6.5860905357672
               ],
               [
                -74.35888427775686,
                6.63319037558931
               ],
               [
                -74.25605556234756,
                6.675332337535409
               ],
               [
                -74.23157253486914,
                6.71003748266749
               ],
               [
                -74.11527815434673,
                6.76581360877262
               ],
               [
                -74.01122528756352,
                6.913310475583962
               ],
               [
                -73.89737920978894,
                6.986439174255132
               ],
               [
                -73.88758599879758,
                7.070723098147329
               ],
               [
                -73.93900035650222,
                7.182275350357589
               ],
               [
                -73.91574148039774,
                7.295067072036851
               ],
               [
                -73.8949309070411,
                7.431408713627169
               ],
               [
                -73.91696563177166,
                7.472311206104264
               ],
               [
                -73.8459648520843,
                7.541721496368424
               ],
               [
                -73.7982229485014,
                7.656992156985694
               ],
               [
                -73.83005088422333,
                7.727641916718857
               ],
               [
                -73.7982229485014,
                7.772262817602963
               ],
               [
                -73.83127503559724,
                7.932154379104334
               ],
               [
                -73.86187881994525,
                7.971817402112427
               ],
               [
                -73.86677542544093,
                8.069735490163655
               ],
               [
                -73.77496407239691,
                8.145343127772831
               ],
               [
                -73.76394671003163,
                8.06353814281864
               ],
               [
                -73.67580781110938,
                7.943309604325361
               ],
               [
                -73.67091120561369,
                7.893730825565244
               ],
               [
                -73.75048104491852,
                7.803249554328033
               ],
               [
                -73.75292934766635,
                7.751191836629912
               ],
               [
                -73.63296251302216,
                7.748712897691908
               ]
              ]
             ],
             "type": "Polygon"
            },
            "id": "28",
            "properties": {},
            "type": "Feature"
           },
           {
            "bbox": [
             -76.09105847185394,
             2.872640006634557,
             -74.4764028096532,
             5.314394860570241
            ],
            "geometry": {
             "coordinates": [
              [
               [
                -74.73469874955035,
                5.287126532252177
               ],
               [
                -74.71633647894154,
                5.092529825618724
               ],
               [
                -74.75183686878523,
                4.865706912791197
               ],
               [
                -74.74326780916779,
                4.790099275182019
               ],
               [
                -74.81426858885517,
                4.735562618545893
               ],
               [
                -74.78856141000284,
                4.658715511467713
               ],
               [
                -74.81426858885517,
                4.585586812796544
               ],
               [
                -74.78733725862892,
                4.508739705718364
               ],
               [
                -74.83263085946396,
                4.443047823861212
               ],
               [
                -74.87914861167293,
                4.265803689793799
               ],
               [
                -74.81304443748124,
                4.294311487580865
               ],
               [
                -74.70164666245451,
                4.212506502626676
               ],
               [
                -74.63921494238457,
                4.211267033157672
               ],
               [
                -74.56209340582761,
                4.272001037138814
               ],
               [
                -74.4837477178967,
                4.176561888025592
               ],
               [
                -74.4764028096532,
                4.112109475637441
               ],
               [
                -74.5314896214796,
                4.03402289909026
               ],
               [
                -74.5131273508708,
                3.953457383605071
               ],
               [
                -74.53516207560136,
                3.843144600863816
               ],
               [
                -74.55719680033192,
                3.767536963254639
               ],
               [
                -74.67593948360218,
                3.665900466796403
               ],
               [
                -74.77509574488973,
                3.524600947330074
               ],
               [
                -74.76530253389836,
                3.440317023437878
               ],
               [
                -74.9073040932731,
                3.290341217688528
               ],
               [
                -75.03583998753473,
                3.28662280928152
               ],
               [
                -75.04563319852609,
                3.431640737154858
               ],
               [
                -75.1496860653093,
                3.435359145561867
               ],
               [
                -75.24149741835332,
                3.404372408836794
               ],
               [
                -75.36636085849318,
                3.4068513477748
               ],
               [
                -75.42634427581527,
                3.352314691138673
               ],
               [
                -75.47898278489383,
                3.360990977421693
               ],
               [
                -75.57691489480744,
                3.220930927424367
               ],
               [
                -75.58303565167705,
                3.124252308842142
               ],
               [
                -75.6222084956425,
                3.075912999551029
               ],
               [
                -75.62710510113818,
                3.002784300879859
               ],
               [
                -75.69198512395594,
                2.992868545127836
               ],
               [
                -75.80338289898269,
                2.885034701324585
               ],
               [
                -75.85969386218302,
                2.872640006634557
               ],
               [
                -76.028626751784,
                2.940810827429715
               ],
               [
                -76.02128184354048,
                3.005263239817865
               ],
               [
                -76.07269620124514,
                3.049884140701969
               ],
               [
                -76.09105847185394,
                3.198620476982315
               ],
               [
                -76.05555808201025,
                3.223409866362373
               ],
               [
                -76.03841996277536,
                3.301496442909555
               ],
               [
                -76.06167883887986,
                3.354793630076679
               ],
               [
                -76.02740260041008,
                3.487416863259988
               ],
               [
                -75.98455730232288,
                3.559306092462155
               ],
               [
                -75.99312636194031,
                3.60888487122227
               ],
               [
                -75.9551776693488,
                3.714239776087515
               ],
               [
                -75.92212558225295,
                3.739029165467573
               ],
               [
                -75.86214216493086,
                3.874131337588887
               ],
               [
                -75.80705535310445,
                3.931146933163021
               ],
               [
                -75.75196854127805,
                4.077404330505361
               ],
               [
                -75.69688172945163,
                4.131940987141487
               ],
               [
                -75.59282886266841,
                4.319100876960924
               ],
               [
                -75.57813904618138,
                4.451724110144232
               ],
               [
                -75.51448317473752,
                4.555839545540474
               ],
               [
                -75.41532691344999,
                4.62277089686663
               ],
               [
                -75.38839558322374,
                4.715731107041847
               ],
               [
                -75.37492991811062,
                4.802493969872049
               ],
               [
                -75.32351556040597,
                4.865706912791197
               ],
               [
                -75.35167104200613,
                4.938835611462366
               ],
               [
                -75.31739480353637,
                5.028077413230573
               ],
               [
                -75.3443261337626,
                5.081374600397698
               ],
               [
                -75.28801517056229,
                5.13839019597183
               ],
               [
                -75.11663397821346,
                5.160700646413883
               ],
               [
                -75.05665056089137,
                5.274731837562149
               ],
               [
                -74.93913202899503,
                5.313155391101237
               ],
               [
                -74.85099313007277,
                5.314394860570241
               ],
               [
                -74.73469874955035,
                5.287126532252177
               ]
              ]
             ],
             "type": "Polygon"
            },
            "id": "29",
            "properties": {},
            "type": "Feature"
           },
           {
            "bbox": [
             -75.25006647797076,
             10.253680694546738,
             -74.72123308443723,
             11.10519621975172
            ],
            "geometry": {
             "coordinates": [
              [
               [
                -74.91097654739487,
                10.253680694546738
               ],
               [
                -74.96483920784735,
                10.325569923748906
               ],
               [
                -75.08235773974368,
                10.412332786579109
               ],
               [
                -75.12642718920482,
                10.398698622420076
               ],
               [
                -75.24149741835332,
                10.52016663038236
               ],
               [
                -75.22313514774451,
                10.630479413123616
               ],
               [
                -75.25006647797076,
                10.723439623298832
               ],
               [
                -75.22435929911843,
                10.795328852501
               ],
               [
                -75.04440904715216,
                10.899444287897241
               ],
               [
                -75.00523620318671,
                10.98000980338243
               ],
               [
                -74.8522172814467,
                11.10519621975172
               ],
               [
                -74.76407838252443,
                10.994883437010463
               ],
               [
                -74.72123308443723,
                10.904402165773254
               ],
               [
                -74.73592290092427,
                10.551153367107432
               ],
               [
                -74.80937198335948,
                10.475545729498254
               ],
               [
                -74.82773425396829,
                10.411093317110105
               ],
               [
                -74.91097654739487,
                10.253680694546738
               ]
              ]
             ],
             "type": "Polygon"
            },
            "id": "30",
            "properties": {},
            "type": "Feature"
           }
          ],
          "type": "FeatureCollection"
         },
         "hovertemplate": "<b>%{hovertext}</b><br><br>index=%{location}<br>Promedio de Puntaje=%{z}<extra></extra>",
         "hovertext": [
          "CAQUETA",
          "PUTUMAYO",
          "VALLE DEL CAUCA",
          "GUAINIA",
          "VICHADA",
          "CASANARE",
          "AMAZONAS",
          "VAUPES",
          "GUAVIARE",
          "CALDAS",
          "QUINDIO",
          "RISARALDA",
          "ANTIOQUIA",
          "CHOCO",
          "NARINO",
          "CORDOBA",
          "BOLIVAR",
          "CESAR",
          "LA GUAJIRA",
          "MAGDALENA",
          "SUCRE",
          "SAN ANDRES",
          "ARAUCA",
          "BOYACA",
          "CUNDINAMARCA",
          "BOGOTA",
          "META",
          "HUILA",
          "SANTANDER",
          "TOLIMA",
          "ATLANTICO"
         ],
         "locations": [
          0,
          1,
          2,
          3,
          4,
          5,
          6,
          7,
          8,
          9,
          10,
          11,
          12,
          13,
          14,
          15,
          16,
          17,
          18,
          19,
          20,
          21,
          22,
          23,
          24,
          25,
          26,
          27,
          28,
          29,
          30
         ],
         "marker": {
          "opacity": 0.7
         },
         "name": "",
         "subplot": "mapbox",
         "type": "choroplethmapbox",
         "z": [
          238.3613858306898,
          239.11071057192373,
          247.83660378580117,
          223.74483306836248,
          221.96127783155856,
          250.74322770546843,
          216.44948453608248,
          212.68618618618618,
          228.13795874631663,
          251.63314166497048,
          258.11205372923297,
          254.57966430284168,
          245.68367461035987,
          204.90913784202374,
          248.97293176989572,
          238.37365401142512,
          231.05738230685915,
          241.95991569650744,
          221.96195474898437,
          226.34996597867996,
          237.45624527058365,
          234.1722198182605,
          242.91071143085532,
          265.26387085107433,
          258.5986209931783,
          271.3763741805345,
          251.1782774323496,
          253.1616102570098,
          267.28070415709743,
          243.91377051328246,
          246.454210672013
         ]
        }
       ],
       "layout": {
        "autosize": false,
        "coloraxis": {
         "colorbar": {
          "title": {
           "text": "Promedio de Puntaje"
          }
         },
         "colorscale": [
          [
           0,
           "rgb(247,252,245)"
          ],
          [
           0.125,
           "rgb(229,245,224)"
          ],
          [
           0.25,
           "rgb(199,233,192)"
          ],
          [
           0.375,
           "rgb(161,217,155)"
          ],
          [
           0.5,
           "rgb(116,196,118)"
          ],
          [
           0.625,
           "rgb(65,171,93)"
          ],
          [
           0.75,
           "rgb(35,139,69)"
          ],
          [
           0.875,
           "rgb(0,109,44)"
          ],
          [
           1,
           "rgb(0,68,27)"
          ]
         ]
        },
        "font": {
         "color": "#7f7f7f",
         "family": "Arial",
         "size": 12
        },
        "height": 600,
        "legend": {
         "bgcolor": "rgba(255, 255, 255, 0.5)",
         "orientation": "h",
         "title": {
          "text": "Puntaje"
         },
         "tracegroupgap": 0,
         "x": 1,
         "xanchor": "right",
         "y": 1.02,
         "yanchor": "bottom"
        },
        "mapbox": {
         "center": {
          "lat": 4.5709,
          "lon": -74.2973
         },
         "domain": {
          "x": [
           0,
           1
          ],
          "y": [
           0,
           1
          ]
         },
         "style": "carto-positron",
         "zoom": 4
        },
        "margin": {
         "b": 10,
         "l": 10,
         "r": 10,
         "t": 50
        },
        "template": {
         "data": {
          "bar": [
           {
            "error_x": {
             "color": "#2a3f5f"
            },
            "error_y": {
             "color": "#2a3f5f"
            },
            "marker": {
             "line": {
              "color": "#E5ECF6",
              "width": 0.5
             },
             "pattern": {
              "fillmode": "overlay",
              "size": 10,
              "solidity": 0.2
             }
            },
            "type": "bar"
           }
          ],
          "barpolar": [
           {
            "marker": {
             "line": {
              "color": "#E5ECF6",
              "width": 0.5
             },
             "pattern": {
              "fillmode": "overlay",
              "size": 10,
              "solidity": 0.2
             }
            },
            "type": "barpolar"
           }
          ],
          "carpet": [
           {
            "aaxis": {
             "endlinecolor": "#2a3f5f",
             "gridcolor": "white",
             "linecolor": "white",
             "minorgridcolor": "white",
             "startlinecolor": "#2a3f5f"
            },
            "baxis": {
             "endlinecolor": "#2a3f5f",
             "gridcolor": "white",
             "linecolor": "white",
             "minorgridcolor": "white",
             "startlinecolor": "#2a3f5f"
            },
            "type": "carpet"
           }
          ],
          "choropleth": [
           {
            "colorbar": {
             "outlinewidth": 0,
             "ticks": ""
            },
            "type": "choropleth"
           }
          ],
          "contour": [
           {
            "colorbar": {
             "outlinewidth": 0,
             "ticks": ""
            },
            "colorscale": [
             [
              0,
              "#0d0887"
             ],
             [
              0.1111111111111111,
              "#46039f"
             ],
             [
              0.2222222222222222,
              "#7201a8"
             ],
             [
              0.3333333333333333,
              "#9c179e"
             ],
             [
              0.4444444444444444,
              "#bd3786"
             ],
             [
              0.5555555555555556,
              "#d8576b"
             ],
             [
              0.6666666666666666,
              "#ed7953"
             ],
             [
              0.7777777777777778,
              "#fb9f3a"
             ],
             [
              0.8888888888888888,
              "#fdca26"
             ],
             [
              1,
              "#f0f921"
             ]
            ],
            "type": "contour"
           }
          ],
          "contourcarpet": [
           {
            "colorbar": {
             "outlinewidth": 0,
             "ticks": ""
            },
            "type": "contourcarpet"
           }
          ],
          "heatmap": [
           {
            "colorbar": {
             "outlinewidth": 0,
             "ticks": ""
            },
            "colorscale": [
             [
              0,
              "#0d0887"
             ],
             [
              0.1111111111111111,
              "#46039f"
             ],
             [
              0.2222222222222222,
              "#7201a8"
             ],
             [
              0.3333333333333333,
              "#9c179e"
             ],
             [
              0.4444444444444444,
              "#bd3786"
             ],
             [
              0.5555555555555556,
              "#d8576b"
             ],
             [
              0.6666666666666666,
              "#ed7953"
             ],
             [
              0.7777777777777778,
              "#fb9f3a"
             ],
             [
              0.8888888888888888,
              "#fdca26"
             ],
             [
              1,
              "#f0f921"
             ]
            ],
            "type": "heatmap"
           }
          ],
          "heatmapgl": [
           {
            "colorbar": {
             "outlinewidth": 0,
             "ticks": ""
            },
            "colorscale": [
             [
              0,
              "#0d0887"
             ],
             [
              0.1111111111111111,
              "#46039f"
             ],
             [
              0.2222222222222222,
              "#7201a8"
             ],
             [
              0.3333333333333333,
              "#9c179e"
             ],
             [
              0.4444444444444444,
              "#bd3786"
             ],
             [
              0.5555555555555556,
              "#d8576b"
             ],
             [
              0.6666666666666666,
              "#ed7953"
             ],
             [
              0.7777777777777778,
              "#fb9f3a"
             ],
             [
              0.8888888888888888,
              "#fdca26"
             ],
             [
              1,
              "#f0f921"
             ]
            ],
            "type": "heatmapgl"
           }
          ],
          "histogram": [
           {
            "marker": {
             "pattern": {
              "fillmode": "overlay",
              "size": 10,
              "solidity": 0.2
             }
            },
            "type": "histogram"
           }
          ],
          "histogram2d": [
           {
            "colorbar": {
             "outlinewidth": 0,
             "ticks": ""
            },
            "colorscale": [
             [
              0,
              "#0d0887"
             ],
             [
              0.1111111111111111,
              "#46039f"
             ],
             [
              0.2222222222222222,
              "#7201a8"
             ],
             [
              0.3333333333333333,
              "#9c179e"
             ],
             [
              0.4444444444444444,
              "#bd3786"
             ],
             [
              0.5555555555555556,
              "#d8576b"
             ],
             [
              0.6666666666666666,
              "#ed7953"
             ],
             [
              0.7777777777777778,
              "#fb9f3a"
             ],
             [
              0.8888888888888888,
              "#fdca26"
             ],
             [
              1,
              "#f0f921"
             ]
            ],
            "type": "histogram2d"
           }
          ],
          "histogram2dcontour": [
           {
            "colorbar": {
             "outlinewidth": 0,
             "ticks": ""
            },
            "colorscale": [
             [
              0,
              "#0d0887"
             ],
             [
              0.1111111111111111,
              "#46039f"
             ],
             [
              0.2222222222222222,
              "#7201a8"
             ],
             [
              0.3333333333333333,
              "#9c179e"
             ],
             [
              0.4444444444444444,
              "#bd3786"
             ],
             [
              0.5555555555555556,
              "#d8576b"
             ],
             [
              0.6666666666666666,
              "#ed7953"
             ],
             [
              0.7777777777777778,
              "#fb9f3a"
             ],
             [
              0.8888888888888888,
              "#fdca26"
             ],
             [
              1,
              "#f0f921"
             ]
            ],
            "type": "histogram2dcontour"
           }
          ],
          "mesh3d": [
           {
            "colorbar": {
             "outlinewidth": 0,
             "ticks": ""
            },
            "type": "mesh3d"
           }
          ],
          "parcoords": [
           {
            "line": {
             "colorbar": {
              "outlinewidth": 0,
              "ticks": ""
             }
            },
            "type": "parcoords"
           }
          ],
          "pie": [
           {
            "automargin": true,
            "type": "pie"
           }
          ],
          "scatter": [
           {
            "fillpattern": {
             "fillmode": "overlay",
             "size": 10,
             "solidity": 0.2
            },
            "type": "scatter"
           }
          ],
          "scatter3d": [
           {
            "line": {
             "colorbar": {
              "outlinewidth": 0,
              "ticks": ""
             }
            },
            "marker": {
             "colorbar": {
              "outlinewidth": 0,
              "ticks": ""
             }
            },
            "type": "scatter3d"
           }
          ],
          "scattercarpet": [
           {
            "marker": {
             "colorbar": {
              "outlinewidth": 0,
              "ticks": ""
             }
            },
            "type": "scattercarpet"
           }
          ],
          "scattergeo": [
           {
            "marker": {
             "colorbar": {
              "outlinewidth": 0,
              "ticks": ""
             }
            },
            "type": "scattergeo"
           }
          ],
          "scattergl": [
           {
            "marker": {
             "colorbar": {
              "outlinewidth": 0,
              "ticks": ""
             }
            },
            "type": "scattergl"
           }
          ],
          "scattermapbox": [
           {
            "marker": {
             "colorbar": {
              "outlinewidth": 0,
              "ticks": ""
             }
            },
            "type": "scattermapbox"
           }
          ],
          "scatterpolar": [
           {
            "marker": {
             "colorbar": {
              "outlinewidth": 0,
              "ticks": ""
             }
            },
            "type": "scatterpolar"
           }
          ],
          "scatterpolargl": [
           {
            "marker": {
             "colorbar": {
              "outlinewidth": 0,
              "ticks": ""
             }
            },
            "type": "scatterpolargl"
           }
          ],
          "scatterternary": [
           {
            "marker": {
             "colorbar": {
              "outlinewidth": 0,
              "ticks": ""
             }
            },
            "type": "scatterternary"
           }
          ],
          "surface": [
           {
            "colorbar": {
             "outlinewidth": 0,
             "ticks": ""
            },
            "colorscale": [
             [
              0,
              "#0d0887"
             ],
             [
              0.1111111111111111,
              "#46039f"
             ],
             [
              0.2222222222222222,
              "#7201a8"
             ],
             [
              0.3333333333333333,
              "#9c179e"
             ],
             [
              0.4444444444444444,
              "#bd3786"
             ],
             [
              0.5555555555555556,
              "#d8576b"
             ],
             [
              0.6666666666666666,
              "#ed7953"
             ],
             [
              0.7777777777777778,
              "#fb9f3a"
             ],
             [
              0.8888888888888888,
              "#fdca26"
             ],
             [
              1,
              "#f0f921"
             ]
            ],
            "type": "surface"
           }
          ],
          "table": [
           {
            "cells": {
             "fill": {
              "color": "#EBF0F8"
             },
             "line": {
              "color": "white"
             }
            },
            "header": {
             "fill": {
              "color": "#C8D4E3"
             },
             "line": {
              "color": "white"
             }
            },
            "type": "table"
           }
          ]
         },
         "layout": {
          "annotationdefaults": {
           "arrowcolor": "#2a3f5f",
           "arrowhead": 0,
           "arrowwidth": 1
          },
          "autotypenumbers": "strict",
          "coloraxis": {
           "colorbar": {
            "outlinewidth": 0,
            "ticks": ""
           }
          },
          "colorscale": {
           "diverging": [
            [
             0,
             "#8e0152"
            ],
            [
             0.1,
             "#c51b7d"
            ],
            [
             0.2,
             "#de77ae"
            ],
            [
             0.3,
             "#f1b6da"
            ],
            [
             0.4,
             "#fde0ef"
            ],
            [
             0.5,
             "#f7f7f7"
            ],
            [
             0.6,
             "#e6f5d0"
            ],
            [
             0.7,
             "#b8e186"
            ],
            [
             0.8,
             "#7fbc41"
            ],
            [
             0.9,
             "#4d9221"
            ],
            [
             1,
             "#276419"
            ]
           ],
           "sequential": [
            [
             0,
             "#0d0887"
            ],
            [
             0.1111111111111111,
             "#46039f"
            ],
            [
             0.2222222222222222,
             "#7201a8"
            ],
            [
             0.3333333333333333,
             "#9c179e"
            ],
            [
             0.4444444444444444,
             "#bd3786"
            ],
            [
             0.5555555555555556,
             "#d8576b"
            ],
            [
             0.6666666666666666,
             "#ed7953"
            ],
            [
             0.7777777777777778,
             "#fb9f3a"
            ],
            [
             0.8888888888888888,
             "#fdca26"
            ],
            [
             1,
             "#f0f921"
            ]
           ],
           "sequentialminus": [
            [
             0,
             "#0d0887"
            ],
            [
             0.1111111111111111,
             "#46039f"
            ],
            [
             0.2222222222222222,
             "#7201a8"
            ],
            [
             0.3333333333333333,
             "#9c179e"
            ],
            [
             0.4444444444444444,
             "#bd3786"
            ],
            [
             0.5555555555555556,
             "#d8576b"
            ],
            [
             0.6666666666666666,
             "#ed7953"
            ],
            [
             0.7777777777777778,
             "#fb9f3a"
            ],
            [
             0.8888888888888888,
             "#fdca26"
            ],
            [
             1,
             "#f0f921"
            ]
           ]
          },
          "colorway": [
           "#636efa",
           "#EF553B",
           "#00cc96",
           "#ab63fa",
           "#FFA15A",
           "#19d3f3",
           "#FF6692",
           "#B6E880",
           "#FF97FF",
           "#FECB52"
          ],
          "font": {
           "color": "#2a3f5f"
          },
          "geo": {
           "bgcolor": "white",
           "lakecolor": "white",
           "landcolor": "#E5ECF6",
           "showlakes": true,
           "showland": true,
           "subunitcolor": "white"
          },
          "hoverlabel": {
           "align": "left"
          },
          "hovermode": "closest",
          "mapbox": {
           "style": "light"
          },
          "paper_bgcolor": "white",
          "plot_bgcolor": "#E5ECF6",
          "polar": {
           "angularaxis": {
            "gridcolor": "white",
            "linecolor": "white",
            "ticks": ""
           },
           "bgcolor": "#E5ECF6",
           "radialaxis": {
            "gridcolor": "white",
            "linecolor": "white",
            "ticks": ""
           }
          },
          "scene": {
           "xaxis": {
            "backgroundcolor": "#E5ECF6",
            "gridcolor": "white",
            "gridwidth": 2,
            "linecolor": "white",
            "showbackground": true,
            "ticks": "",
            "zerolinecolor": "white"
           },
           "yaxis": {
            "backgroundcolor": "#E5ECF6",
            "gridcolor": "white",
            "gridwidth": 2,
            "linecolor": "white",
            "showbackground": true,
            "ticks": "",
            "zerolinecolor": "white"
           },
           "zaxis": {
            "backgroundcolor": "#E5ECF6",
            "gridcolor": "white",
            "gridwidth": 2,
            "linecolor": "white",
            "showbackground": true,
            "ticks": "",
            "zerolinecolor": "white"
           }
          },
          "shapedefaults": {
           "line": {
            "color": "#2a3f5f"
           }
          },
          "ternary": {
           "aaxis": {
            "gridcolor": "white",
            "linecolor": "white",
            "ticks": ""
           },
           "baxis": {
            "gridcolor": "white",
            "linecolor": "white",
            "ticks": ""
           },
           "bgcolor": "#E5ECF6",
           "caxis": {
            "gridcolor": "white",
            "linecolor": "white",
            "ticks": ""
           }
          },
          "title": {
           "x": 0.05
          },
          "xaxis": {
           "automargin": true,
           "gridcolor": "white",
           "linecolor": "white",
           "ticks": "",
           "title": {
            "standoff": 15
           },
           "zerolinecolor": "white",
           "zerolinewidth": 2
          },
          "yaxis": {
           "automargin": true,
           "gridcolor": "white",
           "linecolor": "white",
           "ticks": "",
           "title": {
            "standoff": 15
           },
           "zerolinecolor": "white",
           "zerolinewidth": 2
          }
         }
        },
        "title": {
         "text": "<b>Promedio de Puntaje por Departamento</b>"
        },
        "width": 800
       }
      }
     },
     "metadata": {},
     "output_type": "display_data"
    }
   ],
   "source": [
    "import geopandas as gpd\n",
    "import pandas as pd\n",
    "import plotly.express as px\n",
    "\n",
    "# Cargar el archivo GeoJSON\n",
    "geojson_file = 'mapaDeptosPuntaje.geojson'\n",
    "\n",
    "# Cargar los datos en un DataFrame de GeoPandas\n",
    "data = gpd.read_file(geojson_file)\n",
    "\n",
    "# Eliminar las tildes de los nombres de los departamentos\n",
    "data['DPTO_CNMBR'] = data['DPTO_CNMBR'].str.normalize('NFKD').str.encode('ascii', errors='ignore').str.decode('utf-8')\n",
    "\n",
    "# Resetear el índice\n",
    "data = data.reset_index(drop=True)\n",
    "\n",
    "# Crear el mapa cloroplético\n",
    "fig = px.choropleth_mapbox(\n",
    "    data_frame=data,\n",
    "    geojson=data.geometry.__geo_interface__,\n",
    "    locations=data.index,\n",
    "    color='punt_global',\n",
    "    color_continuous_scale='Greens',\n",
    "    mapbox_style=\"carto-positron\",\n",
    "    zoom=4,\n",
    "    center={\"lat\": 4.5709, \"lon\": -74.2973},\n",
    "    opacity=0.7,\n",
    "    labels={'punt_global': 'Promedio de Puntaje'},\n",
    "    hover_name='DPTO_CNMBR',\n",
    "    title='<b>Promedio de Puntaje por Departamento</b>',\n",
    ")\n",
    "\n",
    "fig.update_layout(\n",
    "    margin={\"r\": 10, \"t\": 50, \"l\": 10, \"b\": 10},\n",
    "    legend=dict(\n",
    "        title={'text': 'Puntaje'},\n",
    "        orientation='h',\n",
    "        yanchor='bottom',\n",
    "        y=1.02,\n",
    "        xanchor='right',\n",
    "        x=1,\n",
    "        bgcolor='rgba(255, 255, 255, 0.5)'\n",
    "    ),\n",
    "    font=dict(\n",
    "        family=\"Arial\",\n",
    "        size=12,\n",
    "        color=\"#7f7f7f\"\n",
    "    ),\n",
    "    autosize=False,\n",
    "    width=800,\n",
    "    height=600,\n",
    ")\n",
    "\n",
    "fig.show()\n"
   ]
  },
  {
   "cell_type": "code",
   "execution_count": 22,
   "metadata": {},
   "outputs": [
    {
     "data": {
      "image/png": "[encoded data removed]",
      "text/plain": [
       "<Figure size 1000x1000 with 2 Axes>"
      ]
     },
     "metadata": {},
     "output_type": "display_data"
    }
   ],
   "source": [
    "import matplotlib.pyplot as plt\n",
    "# Crear un mapa coroplético\n",
    "data.plot(column='punt_global', cmap='Greens', legend=True, figsize=(10, 10))\n",
    "# INCLUIR TITUOLO Y ETIQUETAS\n",
    "plt.title('Promedio de Puntaje por Departamento')\n",
    "plt.xlabel('Departamento')\n",
    "plt.ylabel('Puntaje')\n",
    "plt.show()\n"
   ]
  },
  {
   "attachments": {},
   "cell_type": "markdown",
   "metadata": {},
   "source": [
    "# Visualización 3"
   ]
  },
  {
   "cell_type": "code",
   "execution_count": 23,
   "metadata": {},
   "outputs": [
    {
     "data": {
      "application/vnd.plotly.v1+json": {
       "config": {
        "plotlyServerURL": "https://plot.ly"
       },
       "data": [
        {
         "alignmentgroup": "True",
         "hovertemplate": "Cantidad de estudiantes=%{marker.color}<br>Departamento=%{y}<extra></extra>",
         "legendgroup": "",
         "marker": {
          "color": [
           1994,
           1932,
           1158,
           998,
           948,
           842,
           766,
           634,
           632,
           576,
           462,
           368,
           354,
           350,
           348,
           332,
           328,
           318,
           216,
           164,
           110,
           106,
           48,
           42,
           14,
           8,
           6,
           6,
           2
          ],
          "coloraxis": "coloraxis",
          "pattern": {
           "shape": ""
          }
         },
         "name": "",
         "offsetgroup": "",
         "orientation": "h",
         "showlegend": false,
         "textposition": "auto",
         "type": "bar",
         "x": [
          1994,
          1932,
          1158,
          998,
          948,
          842,
          766,
          634,
          632,
          576,
          462,
          368,
          354,
          350,
          348,
          332,
          328,
          318,
          216,
          164,
          110,
          106,
          48,
          42,
          14,
          8,
          6,
          6,
          2
         ],
         "xaxis": "x",
         "y": [
          "ANTIOQUIA",
          "SANTANDER",
          "ATLANTICO",
          "CUNDINAMARCA",
          "VALLE DEL CAUCA",
          "NORTE SANTANDER",
          "BOYACA",
          "BOLIVAR",
          "HUILA",
          "CORDOBA",
          "NARIÑO",
          "CESAR",
          "TOLIMA",
          "SUCRE",
          "META",
          "QUINDIO",
          "CALDAS",
          "RISARALDA",
          "CASANARE",
          "MAGDALENA",
          "CAQUETA",
          "LA GUAJIRA",
          "PUTUMAYO",
          "ARAUCA",
          "SAN ANDRES",
          "CHOCO",
          "GUAVIARE",
          "GUAINIA",
          "AMAZONAS"
         ],
         "yaxis": "y"
        }
       ],
       "layout": {
        "barmode": "relative",
        "coloraxis": {
         "colorbar": {
          "title": {
           "text": "Cantidad de estudiantes"
          }
         },
         "colorscale": [
          [
           0,
           "rgb(210, 251, 212)"
          ],
          [
           0.16666666666666666,
           "rgb(165, 219, 194)"
          ],
          [
           0.3333333333333333,
           "rgb(123, 188, 176)"
          ],
          [
           0.5,
           "rgb(85, 156, 158)"
          ],
          [
           0.6666666666666666,
           "rgb(58, 124, 137)"
          ],
          [
           0.8333333333333334,
           "rgb(35, 93, 114)"
          ],
          [
           1,
           "rgb(18, 63, 90)"
          ]
         ]
        },
        "legend": {
         "tracegroupgap": 0
        },
        "template": {
         "data": {
          "bar": [
           {
            "error_x": {
             "color": "#2a3f5f"
            },
            "error_y": {
             "color": "#2a3f5f"
            },
            "marker": {
             "line": {
              "color": "#E5ECF6",
              "width": 0.5
             },
             "pattern": {
              "fillmode": "overlay",
              "size": 10,
              "solidity": 0.2
             }
            },
            "type": "bar"
           }
          ],
          "barpolar": [
           {
            "marker": {
             "line": {
              "color": "#E5ECF6",
              "width": 0.5
             },
             "pattern": {
              "fillmode": "overlay",
              "size": 10,
              "solidity": 0.2
             }
            },
            "type": "barpolar"
           }
          ],
          "carpet": [
           {
            "aaxis": {
             "endlinecolor": "#2a3f5f",
             "gridcolor": "white",
             "linecolor": "white",
             "minorgridcolor": "white",
             "startlinecolor": "#2a3f5f"
            },
            "baxis": {
             "endlinecolor": "#2a3f5f",
             "gridcolor": "white",
             "linecolor": "white",
             "minorgridcolor": "white",
             "startlinecolor": "#2a3f5f"
            },
            "type": "carpet"
           }
          ],
          "choropleth": [
           {
            "colorbar": {
             "outlinewidth": 0,
             "ticks": ""
            },
            "type": "choropleth"
           }
          ],
          "contour": [
           {
            "colorbar": {
             "outlinewidth": 0,
             "ticks": ""
            },
            "colorscale": [
             [
              0,
              "#0d0887"
             ],
             [
              0.1111111111111111,
              "#46039f"
             ],
             [
              0.2222222222222222,
              "#7201a8"
             ],
             [
              0.3333333333333333,
              "#9c179e"
             ],
             [
              0.4444444444444444,
              "#bd3786"
             ],
             [
              0.5555555555555556,
              "#d8576b"
             ],
             [
              0.6666666666666666,
              "#ed7953"
             ],
             [
              0.7777777777777778,
              "#fb9f3a"
             ],
             [
              0.8888888888888888,
              "#fdca26"
             ],
             [
              1,
              "#f0f921"
             ]
            ],
            "type": "contour"
           }
          ],
          "contourcarpet": [
           {
            "colorbar": {
             "outlinewidth": 0,
             "ticks": ""
            },
            "type": "contourcarpet"
           }
          ],
          "heatmap": [
           {
            "colorbar": {
             "outlinewidth": 0,
             "ticks": ""
            },
            "colorscale": [
             [
              0,
              "#0d0887"
             ],
             [
              0.1111111111111111,
              "#46039f"
             ],
             [
              0.2222222222222222,
              "#7201a8"
             ],
             [
              0.3333333333333333,
              "#9c179e"
             ],
             [
              0.4444444444444444,
              "#bd3786"
             ],
             [
              0.5555555555555556,
              "#d8576b"
             ],
             [
              0.6666666666666666,
              "#ed7953"
             ],
             [
              0.7777777777777778,
              "#fb9f3a"
             ],
             [
              0.8888888888888888,
              "#fdca26"
             ],
             [
              1,
              "#f0f921"
             ]
            ],
            "type": "heatmap"
           }
          ],
          "heatmapgl": [
           {
            "colorbar": {
             "outlinewidth": 0,
             "ticks": ""
            },
            "colorscale": [
             [
              0,
              "#0d0887"
             ],
             [
              0.1111111111111111,
              "#46039f"
             ],
             [
              0.2222222222222222,
              "#7201a8"
             ],
             [
              0.3333333333333333,
              "#9c179e"
             ],
             [
              0.4444444444444444,
              "#bd3786"
             ],
             [
              0.5555555555555556,
              "#d8576b"
             ],
             [
              0.6666666666666666,
              "#ed7953"
             ],
             [
              0.7777777777777778,
              "#fb9f3a"
             ],
             [
              0.8888888888888888,
              "#fdca26"
             ],
             [
              1,
              "#f0f921"
             ]
            ],
            "type": "heatmapgl"
           }
          ],
          "histogram": [
           {
            "marker": {
             "pattern": {
              "fillmode": "overlay",
              "size": 10,
              "solidity": 0.2
             }
            },
            "type": "histogram"
           }
          ],
          "histogram2d": [
           {
            "colorbar": {
             "outlinewidth": 0,
             "ticks": ""
            },
            "colorscale": [
             [
              0,
              "#0d0887"
             ],
             [
              0.1111111111111111,
              "#46039f"
             ],
             [
              0.2222222222222222,
              "#7201a8"
             ],
             [
              0.3333333333333333,
              "#9c179e"
             ],
             [
              0.4444444444444444,
              "#bd3786"
             ],
             [
              0.5555555555555556,
              "#d8576b"
             ],
             [
              0.6666666666666666,
              "#ed7953"
             ],
             [
              0.7777777777777778,
              "#fb9f3a"
             ],
             [
              0.8888888888888888,
              "#fdca26"
             ],
             [
              1,
              "#f0f921"
             ]
            ],
            "type": "histogram2d"
           }
          ],
          "histogram2dcontour": [
           {
            "colorbar": {
             "outlinewidth": 0,
             "ticks": ""
            },
            "colorscale": [
             [
              0,
              "#0d0887"
             ],
             [
              0.1111111111111111,
              "#46039f"
             ],
             [
              0.2222222222222222,
              "#7201a8"
             ],
             [
              0.3333333333333333,
              "#9c179e"
             ],
             [
              0.4444444444444444,
              "#bd3786"
             ],
             [
              0.5555555555555556,
              "#d8576b"
             ],
             [
              0.6666666666666666,
              "#ed7953"
             ],
             [
              0.7777777777777778,
              "#fb9f3a"
             ],
             [
              0.8888888888888888,
              "#fdca26"
             ],
             [
              1,
              "#f0f921"
             ]
            ],
            "type": "histogram2dcontour"
           }
          ],
          "mesh3d": [
           {
            "colorbar": {
             "outlinewidth": 0,
             "ticks": ""
            },
            "type": "mesh3d"
           }
          ],
          "parcoords": [
           {
            "line": {
             "colorbar": {
              "outlinewidth": 0,
              "ticks": ""
             }
            },
            "type": "parcoords"
           }
          ],
          "pie": [
           {
            "automargin": true,
            "type": "pie"
           }
          ],
          "scatter": [
           {
            "fillpattern": {
             "fillmode": "overlay",
             "size": 10,
             "solidity": 0.2
            },
            "type": "scatter"
           }
          ],
          "scatter3d": [
           {
            "line": {
             "colorbar": {
              "outlinewidth": 0,
              "ticks": ""
             }
            },
            "marker": {
             "colorbar": {
              "outlinewidth": 0,
              "ticks": ""
             }
            },
            "type": "scatter3d"
           }
          ],
          "scattercarpet": [
           {
            "marker": {
             "colorbar": {
              "outlinewidth": 0,
              "ticks": ""
             }
            },
            "type": "scattercarpet"
           }
          ],
          "scattergeo": [
           {
            "marker": {
             "colorbar": {
              "outlinewidth": 0,
              "ticks": ""
             }
            },
            "type": "scattergeo"
           }
          ],
          "scattergl": [
           {
            "marker": {
             "colorbar": {
              "outlinewidth": 0,
              "ticks": ""
             }
            },
            "type": "scattergl"
           }
          ],
          "scattermapbox": [
           {
            "marker": {
             "colorbar": {
              "outlinewidth": 0,
              "ticks": ""
             }
            },
            "type": "scattermapbox"
           }
          ],
          "scatterpolar": [
           {
            "marker": {
             "colorbar": {
              "outlinewidth": 0,
              "ticks": ""
             }
            },
            "type": "scatterpolar"
           }
          ],
          "scatterpolargl": [
           {
            "marker": {
             "colorbar": {
              "outlinewidth": 0,
              "ticks": ""
             }
            },
            "type": "scatterpolargl"
           }
          ],
          "scatterternary": [
           {
            "marker": {
             "colorbar": {
              "outlinewidth": 0,
              "ticks": ""
             }
            },
            "type": "scatterternary"
           }
          ],
          "surface": [
           {
            "colorbar": {
             "outlinewidth": 0,
             "ticks": ""
            },
            "colorscale": [
             [
              0,
              "#0d0887"
             ],
             [
              0.1111111111111111,
              "#46039f"
             ],
             [
              0.2222222222222222,
              "#7201a8"
             ],
             [
              0.3333333333333333,
              "#9c179e"
             ],
             [
              0.4444444444444444,
              "#bd3786"
             ],
             [
              0.5555555555555556,
              "#d8576b"
             ],
             [
              0.6666666666666666,
              "#ed7953"
             ],
             [
              0.7777777777777778,
              "#fb9f3a"
             ],
             [
              0.8888888888888888,
              "#fdca26"
             ],
             [
              1,
              "#f0f921"
             ]
            ],
            "type": "surface"
           }
          ],
          "table": [
           {
            "cells": {
             "fill": {
              "color": "#EBF0F8"
             },
             "line": {
              "color": "white"
             }
            },
            "header": {
             "fill": {
              "color": "#C8D4E3"
             },
             "line": {
              "color": "white"
             }
            },
            "type": "table"
           }
          ]
         },
         "layout": {
          "annotationdefaults": {
           "arrowcolor": "#2a3f5f",
           "arrowhead": 0,
           "arrowwidth": 1
          },
          "autotypenumbers": "strict",
          "coloraxis": {
           "colorbar": {
            "outlinewidth": 0,
            "ticks": ""
           }
          },
          "colorscale": {
           "diverging": [
            [
             0,
             "#8e0152"
            ],
            [
             0.1,
             "#c51b7d"
            ],
            [
             0.2,
             "#de77ae"
            ],
            [
             0.3,
             "#f1b6da"
            ],
            [
             0.4,
             "#fde0ef"
            ],
            [
             0.5,
             "#f7f7f7"
            ],
            [
             0.6,
             "#e6f5d0"
            ],
            [
             0.7,
             "#b8e186"
            ],
            [
             0.8,
             "#7fbc41"
            ],
            [
             0.9,
             "#4d9221"
            ],
            [
             1,
             "#276419"
            ]
           ],
           "sequential": [
            [
             0,
             "#0d0887"
            ],
            [
             0.1111111111111111,
             "#46039f"
            ],
            [
             0.2222222222222222,
             "#7201a8"
            ],
            [
             0.3333333333333333,
             "#9c179e"
            ],
            [
             0.4444444444444444,
             "#bd3786"
            ],
            [
             0.5555555555555556,
             "#d8576b"
            ],
            [
             0.6666666666666666,
             "#ed7953"
            ],
            [
             0.7777777777777778,
             "#fb9f3a"
            ],
            [
             0.8888888888888888,
             "#fdca26"
            ],
            [
             1,
             "#f0f921"
            ]
           ],
           "sequentialminus": [
            [
             0,
             "#0d0887"
            ],
            [
             0.1111111111111111,
             "#46039f"
            ],
            [
             0.2222222222222222,
             "#7201a8"
            ],
            [
             0.3333333333333333,
             "#9c179e"
            ],
            [
             0.4444444444444444,
             "#bd3786"
            ],
            [
             0.5555555555555556,
             "#d8576b"
            ],
            [
             0.6666666666666666,
             "#ed7953"
            ],
            [
             0.7777777777777778,
             "#fb9f3a"
            ],
            [
             0.8888888888888888,
             "#fdca26"
            ],
            [
             1,
             "#f0f921"
            ]
           ]
          },
          "colorway": [
           "#636efa",
           "#EF553B",
           "#00cc96",
           "#ab63fa",
           "#FFA15A",
           "#19d3f3",
           "#FF6692",
           "#B6E880",
           "#FF97FF",
           "#FECB52"
          ],
          "font": {
           "color": "#2a3f5f"
          },
          "geo": {
           "bgcolor": "white",
           "lakecolor": "white",
           "landcolor": "#E5ECF6",
           "showlakes": true,
           "showland": true,
           "subunitcolor": "white"
          },
          "hoverlabel": {
           "align": "left"
          },
          "hovermode": "closest",
          "mapbox": {
           "style": "light"
          },
          "paper_bgcolor": "white",
          "plot_bgcolor": "#E5ECF6",
          "polar": {
           "angularaxis": {
            "gridcolor": "white",
            "linecolor": "white",
            "ticks": ""
           },
           "bgcolor": "#E5ECF6",
           "radialaxis": {
            "gridcolor": "white",
            "linecolor": "white",
            "ticks": ""
           }
          },
          "scene": {
           "xaxis": {
            "backgroundcolor": "#E5ECF6",
            "gridcolor": "white",
            "gridwidth": 2,
            "linecolor": "white",
            "showbackground": true,
            "ticks": "",
            "zerolinecolor": "white"
           },
           "yaxis": {
            "backgroundcolor": "#E5ECF6",
            "gridcolor": "white",
            "gridwidth": 2,
            "linecolor": "white",
            "showbackground": true,
            "ticks": "",
            "zerolinecolor": "white"
           },
           "zaxis": {
            "backgroundcolor": "#E5ECF6",
            "gridcolor": "white",
            "gridwidth": 2,
            "linecolor": "white",
            "showbackground": true,
            "ticks": "",
            "zerolinecolor": "white"
           }
          },
          "shapedefaults": {
           "line": {
            "color": "#2a3f5f"
           }
          },
          "ternary": {
           "aaxis": {
            "gridcolor": "white",
            "linecolor": "white",
            "ticks": ""
           },
           "baxis": {
            "gridcolor": "white",
            "linecolor": "white",
            "ticks": ""
           },
           "bgcolor": "#E5ECF6",
           "caxis": {
            "gridcolor": "white",
            "linecolor": "white",
            "ticks": ""
           }
          },
          "title": {
           "x": 0.05
          },
          "xaxis": {
           "automargin": true,
           "gridcolor": "white",
           "linecolor": "white",
           "ticks": "",
           "title": {
            "standoff": 15
           },
           "zerolinecolor": "white",
           "zerolinewidth": 2
          },
          "yaxis": {
           "automargin": true,
           "gridcolor": "white",
           "linecolor": "white",
           "ticks": "",
           "title": {
            "standoff": 15
           },
           "zerolinecolor": "white",
           "zerolinewidth": 2
          }
         }
        },
        "title": {
         "text": "Cantidad de estudiantes que obtienen un puntaje mayor a 359 de acuerdo con el departamento"
        },
        "xaxis": {
         "anchor": "y",
         "domain": [
          0,
          1
         ],
         "title": {
          "text": "Cantidad de estudiantes"
         }
        },
        "yaxis": {
         "anchor": "x",
         "domain": [
          0,
          1
         ],
         "title": {
          "text": "Departamento"
         }
        }
       }
      }
     },
     "metadata": {},
     "output_type": "display_data"
    }
   ],
   "source": [
    "# crear un dataframe con los datos\n",
    "puntaje = viz['punt_global'].loc[viz['punt_global'] > 359].groupby(viz['estu_depto_reside']).count().sort_values(ascending=False)\n",
    "puntaje = pd.DataFrame(puntaje)\n",
    "puntaje = puntaje.reset_index()\n",
    "puntaje = puntaje.rename(columns={'estu_depto_reside': 'Departamento', 'punt_global': 'Cantidad de estudiantes'})\n",
    "puntaje = puntaje.sort_values(by=['Cantidad de estudiantes'], ascending=False)\n",
    "puntaje = puntaje.reset_index()\n",
    "puntaje = puntaje.drop(['index'], axis=1)\n",
    "puntaje = puntaje.drop([0], axis=0)\n",
    "puntaje = puntaje.reset_index()\n",
    "\n",
    "# Graficar gráfica de barras horizontales\n",
    "fig = px.bar(\n",
    "    puntaje,\n",
    "    y='Departamento',\n",
    "    x='Cantidad de estudiantes',\n",
    "    color='Cantidad de estudiantes',\n",
    "    color_continuous_scale='darkmint',\n",
    "    orientation='h',\n",
    "    title='Cantidad de estudiantes que obtienen un puntaje mayor a 359 de acuerdo con el departamento',\n",
    "    labels={'Cantidad de estudiantes': 'Cantidad de estudiantes'}\n",
    ")\n",
    "\n",
    "fig.show()\n"
   ]
  },
  {
   "cell_type": "code",
   "execution_count": 24,
   "metadata": {},
   "outputs": [
    {
     "data": {
      "application/vnd.plotly.v1+json": {
       "config": {
        "plotlyServerURL": "https://plot.ly"
       },
       "data": [
        {
         "alignmentgroup": "True",
         "hovertemplate": "Cantidad de estudiantes=%{marker.color}<br>Estrato=%{y}<extra></extra>",
         "legendgroup": "",
         "marker": {
          "color": [
           5088,
           3526,
           2124,
           1280,
           498,
           136
          ],
          "coloraxis": "coloraxis",
          "pattern": {
           "shape": ""
          }
         },
         "name": "",
         "offsetgroup": "",
         "orientation": "h",
         "showlegend": false,
         "textposition": "auto",
         "type": "bar",
         "x": [
          5088,
          3526,
          2124,
          1280,
          498,
          136
         ],
         "xaxis": "x",
         "y": [
          "Estrato 2",
          "Estrato 4",
          "Estrato 1",
          "Estrato 5",
          "Estrato 6",
          "Sin estrato"
         ],
         "yaxis": "y"
        }
       ],
       "layout": {
        "barmode": "relative",
        "coloraxis": {
         "colorbar": {
          "title": {
           "text": "Cantidad de estudiantes"
          }
         },
         "colorscale": [
          [
           0,
           "rgb(210, 251, 212)"
          ],
          [
           0.16666666666666666,
           "rgb(165, 219, 194)"
          ],
          [
           0.3333333333333333,
           "rgb(123, 188, 176)"
          ],
          [
           0.5,
           "rgb(85, 156, 158)"
          ],
          [
           0.6666666666666666,
           "rgb(58, 124, 137)"
          ],
          [
           0.8333333333333334,
           "rgb(35, 93, 114)"
          ],
          [
           1,
           "rgb(18, 63, 90)"
          ]
         ]
        },
        "legend": {
         "tracegroupgap": 0
        },
        "template": {
         "data": {
          "bar": [
           {
            "error_x": {
             "color": "#2a3f5f"
            },
            "error_y": {
             "color": "#2a3f5f"
            },
            "marker": {
             "line": {
              "color": "#E5ECF6",
              "width": 0.5
             },
             "pattern": {
              "fillmode": "overlay",
              "size": 10,
              "solidity": 0.2
             }
            },
            "type": "bar"
           }
          ],
          "barpolar": [
           {
            "marker": {
             "line": {
              "color": "#E5ECF6",
              "width": 0.5
             },
             "pattern": {
              "fillmode": "overlay",
              "size": 10,
              "solidity": 0.2
             }
            },
            "type": "barpolar"
           }
          ],
          "carpet": [
           {
            "aaxis": {
             "endlinecolor": "#2a3f5f",
             "gridcolor": "white",
             "linecolor": "white",
             "minorgridcolor": "white",
             "startlinecolor": "#2a3f5f"
            },
            "baxis": {
             "endlinecolor": "#2a3f5f",
             "gridcolor": "white",
             "linecolor": "white",
             "minorgridcolor": "white",
             "startlinecolor": "#2a3f5f"
            },
            "type": "carpet"
           }
          ],
          "choropleth": [
           {
            "colorbar": {
             "outlinewidth": 0,
             "ticks": ""
            },
            "type": "choropleth"
           }
          ],
          "contour": [
           {
            "colorbar": {
             "outlinewidth": 0,
             "ticks": ""
            },
            "colorscale": [
             [
              0,
              "#0d0887"
             ],
             [
              0.1111111111111111,
              "#46039f"
             ],
             [
              0.2222222222222222,
              "#7201a8"
             ],
             [
              0.3333333333333333,
              "#9c179e"
             ],
             [
              0.4444444444444444,
              "#bd3786"
             ],
             [
              0.5555555555555556,
              "#d8576b"
             ],
             [
              0.6666666666666666,
              "#ed7953"
             ],
             [
              0.7777777777777778,
              "#fb9f3a"
             ],
             [
              0.8888888888888888,
              "#fdca26"
             ],
             [
              1,
              "#f0f921"
             ]
            ],
            "type": "contour"
           }
          ],
          "contourcarpet": [
           {
            "colorbar": {
             "outlinewidth": 0,
             "ticks": ""
            },
            "type": "contourcarpet"
           }
          ],
          "heatmap": [
           {
            "colorbar": {
             "outlinewidth": 0,
             "ticks": ""
            },
            "colorscale": [
             [
              0,
              "#0d0887"
             ],
             [
              0.1111111111111111,
              "#46039f"
             ],
             [
              0.2222222222222222,
              "#7201a8"
             ],
             [
              0.3333333333333333,
              "#9c179e"
             ],
             [
              0.4444444444444444,
              "#bd3786"
             ],
             [
              0.5555555555555556,
              "#d8576b"
             ],
             [
              0.6666666666666666,
              "#ed7953"
             ],
             [
              0.7777777777777778,
              "#fb9f3a"
             ],
             [
              0.8888888888888888,
              "#fdca26"
             ],
             [
              1,
              "#f0f921"
             ]
            ],
            "type": "heatmap"
           }
          ],
          "heatmapgl": [
           {
            "colorbar": {
             "outlinewidth": 0,
             "ticks": ""
            },
            "colorscale": [
             [
              0,
              "#0d0887"
             ],
             [
              0.1111111111111111,
              "#46039f"
             ],
             [
              0.2222222222222222,
              "#7201a8"
             ],
             [
              0.3333333333333333,
              "#9c179e"
             ],
             [
              0.4444444444444444,
              "#bd3786"
             ],
             [
              0.5555555555555556,
              "#d8576b"
             ],
             [
              0.6666666666666666,
              "#ed7953"
             ],
             [
              0.7777777777777778,
              "#fb9f3a"
             ],
             [
              0.8888888888888888,
              "#fdca26"
             ],
             [
              1,
              "#f0f921"
             ]
            ],
            "type": "heatmapgl"
           }
          ],
          "histogram": [
           {
            "marker": {
             "pattern": {
              "fillmode": "overlay",
              "size": 10,
              "solidity": 0.2
             }
            },
            "type": "histogram"
           }
          ],
          "histogram2d": [
           {
            "colorbar": {
             "outlinewidth": 0,
             "ticks": ""
            },
            "colorscale": [
             [
              0,
              "#0d0887"
             ],
             [
              0.1111111111111111,
              "#46039f"
             ],
             [
              0.2222222222222222,
              "#7201a8"
             ],
             [
              0.3333333333333333,
              "#9c179e"
             ],
             [
              0.4444444444444444,
              "#bd3786"
             ],
             [
              0.5555555555555556,
              "#d8576b"
             ],
             [
              0.6666666666666666,
              "#ed7953"
             ],
             [
              0.7777777777777778,
              "#fb9f3a"
             ],
             [
              0.8888888888888888,
              "#fdca26"
             ],
             [
              1,
              "#f0f921"
             ]
            ],
            "type": "histogram2d"
           }
          ],
          "histogram2dcontour": [
           {
            "colorbar": {
             "outlinewidth": 0,
             "ticks": ""
            },
            "colorscale": [
             [
              0,
              "#0d0887"
             ],
             [
              0.1111111111111111,
              "#46039f"
             ],
             [
              0.2222222222222222,
              "#7201a8"
             ],
             [
              0.3333333333333333,
              "#9c179e"
             ],
             [
              0.4444444444444444,
              "#bd3786"
             ],
             [
              0.5555555555555556,
              "#d8576b"
             ],
             [
              0.6666666666666666,
              "#ed7953"
             ],
             [
              0.7777777777777778,
              "#fb9f3a"
             ],
             [
              0.8888888888888888,
              "#fdca26"
             ],
             [
              1,
              "#f0f921"
             ]
            ],
            "type": "histogram2dcontour"
           }
          ],
          "mesh3d": [
           {
            "colorbar": {
             "outlinewidth": 0,
             "ticks": ""
            },
            "type": "mesh3d"
           }
          ],
          "parcoords": [
           {
            "line": {
             "colorbar": {
              "outlinewidth": 0,
              "ticks": ""
             }
            },
            "type": "parcoords"
           }
          ],
          "pie": [
           {
            "automargin": true,
            "type": "pie"
           }
          ],
          "scatter": [
           {
            "fillpattern": {
             "fillmode": "overlay",
             "size": 10,
             "solidity": 0.2
            },
            "type": "scatter"
           }
          ],
          "scatter3d": [
           {
            "line": {
             "colorbar": {
              "outlinewidth": 0,
              "ticks": ""
             }
            },
            "marker": {
             "colorbar": {
              "outlinewidth": 0,
              "ticks": ""
             }
            },
            "type": "scatter3d"
           }
          ],
          "scattercarpet": [
           {
            "marker": {
             "colorbar": {
              "outlinewidth": 0,
              "ticks": ""
             }
            },
            "type": "scattercarpet"
           }
          ],
          "scattergeo": [
           {
            "marker": {
             "colorbar": {
              "outlinewidth": 0,
              "ticks": ""
             }
            },
            "type": "scattergeo"
           }
          ],
          "scattergl": [
           {
            "marker": {
             "colorbar": {
              "outlinewidth": 0,
              "ticks": ""
             }
            },
            "type": "scattergl"
           }
          ],
          "scattermapbox": [
           {
            "marker": {
             "colorbar": {
              "outlinewidth": 0,
              "ticks": ""
             }
            },
            "type": "scattermapbox"
           }
          ],
          "scatterpolar": [
           {
            "marker": {
             "colorbar": {
              "outlinewidth": 0,
              "ticks": ""
             }
            },
            "type": "scatterpolar"
           }
          ],
          "scatterpolargl": [
           {
            "marker": {
             "colorbar": {
              "outlinewidth": 0,
              "ticks": ""
             }
            },
            "type": "scatterpolargl"
           }
          ],
          "scatterternary": [
           {
            "marker": {
             "colorbar": {
              "outlinewidth": 0,
              "ticks": ""
             }
            },
            "type": "scatterternary"
           }
          ],
          "surface": [
           {
            "colorbar": {
             "outlinewidth": 0,
             "ticks": ""
            },
            "colorscale": [
             [
              0,
              "#0d0887"
             ],
             [
              0.1111111111111111,
              "#46039f"
             ],
             [
              0.2222222222222222,
              "#7201a8"
             ],
             [
              0.3333333333333333,
              "#9c179e"
             ],
             [
              0.4444444444444444,
              "#bd3786"
             ],
             [
              0.5555555555555556,
              "#d8576b"
             ],
             [
              0.6666666666666666,
              "#ed7953"
             ],
             [
              0.7777777777777778,
              "#fb9f3a"
             ],
             [
              0.8888888888888888,
              "#fdca26"
             ],
             [
              1,
              "#f0f921"
             ]
            ],
            "type": "surface"
           }
          ],
          "table": [
           {
            "cells": {
             "fill": {
              "color": "#EBF0F8"
             },
             "line": {
              "color": "white"
             }
            },
            "header": {
             "fill": {
              "color": "#C8D4E3"
             },
             "line": {
              "color": "white"
             }
            },
            "type": "table"
           }
          ]
         },
         "layout": {
          "annotationdefaults": {
           "arrowcolor": "#2a3f5f",
           "arrowhead": 0,
           "arrowwidth": 1
          },
          "autotypenumbers": "strict",
          "coloraxis": {
           "colorbar": {
            "outlinewidth": 0,
            "ticks": ""
           }
          },
          "colorscale": {
           "diverging": [
            [
             0,
             "#8e0152"
            ],
            [
             0.1,
             "#c51b7d"
            ],
            [
             0.2,
             "#de77ae"
            ],
            [
             0.3,
             "#f1b6da"
            ],
            [
             0.4,
             "#fde0ef"
            ],
            [
             0.5,
             "#f7f7f7"
            ],
            [
             0.6,
             "#e6f5d0"
            ],
            [
             0.7,
             "#b8e186"
            ],
            [
             0.8,
             "#7fbc41"
            ],
            [
             0.9,
             "#4d9221"
            ],
            [
             1,
             "#276419"
            ]
           ],
           "sequential": [
            [
             0,
             "#0d0887"
            ],
            [
             0.1111111111111111,
             "#46039f"
            ],
            [
             0.2222222222222222,
             "#7201a8"
            ],
            [
             0.3333333333333333,
             "#9c179e"
            ],
            [
             0.4444444444444444,
             "#bd3786"
            ],
            [
             0.5555555555555556,
             "#d8576b"
            ],
            [
             0.6666666666666666,
             "#ed7953"
            ],
            [
             0.7777777777777778,
             "#fb9f3a"
            ],
            [
             0.8888888888888888,
             "#fdca26"
            ],
            [
             1,
             "#f0f921"
            ]
           ],
           "sequentialminus": [
            [
             0,
             "#0d0887"
            ],
            [
             0.1111111111111111,
             "#46039f"
            ],
            [
             0.2222222222222222,
             "#7201a8"
            ],
            [
             0.3333333333333333,
             "#9c179e"
            ],
            [
             0.4444444444444444,
             "#bd3786"
            ],
            [
             0.5555555555555556,
             "#d8576b"
            ],
            [
             0.6666666666666666,
             "#ed7953"
            ],
            [
             0.7777777777777778,
             "#fb9f3a"
            ],
            [
             0.8888888888888888,
             "#fdca26"
            ],
            [
             1,
             "#f0f921"
            ]
           ]
          },
          "colorway": [
           "#636efa",
           "#EF553B",
           "#00cc96",
           "#ab63fa",
           "#FFA15A",
           "#19d3f3",
           "#FF6692",
           "#B6E880",
           "#FF97FF",
           "#FECB52"
          ],
          "font": {
           "color": "#2a3f5f"
          },
          "geo": {
           "bgcolor": "white",
           "lakecolor": "white",
           "landcolor": "#E5ECF6",
           "showlakes": true,
           "showland": true,
           "subunitcolor": "white"
          },
          "hoverlabel": {
           "align": "left"
          },
          "hovermode": "closest",
          "mapbox": {
           "style": "light"
          },
          "paper_bgcolor": "white",
          "plot_bgcolor": "#E5ECF6",
          "polar": {
           "angularaxis": {
            "gridcolor": "white",
            "linecolor": "white",
            "ticks": ""
           },
           "bgcolor": "#E5ECF6",
           "radialaxis": {
            "gridcolor": "white",
            "linecolor": "white",
            "ticks": ""
           }
          },
          "scene": {
           "xaxis": {
            "backgroundcolor": "#E5ECF6",
            "gridcolor": "white",
            "gridwidth": 2,
            "linecolor": "white",
            "showbackground": true,
            "ticks": "",
            "zerolinecolor": "white"
           },
           "yaxis": {
            "backgroundcolor": "#E5ECF6",
            "gridcolor": "white",
            "gridwidth": 2,
            "linecolor": "white",
            "showbackground": true,
            "ticks": "",
            "zerolinecolor": "white"
           },
           "zaxis": {
            "backgroundcolor": "#E5ECF6",
            "gridcolor": "white",
            "gridwidth": 2,
            "linecolor": "white",
            "showbackground": true,
            "ticks": "",
            "zerolinecolor": "white"
           }
          },
          "shapedefaults": {
           "line": {
            "color": "#2a3f5f"
           }
          },
          "ternary": {
           "aaxis": {
            "gridcolor": "white",
            "linecolor": "white",
            "ticks": ""
           },
           "baxis": {
            "gridcolor": "white",
            "linecolor": "white",
            "ticks": ""
           },
           "bgcolor": "#E5ECF6",
           "caxis": {
            "gridcolor": "white",
            "linecolor": "white",
            "ticks": ""
           }
          },
          "title": {
           "x": 0.05
          },
          "xaxis": {
           "automargin": true,
           "gridcolor": "white",
           "linecolor": "white",
           "ticks": "",
           "title": {
            "standoff": 15
           },
           "zerolinecolor": "white",
           "zerolinewidth": 2
          },
          "yaxis": {
           "automargin": true,
           "gridcolor": "white",
           "linecolor": "white",
           "ticks": "",
           "title": {
            "standoff": 15
           },
           "zerolinecolor": "white",
           "zerolinewidth": 2
          }
         }
        },
        "title": {
         "text": "Cantidad de estudiantes que obtienen un puntaje mayor a 359 de acuerdo con el estrato"
        },
        "xaxis": {
         "anchor": "y",
         "domain": [
          0,
          1
         ],
         "title": {
          "text": "Cantidad de estudiantes"
         }
        },
        "yaxis": {
         "anchor": "x",
         "domain": [
          0,
          1
         ],
         "title": {
          "text": "Estrato"
         }
        }
       }
      }
     },
     "metadata": {},
     "output_type": "display_data"
    }
   ],
   "source": [
    "# Hacer lo mismo pero para estrato\n",
    "estrato = viz['punt_global'].loc[viz['punt_global'] > 359].groupby(viz['fami_estratovivienda']).count().sort_values(ascending=False)\n",
    "estrato = pd.DataFrame(estrato)\n",
    "estrato = estrato.reset_index()\n",
    "estrato = estrato.rename(columns={'fami_estratovivienda': 'Estrato', 'punt_global': 'Cantidad de estudiantes'})\n",
    "estrato = estrato.sort_values(by=['Cantidad de estudiantes'], ascending=False)\n",
    "estrato = estrato.reset_index()\n",
    "estrato = estrato.drop(['index'], axis=1)\n",
    "estrato = estrato.drop([0], axis=0)\n",
    "estrato = estrato.reset_index()\n",
    "\n",
    "# Graficar gráfica de barras horizontales\n",
    "fig = px.bar(\n",
    "    estrato,\n",
    "    y='Estrato',\n",
    "    x='Cantidad de estudiantes',\n",
    "    color='Cantidad de estudiantes',\n",
    "    color_continuous_scale='darkmint',\n",
    "    orientation='h',\n",
    "    title='Cantidad de estudiantes que obtienen un puntaje mayor a 359 de acuerdo con el estrato',\n",
    "    labels={'Cantidad de estudiantes': 'Cantidad de estudiantes'}\n",
    ")\n",
    "\n",
    "fig.show()"
   ]
  },
  {
   "attachments": {},
   "cell_type": "markdown",
   "metadata": {},
   "source": [
    "## Exploración final"
   ]
  },
  {
   "cell_type": "code",
   "execution_count": 2,
   "metadata": {},
   "outputs": [],
   "source": [
    "import pandas as pd\n",
    "# Cargamos los datos del archivo CSV\n",
    "csv_path = \"resultadosicfes.csv\"\n",
    "\n",
    "column_names = [\n",
    "    \"PERIODO\", \"ESTU_TIPODOCUMENTO\", \"ESTU_CONSECUTIVO\", \"COLE_AREA_UBICACION\", \"COLE_BILINGUE\", \"COLE_CALENDARIO\",\n",
    "    \"COLE_CARACTER\", \"COLE_COD_DANE_ESTABLECIMIENTO\", \"COLE_COD_DANE_SEDE\", \"COLE_COD_DEPTO_UBICACION\",\n",
    "    \"COLE_COD_MCPIO_UBICACION\", \"COLE_CODIGO_ICFES\", \"COLE_DEPTO_UBICACION\", \"COLE_GENERO\", \"COLE_JORNADA\",\n",
    "    \"COLE_MCPIO_UBICACION\", \"COLE_NATURALEZA\", \"COLE_NOMBRE_ESTABLECIMIENTO\", \"COLE_NOMBRE_SEDE\",\n",
    "    \"COLE_SEDE_PRINCIPAL\", \"ESTU_COD_DEPTO_PRESENTACION\", \"ESTU_COD_MCPIO_PRESENTACION\", \"ESTU_COD_RESIDE_DEPTO\",\n",
    "    \"ESTU_COD_RESIDE_MCPIO\", \"ESTU_DEPTO_PRESENTACION\", \"ESTU_DEPTO_RESIDE\", \"ESTU_ESTADOINVESTIGACION\",\n",
    "    \"ESTU_ESTUDIANTE\", \"ESTU_FECHANACIMIENTO\", \"ESTU_GENERO\", \"ESTU_MCPIO_PRESENTACION\", \"ESTU_MCPIO_RESIDE\",\n",
    "    \"ESTU_NACIONALIDAD\", \"ESTU_PAIS_RESIDE\", \"ESTU_PRIVADO_LIBERTAD\", \"FAMI_CUARTOSHOGAR\", \"FAMI_EDUCACIONMADRE\",\n",
    "    \"FAMI_EDUCACIONPADRE\", \"FAMI_ESTRATOVIVIENDA\", \"FAMI_PERSONASHOGAR\", \"FAMI_TIENEAUTOMOVIL\", \"FAMI_TIENECOMPUTADOR\",\n",
    "    \"FAMI_TIENEINTERNET\", \"FAMI_TIENELAVADORA\", \"DESEMP_INGLES\", \"PUNT_INGLES\", \"PUNT_MATEMATICAS\",\n",
    "    \"PUNT_SOCIALES_CIUDADANAS\", \"PUNT_C_NATURALES\", \"PUNT_LECTURA_CRITICA\", \"PUNT_GLOBAL\"\n",
    "]\n",
    "\n",
    "df = pd.read_csv(csv_path)"
   ]
  },
  {
   "cell_type": "code",
   "execution_count": 3,
   "metadata": {},
   "outputs": [],
   "source": [
    "#ELIMINAMOS COLUMNAS INNECESARIAS\n",
    "columnas_eliminar = ['ESTU_TIPODOCUMENTO', 'ESTU_CONSECUTIVO', 'COLE_AREA_UBICACION','COLE_BILINGUE','COLE_CALENDARIO','COLE_CARACTER','COLE_COD_DANE_ESTABLECIMIENTO','COLE_COD_DANE_SEDE','COLE_COD_DEPTO_UBICACION','COLE_COD_MCPIO_UBICACION','COLE_CODIGO_ICFES','COLE_GENERO','COLE_JORNADA','COLE_MCPIO_UBICACION','COLE_NATURALEZA', 'COLE_NOMBRE_ESTABLECIMIENTO', 'COLE_NOMBRE_SEDE', 'COLE_SEDE_PRINCIPAL', 'ESTU_COD_DEPTO_PRESENTACION','ESTU_COD_MCPIO_PRESENTACION', 'ESTU_COD_RESIDE_DEPTO', 'ESTU_COD_RESIDE_MCPIO', 'ESTU_DEPTO_PRESENTACION', 'ESTU_DEPTO_RESIDE', 'ESTU_ESTADOINVESTIGACION', 'ESTU_ESTUDIANTE', 'ESTU_FECHANACIMIENTO','ESTU_MCPIO_PRESENTACION','ESTU_MCPIO_RESIDE', 'ESTU_NACIONALIDAD','ESTU_PAIS_RESIDE', 'ESTU_PRIVADO_LIBERTAD', 'DESEMP_INGLES','PUNT_INGLES','PUNT_MATEMATICAS','PUNT_SOCIALES_CIUDADANAS', 'PUNT_C_NATURALES', 'PUNT_LECTURA_CRITICA']\n",
    "\n",
    "df = df.drop(columnas_eliminar, axis=1)\n",
    "df =df.dropna()\n",
    "\n",
    "#PRIEMRA TRANSFORMACION DE DATOS\n",
    "\n",
    "mapping = {'No': 0, 'Si': 1}\n",
    "\n",
    "df['FAMI_TIENECOMPUTADOR'] = df['FAMI_TIENECOMPUTADOR'].map(mapping)\n",
    "\n",
    "df['FAMI_TIENEINTERNET'] = df['FAMI_TIENEINTERNET'].map(mapping)\n",
    "\n",
    "df['FAMI_TIENELAVADORA'] = df['FAMI_TIENELAVADORA'].map(mapping)\n",
    "\n",
    "df['FAMI_TIENEAUTOMOVIL'] = df['FAMI_TIENEAUTOMOVIL'].map(mapping)\n",
    "\n",
    "#SEGUNDA TRANSOFRMACION DE DATOS\n",
    "mappping = {'Estrato 1': 1, 'Estrato 2': 2, 'Estrato 3': 3, 'Estrato 4': 4, 'Estrato 5': 5, 'Estrato 6': 6, 'Sin estrato': 0}\n",
    "\n",
    "df['FAMI_ESTRATOVIVIENDA'] = df['FAMI_ESTRATOVIVIENDA'].map(mappping)\n",
    "\n",
    "\n",
    "#TERCERA TRANSOFRMACION DE DATOS\n",
    "\n",
    "mapppping = {'No sabe': 0,'No Aplica': 0,'Ninguno': 0, 'Primaria incompleta': 1, 'Primaria completa': 2, 'Secundaria (Bachillerato) incompleta': 3, 'Secundaria (Bachillerato) completa': 4, 'TÃ©cnica o tecnolÃ³gica incompleta': 5, 'TÃ©cnica o tecnolÃ³gica completa': 6, 'EducaciÃ³n profesional incompleta':7,'EducaciÃ³n profesional completa':8,'Postgrado':9}\n",
    "\n",
    "df['FAMI_EDUCACIONMADRE'] = df['FAMI_EDUCACIONMADRE'].map(mapppping)\n",
    "df['FAMI_EDUCACIONPADRE'] = df['FAMI_EDUCACIONPADRE'].map(mapppping)\n",
    "\n",
    "#CUARTA TRANSFORMACION DE DATOS\n",
    "\n",
    "mapeo = {'F': 0, 'M': 1}\n",
    "\n",
    "df['ESTU_GENERO'] = df['ESTU_GENERO'].map(mapeo)\n",
    "\n",
    "#QUINTA TRANSFORMACION DE DATOS\n",
    "\n",
    "mappeo = {'Uno': 1, 'Dos': 2,'Tres':3, 'Cuatro':4,'Cinco':5, 'Seis o mas':6}\n",
    "\n",
    "df['FAMI_CUARTOSHOGAR'] = df['FAMI_CUARTOSHOGAR'].map(mappeo)\n",
    "\n",
    "#SEXTA TRANSFORMACION DE DATOS\n",
    "\n",
    "mapppeo = {'1 a 2': 1, '3 a 4': 2,'5 a 6':3, '7 a 8':4,'9 o mÃ¡s':5}\n",
    "\n",
    "df['FAMI_PERSONASHOGAR'] = df['FAMI_PERSONASHOGAR'].map(mapppeo)\n",
    "\n",
    "Nuevos_nombres = ['Periodo', 'Departamento', 'Genero','Cuartos','Madre','Padre','Estrato','Conviven','Carro','Computador','Internet','Lavadora','Puntaje']\n",
    "\n",
    "df.columns = Nuevos_nombres\n",
    "\n",
    "df.drop('Departamento', axis=1, inplace=True)"
   ]
  },
  {
   "cell_type": "code",
   "execution_count": 5,
   "metadata": {},
   "outputs": [
    {
     "data": {
      "application/vnd.jupyter.widget-view+json": {
       "model_id": "356fed80ae234afd880e0b897d9755f5",
       "version_major": 2,
       "version_minor": 0
      },
      "text/plain": [
       "  0%|          | 0/1000000 [00:00<?, ?it/s]"
      ]
     },
     "metadata": {},
     "output_type": "display_data"
    },
    {
     "name": "stdout",
     "output_type": "stream",
     "text": [
      "DAG with 12 nodes and 11 edges\n",
      "['Periodo', 'Genero', 'Cuartos', 'Madre', 'Padre', 'Estrato', 'Conviven', 'Carro', 'Computador', 'Internet', 'Lavadora', 'Puntaje']\n",
      "[('Cuartos', 'Conviven'), ('Madre', 'Padre'), ('Madre', 'Puntaje'), ('Madre', 'Genero'), ('Padre', 'Estrato'), ('Estrato', 'Internet'), ('Computador', 'Carro'), ('Internet', 'Computador'), ('Internet', 'Lavadora'), ('Internet', 'Periodo'), ('Lavadora', 'Cuartos')]\n"
     ]
    },
    {
     "data": {
      "image/png": "[encoded data removed]",
      "text/plain": [
       "<Figure size 1000x700 with 1 Axes>"
      ]
     },
     "metadata": {},
     "output_type": "display_data"
    }
   ],
   "source": [
    "import dash\n",
    "from dash import dcc\n",
    "from dash import html\n",
    "from dash.dependencies import Input, Output, State\n",
    "import plotly.graph_objs as go\n",
    "import numpy as np\n",
    "from pgmpy.models import BayesianNetwork\n",
    "from pgmpy.estimators import MaximumLikelihoodEstimator, BayesianEstimator\n",
    "from pgmpy.inference import VariableElimination\n",
    "import pandas as pd\n",
    "import plotly.express as px\n",
    "import seaborn as sns\n",
    "import matplotlib.pyplot as plt\n",
    "from sklearn.model_selection import train_test_split\n",
    "from pgmpy.estimators import HillClimbSearch\n",
    "from pgmpy.estimators import K2Score\n",
    "import networkx as nx\n",
    "import matplotlib.pyplot as plt\n",
    "\n",
    "\n",
    "#SE DIVIDE EL SET EN DATOS DE TEST Y DE PRUEBA\n",
    "\n",
    "train_og, test_og = train_test_split(df, test_size=0.3)\n",
    "\n",
    "#SE CREAN AMBOS GRUPOS DE DATOS\n",
    "\n",
    "train = train_og.dropna()\n",
    "test = test_og.dropna()\n",
    "\n",
    "#NOS ASEGURAMOS DE NO TENER COLUMNAS NO DESEADAS EN NUESTRO ESTUDIO\n",
    "\n",
    "\n",
    "#CONVERTIMOS LA VARIABLE DE INTERES EN BINARIA PARA LOS DATOS DE PRUEBA Y LOS DE TEST\n",
    "\n",
    "\n",
    "train.loc[train['Puntaje'] < 359, 'Puntaje'] = 0\n",
    "train.loc[train['Puntaje'] >= 359, 'Puntaje'] = 1\n",
    "\n",
    "\n",
    "train.loc[train['Puntaje'] < 359, 'Puntaje'] = 0\n",
    "train.loc[train['Puntaje'] >= 359, 'Puntaje'] = 1\n",
    "\n",
    "#ESTABLECEMOS LOS METODOS DE PUNTAJE\n",
    "\n",
    "scoring_method = K2Score(data=df)\n",
    "esth = HillClimbSearch(data=df)\n",
    "\n",
    "\n",
    "#CREAMOS EL NUEVO MODELO UTILIZANDO PUNTAJE K2\n",
    "\n",
    "new_model = esth.estimate(\n",
    "    scoring_method=scoring_method,\n",
    "    max_indegree=1,\n",
    "    max_iter=int(1e6),black_list=(\n",
    "        tuple(['Puntaje', 'Departamento']),\n",
    "        tuple(['Puntaje', 'Genero']),\n",
    "        tuple(['Puntaje', 'Cuartos']),\n",
    "        tuple(['Puntaje', 'Madre']),\n",
    "        tuple(['Puntaje', 'Padre']),\n",
    "        tuple(['Puntaje', 'Estrato']),\n",
    "        tuple(['Puntaje', 'Conviven']),\n",
    "        tuple(['Puntaje', 'Carro']),\n",
    "        tuple(['Puntaje', 'Computador']),\n",
    "        tuple(['Puntaje', 'Internet']),\n",
    "        tuple(['Puntaje', 'Lavadora']),\n",
    "        tuple(['Puntaje', 'Puntaje']),        \n",
    "\n",
    "    ))\n",
    "\n",
    "#IMPRIMIMOS MODELO PARA VERIFICAR\n",
    "print(new_model)\n",
    "print(new_model.nodes())\n",
    "print(new_model.edges())\n",
    "\n",
    "\n",
    "\n",
    "# Definición del DAG\n",
    "nodes = ['Genero', 'Cuartos', 'Madre', 'Padre', 'Estrato', 'Conviven', 'Carro', 'Computador', 'Internet', 'Lavadora', 'Puntaje']\n",
    "edges = [('Cuartos', 'Conviven'), ('Madre', 'Padre'), ('Madre', 'Puntaje'), ('Madre', 'Genero'), ('Padre', 'Estrato'), ('Estrato', 'Internet'), ('Computador', 'Carro'), ('Internet', 'Computador'), ('Internet', 'Lavadora'), ('Lavadora', 'Cuartos')]\n",
    "\n",
    "# Creación del grafo\n",
    "G = nx.DiGraph()\n",
    "G.add_nodes_from(nodes)\n",
    "G.add_edges_from(edges)\n",
    "\n",
    "# Configuración del estilo de visualización\n",
    "plt.figure(figsize=(10, 7))\n",
    "pos = nx.spring_layout(G, k=0.5, seed=4)\n",
    "\n",
    "nx.draw_networkx_nodes(G, pos, node_size=700, node_color='green', edgecolors='black', linewidths=1.5)\n",
    "nx.draw_networkx_labels(G, pos, labels={node: node for node in G.nodes()}, font_size=10, font_color='white')\n",
    "nx.draw_networkx_edges(G, pos, arrowsize=20, edge_color='gray', width=1.5, arrowstyle='->')\n",
    "\n",
    "# Establecer límites de zoom\n",
    "\n",
    "plt.xlim(-0.7, 0.7)\n",
    "\n",
    "# Mostrar la visualización del DAG\n",
    "plt.title(\"DAG with 14 nodes and 18 edges\", fontsize=18)\n",
    "plt.axis('off')\n",
    "plt.show()\n",
    "\n"
   ]
  },
  {
   "cell_type": "code",
   "execution_count": 6,
   "metadata": {},
   "outputs": [],
   "source": [
    "# Creamos el modelo bayesiano\n",
    "model = BayesianNetwork(new_model.edges())\n",
    "\n",
    "# Estimamos las distribuciones de probabilidad usando MLE\n",
    "model.fit(train, estimator=MaximumLikelihoodEstimator)\n",
    "\n",
    "# Estimamos las distribuciones de probabilidad usando MLE y BayesianEstimator\n",
    "model.fit(train, estimator=BayesianEstimator, prior_type='BDeu', equivalent_sample_size=10)\n",
    "\n",
    "# Hacemos inferencias en el modelo bayesiano\n",
    "from pgmpy.inference import VariableElimination\n",
    "\n",
    "infer = VariableElimination(model)"
   ]
  },
  {
   "cell_type": "code",
   "execution_count": 11,
   "metadata": {},
   "outputs": [
    {
     "ename": "ValueError",
     "evalue": "too many values to unpack (expected 4)",
     "output_type": "error",
     "traceback": [
      "\u001b[0;31m---------------------------------------------------------------------------\u001b[0m",
      "\u001b[0;31mValueError\u001b[0m                                Traceback (most recent call last)",
      "\u001b[0;32m/var/folders/m6/xx2tl5h91wbf651lwjmb3f900000gn/T/ipykernel_21164/527750205.py\u001b[0m in \u001b[0;36m<module>\u001b[0;34m\u001b[0m\n\u001b[1;32m     26\u001b[0m \u001b[0;34m\u001b[0m\u001b[0m\n\u001b[1;32m     27\u001b[0m \u001b[0;31m# Calcular los porcentajes de verdaderos y falsos positivos y negativos\u001b[0m\u001b[0;34m\u001b[0m\u001b[0;34m\u001b[0m\u001b[0m\n\u001b[0;32m---> 28\u001b[0;31m \u001b[0mtn\u001b[0m\u001b[0;34m,\u001b[0m \u001b[0mfp\u001b[0m\u001b[0;34m,\u001b[0m \u001b[0mfn\u001b[0m\u001b[0;34m,\u001b[0m \u001b[0mtp\u001b[0m \u001b[0;34m=\u001b[0m \u001b[0mcm\u001b[0m\u001b[0;34m.\u001b[0m\u001b[0mravel\u001b[0m\u001b[0;34m(\u001b[0m\u001b[0;34m)\u001b[0m\u001b[0;34m\u001b[0m\u001b[0;34m\u001b[0m\u001b[0m\n\u001b[0m\u001b[1;32m     29\u001b[0m \u001b[0maccuracy\u001b[0m \u001b[0;34m=\u001b[0m \u001b[0;34m(\u001b[0m\u001b[0mtp\u001b[0m \u001b[0;34m+\u001b[0m \u001b[0mtn\u001b[0m\u001b[0;34m)\u001b[0m \u001b[0;34m/\u001b[0m \u001b[0msum\u001b[0m\u001b[0;34m(\u001b[0m\u001b[0mcm\u001b[0m\u001b[0;34m.\u001b[0m\u001b[0mravel\u001b[0m\u001b[0;34m(\u001b[0m\u001b[0;34m)\u001b[0m\u001b[0;34m)\u001b[0m\u001b[0;34m\u001b[0m\u001b[0;34m\u001b[0m\u001b[0m\n\u001b[1;32m     30\u001b[0m \u001b[0mprecision\u001b[0m \u001b[0;34m=\u001b[0m \u001b[0mtp\u001b[0m \u001b[0;34m/\u001b[0m \u001b[0;34m(\u001b[0m\u001b[0mtp\u001b[0m \u001b[0;34m+\u001b[0m \u001b[0mfp\u001b[0m\u001b[0;34m)\u001b[0m\u001b[0;34m\u001b[0m\u001b[0;34m\u001b[0m\u001b[0m\n",
      "\u001b[0;31mValueError\u001b[0m: too many values to unpack (expected 4)"
     ]
    }
   ],
   "source": [
    "# Hacer predicciones sobre los datos de prueba\n",
    "predictions = []\n",
    "for i in range(len(test)):\n",
    "    # evidence sin puntaje\n",
    "    evidence = test.iloc[i, 1:-1].to_dict()\n",
    "    prediction = infer.query(variables=['Puntaje'], evidence=evidence)\n",
    "    predictions.append(prediction)\n",
    "\n",
    "# Convertir las predicciones a valores binarios\n",
    "predictions_binary = [1 if len(prediction.values) > 1 and prediction.values[1] > 0.5 else 0 for prediction in predictions]\n",
    "if len(predictions_binary) == 1:\n",
    "    predictions_binary = [0] * len(predictions)\n",
    "\n",
    "\n",
    "# Convertir las etiquetas a una lista\n",
    "labels = test['Puntaje'].tolist()\n",
    "\n",
    "# Crear la matriz de confusión\n",
    "from sklearn.metrics import confusion_matrix\n",
    "\n",
    "# Calcular la matriz de confusión\n",
    "cm = confusion_matrix(labels, predictions_binary)\n",
    "\n",
    "# tn: true negative, fp: false positive, fn: false negative, tp: true positive\n",
    "\n",
    "# Calcular los porcentajes de verdaderos y falsos positivos y negativos\n",
    "tn, fp, fn, tp = cm.ravel()\n",
    "accuracy = (tp + tn) / sum(cm.ravel())\n",
    "precision = tp / (tp + fp)\n",
    "recall = tp / (tp + fn)\n",
    "specificity = tn / (tn + fp)\n",
    "print(\"Accuracy:\", accuracy)\n",
    "print(\"Precision:\", precision)\n",
    "print(\"Recall:\", recall)\n",
    "print(\"Specificity:\", specificity)"
   ]
  },
  {
   "cell_type": "code",
   "execution_count": null,
   "metadata": {},
   "outputs": [],
   "source": []
  }
 ],
 "metadata": {
  "kernelspec": {
   "display_name": "base",
   "language": "python",
   "name": "python3"
  },
  "language_info": {
   "codemirror_mode": {
    "name": "ipython",
    "version": 3
   },
   "file_extension": ".py",
   "mimetype": "text/x-python",
   "name": "python",
   "nbconvert_exporter": "python",
   "pygments_lexer": "ipython3",
   "version": "3.9.13"
  },
  "orig_nbformat": 4
 },
 "nbformat": 4,
 "nbformat_minor": 2
}
